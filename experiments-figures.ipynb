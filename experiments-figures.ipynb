{
 "cells": [
  {
   "cell_type": "code",
   "execution_count": 1,
   "id": "3cd3676c",
   "metadata": {},
   "outputs": [],
   "source": [
    "from src.utils.utils import get_algo_by_name, get_env_by_name\n",
    "from src.utils.save_results import get_task_name, get_metrics_information, get_results_file_name\n",
    "import numpy as np\n",
    "import time\n",
    "import os\n",
    "from datetime import date\n",
    "from tqdm import tqdm\n",
    "from tqdm.notebook import trange, tqdm\n",
    "today = date.today()\n",
    "import matplotlib.pyplot as plt\n",
    "import seaborn as sns; sns.set()\n",
    "\n",
    "def do_single_experiment(rd, settings):\n",
    "    env = get_env_by_name(settings)\n",
    "    env.set()\n",
    "    agent = get_algo_by_name(settings)\n",
    "    agent.set_environment(env)\n",
    "    metrics = agent.iterate_learning()\n",
    "    return metrics"
   ]
  },
  {
   "cell_type": "markdown",
   "id": "6c602712",
   "metadata": {},
   "source": [
    "# Blue Bus Red Bus paradox"
   ]
  },
  {
   "cell_type": "code",
   "execution_count": 3,
   "id": "756bbdc0",
   "metadata": {},
   "outputs": [],
   "source": [
    "nb_rds = 20\n",
    "max_rounds = 1000\n",
    "# nb_leaves_per_class = 10\n",
    "nb_levels = 2\n",
    "\n",
    "def do_paradox_experiment(nb_childs):\n",
    "\n",
    "    exp3_regrets = np.zeros((nb_rds, int(max_rounds/100)))\n",
    "    exp3_rewards = np.zeros((nb_rds, int(max_rounds/100)))\n",
    "    new_regrets = np.zeros((nb_rds, int(max_rounds/100)))\n",
    "    new_rewards = np.zeros((nb_rds, int(max_rounds/100)))\n",
    "\n",
    "    for rd in range(nb_rds):\n",
    "        settings = {\n",
    "            'rd': rd,\n",
    "            'max_rounds': max_rounds,\n",
    "            'nb_leaves_per_class': nb_childs,\n",
    "            'nb_levels': nb_levels,\n",
    "            'env': 'paradox',\n",
    "            'algo': 'exp3',\n",
    "        }\n",
    "        metrics = do_single_experiment(rd, settings)\n",
    "        rounds = metrics['round']\n",
    "        exp3_regrets[rd] = metrics['regret']\n",
    "        exp3_rewards[rd] = metrics['reward']\n",
    "        \n",
    "        settings['algo'] = 'new'\n",
    "        metrics = do_single_experiment(rd, settings)\n",
    "        rounds = metrics['round']\n",
    "        new_regrets[rd] = metrics['regret']\n",
    "        new_rewards[rd] = metrics['reward']\n",
    "\n",
    "    # EXP3\n",
    "    exp3_rgrt_std = np.std(exp3_regrets, axis=0)\n",
    "    exp3_rwd_std = np.std(exp3_rewards, axis=0)\n",
    "    exp3_regret = np.mean(exp3_regrets, axis=0)\n",
    "    exp3_reward = np.mean(exp3_rewards, axis=0)\n",
    "    \n",
    "    exp3_result = (exp3_regret, exp3_rgrt_std, exp3_reward, exp3_rwd_std)\n",
    "\n",
    "    # NEW\n",
    "    new_rgrt_std = np.std(new_regrets, axis=0)\n",
    "    new_rwd_std = np.std(new_rewards, axis=0)\n",
    "    new_regret = np.mean(new_regrets, axis=0) \n",
    "    new_reward = np.mean(new_rewards, axis=0)\n",
    "    \n",
    "    new_result = (new_regret, new_rgrt_std, new_reward, new_rwd_std)\n",
    "    \n",
    "    return exp3_result, new_result, list(np.array(exp3_regrets)[:,-1]), list(np.array(new_regrets)[:,-1])"
   ]
  },
  {
   "cell_type": "markdown",
   "id": "9a3f305e",
   "metadata": {},
   "source": [
    "### Perform Experiment"
   ]
  },
  {
   "cell_type": "code",
   "execution_count": 4,
   "id": "96c2358e",
   "metadata": {
    "scrolled": true
   },
   "outputs": [
    {
     "name": "stderr",
     "output_type": "stream",
     "text": [
      "100%|████████████████████████████████████| 1000/1000 [00:00<00:00, 10034.41it/s]\n",
      "100%|█████████████████████████████████████| 1000/1000 [00:00<00:00, 9936.61it/s]\n",
      "100%|████████████████████████████████████| 1000/1000 [00:00<00:00, 12572.14it/s]\n",
      "100%|████████████████████████████████████| 1000/1000 [00:00<00:00, 12448.33it/s]\n",
      "100%|████████████████████████████████████| 1000/1000 [00:00<00:00, 12793.60it/s]\n",
      "100%|████████████████████████████████████| 1000/1000 [00:00<00:00, 12672.07it/s]\n",
      "100%|████████████████████████████████████| 1000/1000 [00:00<00:00, 13113.72it/s]\n",
      "100%|█████████████████████████████████████| 1000/1000 [00:00<00:00, 9872.83it/s]\n",
      "100%|████████████████████████████████████| 1000/1000 [00:00<00:00, 13228.03it/s]\n",
      "100%|████████████████████████████████████| 1000/1000 [00:00<00:00, 10666.12it/s]\n",
      "100%|████████████████████████████████████| 1000/1000 [00:00<00:00, 12706.93it/s]\n",
      "100%|█████████████████████████████████████| 1000/1000 [00:00<00:00, 9224.76it/s]\n",
      "100%|████████████████████████████████████| 1000/1000 [00:00<00:00, 11441.78it/s]\n",
      "100%|█████████████████████████████████████| 1000/1000 [00:00<00:00, 9329.65it/s]\n",
      "100%|████████████████████████████████████| 1000/1000 [00:00<00:00, 11542.95it/s]\n",
      "100%|████████████████████████████████████| 1000/1000 [00:00<00:00, 10776.09it/s]\n",
      "100%|████████████████████████████████████| 1000/1000 [00:00<00:00, 11882.96it/s]\n",
      "100%|████████████████████████████████████| 1000/1000 [00:00<00:00, 10685.14it/s]\n",
      "100%|████████████████████████████████████| 1000/1000 [00:00<00:00, 11731.96it/s]\n",
      "100%|████████████████████████████████████| 1000/1000 [00:00<00:00, 11211.24it/s]\n",
      "100%|████████████████████████████████████| 1000/1000 [00:00<00:00, 11501.52it/s]\n",
      "100%|████████████████████████████████████| 1000/1000 [00:00<00:00, 10008.34it/s]\n",
      "100%|████████████████████████████████████| 1000/1000 [00:00<00:00, 11224.98it/s]\n",
      "100%|████████████████████████████████████| 1000/1000 [00:00<00:00, 11250.36it/s]\n",
      "100%|█████████████████████████████████████| 1000/1000 [00:00<00:00, 7696.68it/s]\n",
      "100%|█████████████████████████████████████| 1000/1000 [00:00<00:00, 6588.71it/s]\n",
      "100%|████████████████████████████████████| 1000/1000 [00:00<00:00, 10238.55it/s]\n",
      "100%|████████████████████████████████████| 1000/1000 [00:00<00:00, 10033.79it/s]\n",
      "100%|████████████████████████████████████| 1000/1000 [00:00<00:00, 13165.66it/s]\n",
      "100%|████████████████████████████████████| 1000/1000 [00:00<00:00, 12023.58it/s]\n",
      "100%|████████████████████████████████████| 1000/1000 [00:00<00:00, 12110.93it/s]\n",
      "100%|████████████████████████████████████| 1000/1000 [00:00<00:00, 10999.66it/s]\n",
      "100%|████████████████████████████████████| 1000/1000 [00:00<00:00, 10624.09it/s]\n",
      "100%|████████████████████████████████████| 1000/1000 [00:00<00:00, 10690.70it/s]\n",
      "100%|████████████████████████████████████| 1000/1000 [00:00<00:00, 10370.44it/s]\n",
      "100%|█████████████████████████████████████| 1000/1000 [00:00<00:00, 8811.12it/s]\n",
      "100%|████████████████████████████████████| 1000/1000 [00:00<00:00, 11650.13it/s]\n",
      "100%|████████████████████████████████████| 1000/1000 [00:00<00:00, 10663.82it/s]\n",
      "100%|█████████████████████████████████████| 1000/1000 [00:00<00:00, 8823.63it/s]\n",
      "100%|████████████████████████████████████| 1000/1000 [00:00<00:00, 10494.05it/s]\n",
      "100%|████████████████████████████████████| 1000/1000 [00:00<00:00, 12688.75it/s]\n",
      "100%|█████████████████████████████████████| 1000/1000 [00:00<00:00, 9447.42it/s]\n",
      "100%|████████████████████████████████████| 1000/1000 [00:00<00:00, 11631.20it/s]\n",
      "100%|████████████████████████████████████| 1000/1000 [00:00<00:00, 11682.39it/s]\n",
      "100%|████████████████████████████████████| 1000/1000 [00:00<00:00, 10930.41it/s]\n",
      "100%|█████████████████████████████████████| 1000/1000 [00:00<00:00, 9480.92it/s]\n",
      "100%|████████████████████████████████████| 1000/1000 [00:00<00:00, 11541.36it/s]\n",
      "100%|████████████████████████████████████| 1000/1000 [00:00<00:00, 11006.19it/s]\n",
      "100%|████████████████████████████████████| 1000/1000 [00:00<00:00, 11009.11it/s]\n",
      "100%|█████████████████████████████████████| 1000/1000 [00:00<00:00, 8766.92it/s]\n",
      "100%|████████████████████████████████████| 1000/1000 [00:00<00:00, 11010.32it/s]\n",
      "100%|█████████████████████████████████████| 1000/1000 [00:00<00:00, 9985.11it/s]\n",
      "100%|████████████████████████████████████| 1000/1000 [00:00<00:00, 11339.30it/s]\n",
      "100%|█████████████████████████████████████| 1000/1000 [00:00<00:00, 8332.98it/s]\n",
      "100%|████████████████████████████████████| 1000/1000 [00:00<00:00, 10767.88it/s]\n",
      "100%|████████████████████████████████████| 1000/1000 [00:00<00:00, 10253.67it/s]\n",
      "100%|████████████████████████████████████| 1000/1000 [00:00<00:00, 12556.97it/s]\n",
      "100%|████████████████████████████████████| 1000/1000 [00:00<00:00, 11327.84it/s]\n",
      "100%|████████████████████████████████████| 1000/1000 [00:00<00:00, 12104.32it/s]\n",
      "100%|████████████████████████████████████| 1000/1000 [00:00<00:00, 10713.28it/s]\n",
      "100%|████████████████████████████████████| 1000/1000 [00:00<00:00, 11146.79it/s]\n",
      "100%|█████████████████████████████████████| 1000/1000 [00:00<00:00, 9829.66it/s]\n",
      "100%|████████████████████████████████████| 1000/1000 [00:00<00:00, 11259.24it/s]\n",
      "100%|████████████████████████████████████| 1000/1000 [00:00<00:00, 11291.01it/s]\n",
      "100%|████████████████████████████████████| 1000/1000 [00:00<00:00, 12372.54it/s]\n",
      "100%|█████████████████████████████████████| 1000/1000 [00:00<00:00, 7645.15it/s]\n",
      "100%|████████████████████████████████████| 1000/1000 [00:00<00:00, 10955.65it/s]\n",
      "100%|████████████████████████████████████| 1000/1000 [00:00<00:00, 10222.33it/s]\n",
      "100%|████████████████████████████████████| 1000/1000 [00:00<00:00, 10279.93it/s]\n",
      "100%|█████████████████████████████████████| 1000/1000 [00:00<00:00, 9256.25it/s]\n",
      "100%|████████████████████████████████████| 1000/1000 [00:00<00:00, 10346.90it/s]\n",
      "100%|████████████████████████████████████| 1000/1000 [00:00<00:00, 11641.34it/s]\n",
      "100%|████████████████████████████████████| 1000/1000 [00:00<00:00, 12493.87it/s]\n",
      "100%|████████████████████████████████████| 1000/1000 [00:00<00:00, 10900.98it/s]\n",
      "100%|████████████████████████████████████| 1000/1000 [00:00<00:00, 11784.80it/s]\n",
      "100%|████████████████████████████████████| 1000/1000 [00:00<00:00, 10359.15it/s]\n",
      "100%|████████████████████████████████████| 1000/1000 [00:00<00:00, 11622.76it/s]\n",
      "100%|████████████████████████████████████| 1000/1000 [00:00<00:00, 10830.38it/s]\n",
      "100%|████████████████████████████████████| 1000/1000 [00:00<00:00, 11387.57it/s]\n",
      "100%|████████████████████████████████████| 1000/1000 [00:00<00:00, 11924.78it/s]\n",
      "100%|████████████████████████████████████| 1000/1000 [00:00<00:00, 11304.55it/s]\n",
      "100%|████████████████████████████████████| 1000/1000 [00:00<00:00, 10181.44it/s]\n",
      "100%|████████████████████████████████████| 1000/1000 [00:00<00:00, 11784.24it/s]\n",
      "100%|████████████████████████████████████| 1000/1000 [00:00<00:00, 10981.66it/s]\n",
      "100%|████████████████████████████████████| 1000/1000 [00:00<00:00, 10309.90it/s]\n",
      "100%|████████████████████████████████████| 1000/1000 [00:00<00:00, 10307.06it/s]\n",
      "100%|████████████████████████████████████| 1000/1000 [00:00<00:00, 10113.36it/s]\n",
      "100%|████████████████████████████████████| 1000/1000 [00:00<00:00, 10566.70it/s]\n",
      "100%|████████████████████████████████████| 1000/1000 [00:00<00:00, 12308.42it/s]\n",
      "100%|████████████████████████████████████| 1000/1000 [00:00<00:00, 10045.39it/s]\n",
      "100%|████████████████████████████████████| 1000/1000 [00:00<00:00, 10906.68it/s]\n",
      "100%|█████████████████████████████████████| 1000/1000 [00:00<00:00, 8550.89it/s]\n",
      "100%|████████████████████████████████████| 1000/1000 [00:00<00:00, 10129.55it/s]\n",
      "100%|█████████████████████████████████████| 1000/1000 [00:00<00:00, 8849.10it/s]\n",
      "100%|████████████████████████████████████| 1000/1000 [00:00<00:00, 10212.20it/s]\n",
      "100%|█████████████████████████████████████| 1000/1000 [00:00<00:00, 9556.86it/s]\n",
      "100%|████████████████████████████████████| 1000/1000 [00:00<00:00, 11729.66it/s]\n",
      "100%|████████████████████████████████████| 1000/1000 [00:00<00:00, 10024.36it/s]\n",
      "100%|████████████████████████████████████| 1000/1000 [00:00<00:00, 12277.19it/s]\n",
      "100%|████████████████████████████████████| 1000/1000 [00:00<00:00, 12270.68it/s]\n",
      "100%|█████████████████████████████████████| 1000/1000 [00:00<00:00, 9357.71it/s]\n"
     ]
    },
    {
     "name": "stderr",
     "output_type": "stream",
     "text": [
      "100%|█████████████████████████████████████| 1000/1000 [00:00<00:00, 8193.04it/s]\n",
      "100%|████████████████████████████████████| 1000/1000 [00:00<00:00, 11024.85it/s]\n",
      "100%|████████████████████████████████████| 1000/1000 [00:00<00:00, 10830.61it/s]\n",
      "100%|████████████████████████████████████| 1000/1000 [00:00<00:00, 11024.27it/s]\n",
      "100%|█████████████████████████████████████| 1000/1000 [00:00<00:00, 8767.71it/s]\n",
      "100%|████████████████████████████████████| 1000/1000 [00:00<00:00, 10821.47it/s]\n",
      "100%|█████████████████████████████████████| 1000/1000 [00:00<00:00, 8069.35it/s]\n",
      "100%|████████████████████████████████████| 1000/1000 [00:00<00:00, 12494.09it/s]\n",
      "100%|████████████████████████████████████| 1000/1000 [00:00<00:00, 10926.11it/s]\n",
      "100%|████████████████████████████████████| 1000/1000 [00:00<00:00, 11832.51it/s]\n",
      "100%|████████████████████████████████████| 1000/1000 [00:00<00:00, 11543.49it/s]\n",
      "100%|████████████████████████████████████| 1000/1000 [00:00<00:00, 10994.13it/s]\n",
      "100%|█████████████████████████████████████| 1000/1000 [00:00<00:00, 9007.88it/s]\n",
      "100%|████████████████████████████████████| 1000/1000 [00:00<00:00, 10116.04it/s]\n",
      "100%|█████████████████████████████████████| 1000/1000 [00:00<00:00, 9199.57it/s]\n",
      "100%|████████████████████████████████████| 1000/1000 [00:00<00:00, 10471.65it/s]\n",
      "100%|████████████████████████████████████| 1000/1000 [00:00<00:00, 10771.89it/s]\n",
      "100%|████████████████████████████████████| 1000/1000 [00:00<00:00, 10482.48it/s]\n",
      "100%|████████████████████████████████████| 1000/1000 [00:00<00:00, 12120.34it/s]\n",
      "100%|████████████████████████████████████| 1000/1000 [00:00<00:00, 11909.58it/s]\n",
      "100%|████████████████████████████████████| 1000/1000 [00:00<00:00, 10397.72it/s]\n",
      "100%|████████████████████████████████████| 1000/1000 [00:00<00:00, 11736.65it/s]\n",
      "100%|████████████████████████████████████| 1000/1000 [00:00<00:00, 11898.67it/s]\n",
      "100%|████████████████████████████████████| 1000/1000 [00:00<00:00, 10660.97it/s]\n",
      "100%|████████████████████████████████████| 1000/1000 [00:00<00:00, 10877.99it/s]\n",
      "100%|█████████████████████████████████████| 1000/1000 [00:00<00:00, 9757.60it/s]\n",
      "100%|████████████████████████████████████| 1000/1000 [00:00<00:00, 10881.89it/s]\n",
      "100%|████████████████████████████████████| 1000/1000 [00:00<00:00, 11646.06it/s]\n",
      "100%|█████████████████████████████████████| 1000/1000 [00:00<00:00, 8824.95it/s]\n",
      "100%|████████████████████████████████████| 1000/1000 [00:00<00:00, 10905.37it/s]\n",
      "100%|████████████████████████████████████| 1000/1000 [00:00<00:00, 10192.10it/s]\n",
      "100%|████████████████████████████████████| 1000/1000 [00:00<00:00, 11813.21it/s]\n",
      "100%|████████████████████████████████████| 1000/1000 [00:00<00:00, 10054.28it/s]\n",
      "100%|████████████████████████████████████| 1000/1000 [00:00<00:00, 11517.97it/s]\n",
      "100%|█████████████████████████████████████| 1000/1000 [00:00<00:00, 9696.29it/s]\n",
      "100%|█████████████████████████████████████| 1000/1000 [00:00<00:00, 9529.17it/s]\n",
      "100%|█████████████████████████████████████| 1000/1000 [00:00<00:00, 8789.59it/s]\n",
      "100%|█████████████████████████████████████| 1000/1000 [00:00<00:00, 9991.22it/s]\n",
      "100%|█████████████████████████████████████| 1000/1000 [00:00<00:00, 9191.44it/s]\n",
      "100%|█████████████████████████████████████| 1000/1000 [00:00<00:00, 8452.37it/s]\n",
      "100%|█████████████████████████████████████| 1000/1000 [00:00<00:00, 7618.47it/s]\n",
      "100%|█████████████████████████████████████| 1000/1000 [00:00<00:00, 8175.81it/s]\n",
      "100%|████████████████████████████████████| 1000/1000 [00:00<00:00, 12226.30it/s]\n",
      "100%|████████████████████████████████████| 1000/1000 [00:00<00:00, 12033.10it/s]\n",
      "100%|█████████████████████████████████████| 1000/1000 [00:00<00:00, 9269.49it/s]\n",
      "100%|████████████████████████████████████| 1000/1000 [00:00<00:00, 12905.87it/s]\n",
      "100%|████████████████████████████████████| 1000/1000 [00:00<00:00, 11011.39it/s]\n",
      "100%|█████████████████████████████████████| 1000/1000 [00:00<00:00, 8180.37it/s]\n",
      "100%|█████████████████████████████████████| 1000/1000 [00:00<00:00, 9101.16it/s]\n",
      "100%|█████████████████████████████████████| 1000/1000 [00:00<00:00, 7052.38it/s]\n",
      "100%|█████████████████████████████████████| 1000/1000 [00:00<00:00, 8802.06it/s]\n",
      "100%|█████████████████████████████████████| 1000/1000 [00:00<00:00, 8746.75it/s]\n",
      "100%|█████████████████████████████████████| 1000/1000 [00:00<00:00, 8221.40it/s]\n",
      "100%|█████████████████████████████████████| 1000/1000 [00:00<00:00, 8962.42it/s]\n",
      "100%|█████████████████████████████████████| 1000/1000 [00:00<00:00, 8191.42it/s]\n",
      "100%|█████████████████████████████████████| 1000/1000 [00:00<00:00, 9711.40it/s]\n",
      "100%|█████████████████████████████████████| 1000/1000 [00:00<00:00, 9199.21it/s]\n",
      "100%|████████████████████████████████████| 1000/1000 [00:00<00:00, 10024.46it/s]\n",
      "100%|█████████████████████████████████████| 1000/1000 [00:00<00:00, 9524.54it/s]\n"
     ]
    }
   ],
   "source": [
    "nb_childs = [2, 5, 10, 50]\n",
    "res_nexp = []\n",
    "res_exp3 = []\n",
    "res=[]\n",
    "labels=[]\n",
    "exp3_results = []\n",
    "new_results = []\n",
    "\n",
    "for nb_child in nb_childs:\n",
    "    a,b,c,d = do_paradox_experiment(nb_child)\n",
    "    res_exp3.append(list(c))\n",
    "    res_nexp.append(d)\n",
    "    res.append(c)\n",
    "    res.append(d)\n",
    "    labels.append('EXP3 - N {}'.format(nb_child))\n",
    "    labels.append('NEW - N {}'.format(nb_child))\n",
    "    exp3_results.append(a)\n",
    "    new_results.append(b)"
   ]
  },
  {
   "cell_type": "code",
   "execution_count": 5,
   "id": "523800b4",
   "metadata": {},
   "outputs": [
    {
     "data": {
      "image/png": "[encoded data removed]",
      "text/plain": [
       "<Figure size 1440x576 with 1 Axes>"
      ]
     },
     "metadata": {},
     "output_type": "display_data"
    }
   ],
   "source": [
    "plt.figure(figsize=(20,8))\n",
    "plt.boxplot(res, labels=labels)\n",
    "plt.ylabel('Regret')\n",
    "plt.title('Env - Red Bus/Blue Bus Paradox - Final Regret CIs at $T=1000$')\n",
    "\n",
    "plt.savefig('figure_bbrb_regret_slice.pdf', bbox_inches = \"tight\")\n",
    "plt.show()"
   ]
  },
  {
   "cell_type": "markdown",
   "id": "c2b0160f",
   "metadata": {},
   "source": [
    "### Plot results"
   ]
  },
  {
   "cell_type": "code",
   "execution_count": 6,
   "id": "6d05ade1",
   "metadata": {},
   "outputs": [
    {
     "data": {
      "image/png": "[encoded data removed]",
      "text/plain": [
       "<Figure size 900x400 with 1 Axes>"
      ]
     },
     "metadata": {},
     "output_type": "display_data"
    },
    {
     "data": {
      "image/png": "[encoded data removed]",
      "text/plain": [
       "<Figure size 900x400 with 1 Axes>"
      ]
     },
     "metadata": {},
     "output_type": "display_data"
    }
   ],
   "source": [
    "rounds = np.arange(1, max_rounds+1, 100)\n",
    "\n",
    "colors_exp3 = ['lightsteelblue', 'cornflowerblue', 'royalblue', '#1f77b4']\n",
    "# colors_new = ['#ff7f0e', 'tomato', 'peru', 'gold']\n",
    "colors_new = ['lightgreen', 'limegreen', 'forestgreen', 'darkgreen']\n",
    "\n",
    "nb_childs = [2, 5, 10, 50]\n",
    "markers = [\"1\", \"2\", \"3\", \"4\"]\n",
    "# markers = [\"*\", \"+\", \".\", \"v\"]\n",
    "\n",
    "\n",
    "plt.figure(figsize=(9,4), dpi= 100, facecolor='w', edgecolor='k')\n",
    "for idx, exp3_result in enumerate(exp3_results):\n",
    "    # EXP3 \n",
    "    c = colors_new[idx]\n",
    "    exp3_regret, exp3_rgrt_std, exp3_reward, exp3_rwd_std = exp3_result\n",
    "    plt.plot(rounds, exp3_regret, label='EXP3 - N {}'.format(nb_childs[idx]), color=c, linestyle='-', \n",
    "             marker=markers[idx] , markersize=12 ,markevery=0.1)\n",
    "# plt.plot(rounds, .5*rounds**(0.5), label='$t^{0.5}$', linestyle='-.')\n",
    "    \n",
    "for idx, new_result in enumerate(new_results):\n",
    "    # new\n",
    "    c = colors_new[idx]\n",
    "    new_regret, new_rgrt_std, new_reward, new_rwd_std = new_result\n",
    "    plt.plot(rounds, new_regret, label='NEW - N {}'.format(nb_childs[idx]), color=c, linestyle='--', \n",
    "             marker=markers[idx] , markersize=12 ,markevery=0.1)\n",
    "# plt.plot(rounds, .05*rounds**(1), label='$t^{1}$', linestyle='-.')\n",
    "plt.xlabel('Steps')\n",
    "plt.ylabel('Regret')\n",
    "plt.title('Env - Red Bus/Blue Bus Paradox - Regret')\n",
    "# plt.xscale('log')\n",
    "# plt.yscale('log')\n",
    "# plt.ylim(0.1, 55)\n",
    "# plt.xlim(1, 1000)\n",
    "plt.legend(ncol=2)\n",
    "plt.savefig('figure_bbrb_regret.pdf', bbox_inches = \"tight\")\n",
    "plt.show()\n",
    "\n",
    "plt.figure(figsize=(9,4), dpi= 100, facecolor='w', edgecolor='k')\n",
    "\n",
    "for idx, exp3_result in enumerate(exp3_results):\n",
    "    \n",
    "    # EXP3 \n",
    "    c = colors_new[idx]\n",
    "    exp3_regret, exp3_rgrt_std, exp3_reward, exp3_rwd_std = exp3_result\n",
    "    plt.plot(rounds, exp3_reward, label='EXP3 - N {}'.format(nb_childs[idx]), color=c, linestyle='-', \n",
    "             marker=markers[idx] , markersize=12 ,markevery=5)\n",
    "    \n",
    "for idx, new_result in enumerate(new_results):\n",
    "        \n",
    "    # new \n",
    "    c = colors_new[idx]\n",
    "    new_regret, new_rgrt_std, new_reward, new_rwd_std = new_result\n",
    "    plt.plot(rounds, new_reward, label='NEW - N {}'.format(nb_childs[idx]), color=c, linestyle='--', \n",
    "             marker=markers[idx] , markersize=12 ,markevery=5)\n",
    "      \n",
    "plt.xlabel('Steps')\n",
    "plt.ylabel('Average Reward')\n",
    "plt.title('Env - Red Bus/Blue Bus Paradox - Average Reward')\n",
    "plt.legend(ncol=2)\n",
    "plt.savefig('figure_bbrb_avg_reward.pdf', bbox_inches = \"tight\")\n",
    "\n",
    "# fig.suptitle(\"Env - Blue Bus Red Bus Paradox\", fontsize=14)\n",
    "plt.show()"
   ]
  },
  {
   "cell_type": "markdown",
   "id": "09d2750b",
   "metadata": {},
   "source": [
    "# General Trees"
   ]
  },
  {
   "cell_type": "code",
   "execution_count": 7,
   "id": "e8f5cdf5",
   "metadata": {},
   "outputs": [],
   "source": [
    "nb_rds = 20\n",
    "max_rounds = 10000\n",
    "\n",
    "def do_general_tree_experiment(nb_levels, nb_leaves_per_class):\n",
    "\n",
    "    exp3_regrets = np.zeros((nb_rds, int(max_rounds/100)))\n",
    "    exp3_rewards = np.zeros((nb_rds, int(max_rounds/100)))\n",
    "    new_regrets = np.zeros((nb_rds, int(max_rounds/100)))\n",
    "    new_rewards = np.zeros((nb_rds, int(max_rounds/100)))\n",
    "    \n",
    "    for rd in range(nb_rds):\n",
    "        settings = {\n",
    "            'rd': rd,\n",
    "            'max_rounds': max_rounds,\n",
    "            'nb_leaves_per_class': nb_leaves_per_class,\n",
    "            'nb_levels': nb_levels,\n",
    "            'env': 'general',\n",
    "            'algo': 'exp3'\n",
    "        }\n",
    "        \n",
    "        print('Running experiment with rnd seed {}, nb levels {}, nb leaves per class {}'.format(rd, nb_levels, nb_leaves_per_class))\n",
    "        \n",
    "        \n",
    "        metrics = do_single_experiment(rd, settings)\n",
    "        rounds = metrics['round']\n",
    "        exp3_regrets[rd] = metrics['regret']\n",
    "        exp3_rewards[rd] = metrics['reward']\n",
    "        \n",
    "        settings['algo'] = 'new'\n",
    "        metrics = do_single_experiment(rd, settings)\n",
    "        rounds = metrics['round']\n",
    "        new_regrets[rd] = metrics['regret']\n",
    "        new_rewards[rd] = metrics['reward']\n",
    "\n",
    "    # EXP3\n",
    "    exp3_rgrt_std = np.std(exp3_regrets, axis=0)\n",
    "    exp3_rwd_std = np.std(exp3_rewards, axis=0)\n",
    "    exp3_regret = np.mean(exp3_regrets, axis=0)\n",
    "    exp3_reward = np.mean(exp3_rewards, axis=0)\n",
    "    \n",
    "    exp3_result = (exp3_regret, exp3_rgrt_std, exp3_reward, exp3_rwd_std)\n",
    "\n",
    "    # new\n",
    "    new_rgrt_std = np.std(new_regrets, axis=0)\n",
    "    new_rwd_std = np.std(new_rewards, axis=0)\n",
    "    new_regret = np.mean(new_regrets, axis=0) \n",
    "    new_reward = np.mean(new_rewards, axis=0)\n",
    "    \n",
    "    new_result = (new_regret, new_rgrt_std, new_reward, new_rwd_std)\n",
    "    \n",
    "    return exp3_result, new_result, list(np.array(exp3_regrets)[:,-1]), list(np.array(new_regrets)[:,-1])"
   ]
  },
  {
   "cell_type": "code",
   "execution_count": null,
   "id": "a61c4b50",
   "metadata": {},
   "outputs": [
    {
     "name": "stdout",
     "output_type": "stream",
     "text": [
      "Running experiment with rnd seed 0, nb levels 2, nb leaves per class 50\n"
     ]
    },
    {
     "name": "stderr",
     "output_type": "stream",
     "text": [
      "100%|███████████████████████████████████| 10000/10000 [00:03<00:00, 3155.49it/s]\n",
      "100%|███████████████████████████████████| 10000/10000 [00:01<00:00, 6742.09it/s]\n"
     ]
    },
    {
     "name": "stdout",
     "output_type": "stream",
     "text": [
      "Running experiment with rnd seed 1, nb levels 2, nb leaves per class 50\n"
     ]
    },
    {
     "name": "stderr",
     "output_type": "stream",
     "text": [
      "100%|███████████████████████████████████| 10000/10000 [00:03<00:00, 3015.81it/s]\n",
      "100%|███████████████████████████████████| 10000/10000 [00:01<00:00, 6631.34it/s]\n"
     ]
    },
    {
     "name": "stdout",
     "output_type": "stream",
     "text": [
      "Running experiment with rnd seed 2, nb levels 2, nb leaves per class 50\n"
     ]
    },
    {
     "name": "stderr",
     "output_type": "stream",
     "text": [
      "100%|███████████████████████████████████| 10000/10000 [00:03<00:00, 3141.89it/s]\n",
      "100%|███████████████████████████████████| 10000/10000 [00:01<00:00, 6698.55it/s]\n"
     ]
    },
    {
     "name": "stdout",
     "output_type": "stream",
     "text": [
      "Running experiment with rnd seed 3, nb levels 2, nb leaves per class 50\n"
     ]
    },
    {
     "name": "stderr",
     "output_type": "stream",
     "text": [
      "100%|███████████████████████████████████| 10000/10000 [00:03<00:00, 3239.94it/s]\n",
      "100%|███████████████████████████████████| 10000/10000 [00:01<00:00, 6481.82it/s]\n"
     ]
    },
    {
     "name": "stdout",
     "output_type": "stream",
     "text": [
      "Running experiment with rnd seed 4, nb levels 2, nb leaves per class 50\n"
     ]
    },
    {
     "name": "stderr",
     "output_type": "stream",
     "text": [
      "100%|███████████████████████████████████| 10000/10000 [00:03<00:00, 3014.23it/s]\n",
      "100%|███████████████████████████████████| 10000/10000 [00:01<00:00, 5820.95it/s]\n"
     ]
    },
    {
     "name": "stdout",
     "output_type": "stream",
     "text": [
      "Running experiment with rnd seed 5, nb levels 2, nb leaves per class 50\n"
     ]
    },
    {
     "name": "stderr",
     "output_type": "stream",
     "text": [
      "100%|███████████████████████████████████| 10000/10000 [00:03<00:00, 2962.14it/s]\n",
      "100%|███████████████████████████████████| 10000/10000 [00:01<00:00, 5732.37it/s]\n"
     ]
    },
    {
     "name": "stdout",
     "output_type": "stream",
     "text": [
      "Running experiment with rnd seed 6, nb levels 2, nb leaves per class 50\n"
     ]
    },
    {
     "name": "stderr",
     "output_type": "stream",
     "text": [
      "100%|███████████████████████████████████| 10000/10000 [00:03<00:00, 3148.19it/s]\n",
      "100%|███████████████████████████████████| 10000/10000 [00:01<00:00, 6372.53it/s]\n"
     ]
    },
    {
     "name": "stdout",
     "output_type": "stream",
     "text": [
      "Running experiment with rnd seed 7, nb levels 2, nb leaves per class 50\n"
     ]
    },
    {
     "name": "stderr",
     "output_type": "stream",
     "text": [
      "100%|███████████████████████████████████| 10000/10000 [00:03<00:00, 3174.34it/s]\n",
      "100%|███████████████████████████████████| 10000/10000 [00:01<00:00, 6512.11it/s]\n"
     ]
    },
    {
     "name": "stdout",
     "output_type": "stream",
     "text": [
      "Running experiment with rnd seed 8, nb levels 2, nb leaves per class 50\n"
     ]
    },
    {
     "name": "stderr",
     "output_type": "stream",
     "text": [
      "100%|███████████████████████████████████| 10000/10000 [00:03<00:00, 2845.83it/s]\n",
      "100%|███████████████████████████████████| 10000/10000 [00:01<00:00, 5493.10it/s]\n"
     ]
    },
    {
     "name": "stdout",
     "output_type": "stream",
     "text": [
      "Running experiment with rnd seed 9, nb levels 2, nb leaves per class 50\n"
     ]
    },
    {
     "name": "stderr",
     "output_type": "stream",
     "text": [
      "100%|███████████████████████████████████| 10000/10000 [00:03<00:00, 2578.35it/s]\n",
      "100%|███████████████████████████████████| 10000/10000 [00:01<00:00, 6397.03it/s]\n"
     ]
    },
    {
     "name": "stdout",
     "output_type": "stream",
     "text": [
      "Running experiment with rnd seed 10, nb levels 2, nb leaves per class 50\n"
     ]
    },
    {
     "name": "stderr",
     "output_type": "stream",
     "text": [
      "100%|███████████████████████████████████| 10000/10000 [00:03<00:00, 3193.95it/s]\n",
      "100%|███████████████████████████████████| 10000/10000 [00:01<00:00, 6433.82it/s]\n"
     ]
    },
    {
     "name": "stdout",
     "output_type": "stream",
     "text": [
      "Running experiment with rnd seed 11, nb levels 2, nb leaves per class 50\n"
     ]
    },
    {
     "name": "stderr",
     "output_type": "stream",
     "text": [
      "100%|███████████████████████████████████| 10000/10000 [00:03<00:00, 2785.85it/s]\n",
      "100%|███████████████████████████████████| 10000/10000 [00:01<00:00, 6841.69it/s]\n"
     ]
    },
    {
     "name": "stdout",
     "output_type": "stream",
     "text": [
      "Running experiment with rnd seed 12, nb levels 2, nb leaves per class 50\n"
     ]
    },
    {
     "name": "stderr",
     "output_type": "stream",
     "text": [
      "100%|███████████████████████████████████| 10000/10000 [00:03<00:00, 3329.44it/s]\n",
      "100%|███████████████████████████████████| 10000/10000 [00:01<00:00, 7033.36it/s]\n"
     ]
    },
    {
     "name": "stdout",
     "output_type": "stream",
     "text": [
      "Running experiment with rnd seed 13, nb levels 2, nb leaves per class 50\n"
     ]
    },
    {
     "name": "stderr",
     "output_type": "stream",
     "text": [
      "100%|███████████████████████████████████| 10000/10000 [00:02<00:00, 3402.99it/s]\n",
      "100%|███████████████████████████████████| 10000/10000 [00:01<00:00, 6812.80it/s]\n"
     ]
    },
    {
     "name": "stdout",
     "output_type": "stream",
     "text": [
      "Running experiment with rnd seed 14, nb levels 2, nb leaves per class 50\n"
     ]
    },
    {
     "name": "stderr",
     "output_type": "stream",
     "text": [
      "100%|███████████████████████████████████| 10000/10000 [00:03<00:00, 3265.23it/s]\n",
      "100%|███████████████████████████████████| 10000/10000 [00:01<00:00, 6704.84it/s]\n"
     ]
    },
    {
     "name": "stdout",
     "output_type": "stream",
     "text": [
      "Running experiment with rnd seed 15, nb levels 2, nb leaves per class 50\n"
     ]
    },
    {
     "name": "stderr",
     "output_type": "stream",
     "text": [
      "100%|███████████████████████████████████| 10000/10000 [00:03<00:00, 3236.68it/s]\n",
      "100%|███████████████████████████████████| 10000/10000 [00:01<00:00, 6443.70it/s]\n"
     ]
    },
    {
     "name": "stdout",
     "output_type": "stream",
     "text": [
      "Running experiment with rnd seed 16, nb levels 2, nb leaves per class 50\n"
     ]
    },
    {
     "name": "stderr",
     "output_type": "stream",
     "text": [
      "100%|███████████████████████████████████| 10000/10000 [00:03<00:00, 3329.50it/s]\n",
      "100%|███████████████████████████████████| 10000/10000 [00:01<00:00, 6300.77it/s]\n"
     ]
    },
    {
     "name": "stdout",
     "output_type": "stream",
     "text": [
      "Running experiment with rnd seed 17, nb levels 2, nb leaves per class 50\n"
     ]
    },
    {
     "name": "stderr",
     "output_type": "stream",
     "text": [
      "100%|███████████████████████████████████| 10000/10000 [00:03<00:00, 3327.77it/s]\n",
      "100%|███████████████████████████████████| 10000/10000 [00:01<00:00, 6823.09it/s]\n"
     ]
    },
    {
     "name": "stdout",
     "output_type": "stream",
     "text": [
      "Running experiment with rnd seed 18, nb levels 2, nb leaves per class 50\n"
     ]
    },
    {
     "name": "stderr",
     "output_type": "stream",
     "text": [
      "100%|███████████████████████████████████| 10000/10000 [00:03<00:00, 3306.04it/s]\n",
      "100%|███████████████████████████████████| 10000/10000 [00:01<00:00, 6856.42it/s]\n"
     ]
    },
    {
     "name": "stdout",
     "output_type": "stream",
     "text": [
      "Running experiment with rnd seed 19, nb levels 2, nb leaves per class 50\n"
     ]
    },
    {
     "name": "stderr",
     "output_type": "stream",
     "text": [
      "100%|███████████████████████████████████| 10000/10000 [00:03<00:00, 3184.27it/s]\n",
      "100%|███████████████████████████████████| 10000/10000 [00:01<00:00, 6151.40it/s]\n"
     ]
    },
    {
     "name": "stdout",
     "output_type": "stream",
     "text": [
      "Running experiment with rnd seed 0, nb levels 2, nb leaves per class 100\n"
     ]
    },
    {
     "name": "stderr",
     "output_type": "stream",
     "text": [
      "100%|███████████████████████████████████| 10000/10000 [00:09<00:00, 1035.61it/s]\n",
      "100%|███████████████████████████████████| 10000/10000 [00:01<00:00, 6124.58it/s]\n"
     ]
    },
    {
     "name": "stdout",
     "output_type": "stream",
     "text": [
      "Running experiment with rnd seed 1, nb levels 2, nb leaves per class 100\n"
     ]
    },
    {
     "name": "stderr",
     "output_type": "stream",
     "text": [
      "100%|████████████████████████████████████| 10000/10000 [00:10<00:00, 994.04it/s]\n",
      "100%|███████████████████████████████████| 10000/10000 [00:01<00:00, 6130.32it/s]\n"
     ]
    },
    {
     "name": "stdout",
     "output_type": "stream",
     "text": [
      "Running experiment with rnd seed 2, nb levels 2, nb leaves per class 100\n"
     ]
    },
    {
     "name": "stderr",
     "output_type": "stream",
     "text": [
      "100%|███████████████████████████████████| 10000/10000 [00:09<00:00, 1080.24it/s]\n",
      "100%|███████████████████████████████████| 10000/10000 [00:01<00:00, 6558.86it/s]\n"
     ]
    },
    {
     "name": "stdout",
     "output_type": "stream",
     "text": [
      "Running experiment with rnd seed 3, nb levels 2, nb leaves per class 100\n"
     ]
    },
    {
     "name": "stderr",
     "output_type": "stream",
     "text": [
      "100%|███████████████████████████████████| 10000/10000 [00:09<00:00, 1091.64it/s]\n",
      "100%|███████████████████████████████████| 10000/10000 [00:01<00:00, 6192.02it/s]\n"
     ]
    },
    {
     "name": "stdout",
     "output_type": "stream",
     "text": [
      "Running experiment with rnd seed 4, nb levels 2, nb leaves per class 100\n"
     ]
    },
    {
     "name": "stderr",
     "output_type": "stream",
     "text": [
      "100%|███████████████████████████████████| 10000/10000 [00:09<00:00, 1055.45it/s]\n",
      "100%|███████████████████████████████████| 10000/10000 [00:01<00:00, 5974.93it/s]\n"
     ]
    },
    {
     "name": "stdout",
     "output_type": "stream",
     "text": [
      "Running experiment with rnd seed 5, nb levels 2, nb leaves per class 100\n"
     ]
    },
    {
     "name": "stderr",
     "output_type": "stream",
     "text": [
      "100%|███████████████████████████████████| 10000/10000 [00:09<00:00, 1015.73it/s]\n",
      "100%|███████████████████████████████████| 10000/10000 [00:01<00:00, 5876.40it/s]\n"
     ]
    },
    {
     "name": "stdout",
     "output_type": "stream",
     "text": [
      "Running experiment with rnd seed 6, nb levels 2, nb leaves per class 100\n"
     ]
    },
    {
     "name": "stderr",
     "output_type": "stream",
     "text": [
      "100%|████████████████████████████████████| 10000/10000 [00:10<00:00, 956.72it/s]\n",
      "100%|███████████████████████████████████| 10000/10000 [00:01<00:00, 6057.10it/s]\n"
     ]
    },
    {
     "name": "stdout",
     "output_type": "stream",
     "text": [
      "Running experiment with rnd seed 7, nb levels 2, nb leaves per class 100\n"
     ]
    },
    {
     "name": "stderr",
     "output_type": "stream",
     "text": [
      "100%|████████████████████████████████████| 10000/10000 [00:10<00:00, 971.35it/s]\n",
      "100%|███████████████████████████████████| 10000/10000 [00:01<00:00, 6049.12it/s]\n"
     ]
    },
    {
     "name": "stdout",
     "output_type": "stream",
     "text": [
      "Running experiment with rnd seed 8, nb levels 2, nb leaves per class 100\n"
     ]
    },
    {
     "name": "stderr",
     "output_type": "stream",
     "text": [
      "100%|███████████████████████████████████| 10000/10000 [00:09<00:00, 1020.63it/s]\n",
      "100%|███████████████████████████████████| 10000/10000 [00:01<00:00, 5995.95it/s]\n"
     ]
    },
    {
     "name": "stdout",
     "output_type": "stream",
     "text": [
      "Running experiment with rnd seed 9, nb levels 2, nb leaves per class 100\n"
     ]
    },
    {
     "name": "stderr",
     "output_type": "stream",
     "text": [
      "100%|███████████████████████████████████| 10000/10000 [00:09<00:00, 1049.26it/s]\n",
      "100%|███████████████████████████████████| 10000/10000 [00:01<00:00, 5314.32it/s]\n"
     ]
    },
    {
     "name": "stdout",
     "output_type": "stream",
     "text": [
      "Running experiment with rnd seed 10, nb levels 2, nb leaves per class 100\n"
     ]
    },
    {
     "name": "stderr",
     "output_type": "stream",
     "text": [
      "100%|████████████████████████████████████| 10000/10000 [00:10<00:00, 941.46it/s]\n",
      "100%|███████████████████████████████████| 10000/10000 [00:01<00:00, 5898.23it/s]\n"
     ]
    },
    {
     "name": "stdout",
     "output_type": "stream",
     "text": [
      "Running experiment with rnd seed 11, nb levels 2, nb leaves per class 100\n"
     ]
    },
    {
     "name": "stderr",
     "output_type": "stream",
     "text": [
      "100%|████████████████████████████████████| 10000/10000 [00:10<00:00, 996.92it/s]\n",
      "100%|███████████████████████████████████| 10000/10000 [00:01<00:00, 6465.19it/s]\n"
     ]
    },
    {
     "name": "stdout",
     "output_type": "stream",
     "text": [
      "Running experiment with rnd seed 12, nb levels 2, nb leaves per class 100\n"
     ]
    },
    {
     "name": "stderr",
     "output_type": "stream",
     "text": [
      "100%|████████████████████████████████████| 10000/10000 [00:10<00:00, 984.38it/s]\n",
      "100%|███████████████████████████████████| 10000/10000 [00:01<00:00, 6058.17it/s]\n"
     ]
    },
    {
     "name": "stdout",
     "output_type": "stream",
     "text": [
      "Running experiment with rnd seed 13, nb levels 2, nb leaves per class 100\n"
     ]
    },
    {
     "name": "stderr",
     "output_type": "stream",
     "text": [
      "100%|███████████████████████████████████| 10000/10000 [00:09<00:00, 1026.35it/s]\n",
      "100%|███████████████████████████████████| 10000/10000 [00:01<00:00, 5830.25it/s]\n"
     ]
    },
    {
     "name": "stdout",
     "output_type": "stream",
     "text": [
      "Running experiment with rnd seed 14, nb levels 2, nb leaves per class 100\n"
     ]
    },
    {
     "name": "stderr",
     "output_type": "stream",
     "text": [
      "100%|███████████████████████████████████| 10000/10000 [00:09<00:00, 1075.63it/s]\n",
      "100%|███████████████████████████████████| 10000/10000 [00:01<00:00, 6439.82it/s]\n"
     ]
    },
    {
     "name": "stdout",
     "output_type": "stream",
     "text": [
      "Running experiment with rnd seed 15, nb levels 2, nb leaves per class 100\n"
     ]
    },
    {
     "name": "stderr",
     "output_type": "stream",
     "text": [
      "100%|███████████████████████████████████| 10000/10000 [00:09<00:00, 1044.10it/s]\n",
      "100%|███████████████████████████████████| 10000/10000 [00:01<00:00, 6349.76it/s]\n"
     ]
    },
    {
     "name": "stdout",
     "output_type": "stream",
     "text": [
      "Running experiment with rnd seed 16, nb levels 2, nb leaves per class 100\n"
     ]
    },
    {
     "name": "stderr",
     "output_type": "stream",
     "text": [
      "100%|███████████████████████████████████| 10000/10000 [00:09<00:00, 1046.27it/s]\n",
      "100%|███████████████████████████████████| 10000/10000 [00:01<00:00, 6163.51it/s]\n"
     ]
    },
    {
     "name": "stdout",
     "output_type": "stream",
     "text": [
      "Running experiment with rnd seed 17, nb levels 2, nb leaves per class 100\n"
     ]
    },
    {
     "name": "stderr",
     "output_type": "stream",
     "text": [
      "100%|███████████████████████████████████| 10000/10000 [00:09<00:00, 1066.01it/s]\n",
      "100%|███████████████████████████████████| 10000/10000 [00:01<00:00, 6398.15it/s]\n"
     ]
    },
    {
     "name": "stdout",
     "output_type": "stream",
     "text": [
      "Running experiment with rnd seed 18, nb levels 2, nb leaves per class 100\n"
     ]
    },
    {
     "name": "stderr",
     "output_type": "stream",
     "text": [
      "100%|███████████████████████████████████| 10000/10000 [00:09<00:00, 1056.41it/s]\n",
      "100%|███████████████████████████████████| 10000/10000 [00:01<00:00, 6446.92it/s]\n"
     ]
    },
    {
     "name": "stdout",
     "output_type": "stream",
     "text": [
      "Running experiment with rnd seed 19, nb levels 2, nb leaves per class 100\n"
     ]
    },
    {
     "name": "stderr",
     "output_type": "stream",
     "text": [
      "100%|███████████████████████████████████| 10000/10000 [00:09<00:00, 1084.12it/s]\n",
      "100%|███████████████████████████████████| 10000/10000 [00:01<00:00, 6400.79it/s]\n"
     ]
    },
    {
     "name": "stdout",
     "output_type": "stream",
     "text": [
      "Running experiment with rnd seed 0, nb levels 2, nb leaves per class 200\n"
     ]
    },
    {
     "name": "stderr",
     "output_type": "stream",
     "text": [
      "100%|████████████████████████████████████| 10000/10000 [00:40<00:00, 245.82it/s]\n",
      "100%|███████████████████████████████████| 10000/10000 [00:01<00:00, 5300.74it/s]\n"
     ]
    },
    {
     "name": "stdout",
     "output_type": "stream",
     "text": [
      "Running experiment with rnd seed 1, nb levels 2, nb leaves per class 200\n"
     ]
    },
    {
     "name": "stderr",
     "output_type": "stream",
     "text": [
      "100%|████████████████████████████████████| 10000/10000 [00:36<00:00, 271.89it/s]\n",
      "100%|███████████████████████████████████| 10000/10000 [00:01<00:00, 5590.81it/s]\n"
     ]
    },
    {
     "name": "stdout",
     "output_type": "stream",
     "text": [
      "Running experiment with rnd seed 2, nb levels 2, nb leaves per class 200\n"
     ]
    }
   ],
   "source": [
    "settings = [(2, 50), (2, 100), (2, 200)]\n",
    "res_nexp = []\n",
    "res_exp3 = []\n",
    "res=[]\n",
    "labels=[]\n",
    "exp3_results = []\n",
    "new_results = []\n",
    "\n",
    "for setting in settings:\n",
    "    nb_levels, nb_leaves_per_class = setting\n",
    "    exp3_result, new_result, c,d = do_general_tree_experiment(nb_levels, nb_leaves_per_class)\n",
    "    exp3_results.append(exp3_result)\n",
    "    new_results.append(new_result)\n",
    "    res_exp3.append((c))\n",
    "    res_nexp.append(d)\n",
    "    res.append(c)\n",
    "    res.append(d)\n",
    "    labels.append('EXP3 - L {}, M {}'.format(nb_levels, nb_leaves_per_class))\n",
    "    labels.append('NEW - L {}, M {}'.format(nb_levels, nb_leaves_per_class))"
   ]
  },
  {
   "cell_type": "code",
   "execution_count": null,
   "id": "61e44176",
   "metadata": {},
   "outputs": [],
   "source": [
    "plt.figure(figsize=(20,8))\n",
    "plt.boxplot(res, labels=labels)\n",
    "plt.ylabel('Regret')\n",
    "plt.title('Env - Tree Structure - Final Regret CIs at $T=10000$')\n",
    "plt.legend(ncol=2)\n",
    "plt.savefig('figure_general_regret_breadth_slice.pdf', bbox_inches = \"tight\")\n",
    "plt.show()"
   ]
  },
  {
   "cell_type": "code",
   "execution_count": null,
   "id": "6ac2b1a3",
   "metadata": {},
   "outputs": [],
   "source": [
    "rounds = np.arange(1, max_rounds+1, 100)\n",
    "\n",
    "colors_exp3 = ['#1f77b4', 'mediumpurple', 'mediumblue', 'grey']\n",
    "colors_new = ['#ff7f0e', 'tomato', 'peru', 'gold']\n",
    "\n",
    "colors_exp3 = ['lightsteelblue', 'cornflowerblue', 'royalblue', '#1f77b4', 'blue', 'darkblue']\n",
    "# colors_new = ['#ff7f0e', 'tomato', 'peru', 'gold']\n",
    "# colors_new = ['lightgreen', 'limegreen', 'forestgreen', 'darkgreen', 'darkcyan', 'darkslategrey']\n",
    "\n",
    "settings = [(2, 50), (2, 100), (2, 200)]\n",
    "markers = ['-', '--']\n",
    "markers = [\"1\", \"2\", \"3\", \"4\"]\n",
    "# markers = [\"*\", \"+\", \".\", \"v\"]\n",
    "\n",
    "plt.figure(figsize=(9,4), dpi= 100, facecolor='w', edgecolor='k')\n",
    "for idx, exp3_result in enumerate(exp3_results):\n",
    "    # EXP3 \n",
    "    c = colors_exp3[idx]\n",
    "    exp3_regret, exp3_rgrt_std, exp3_reward, exp3_rwd_std = exp3_result\n",
    "    plt.plot(rounds, exp3_regret, label='EXP3 - L {}, M {}'.format(settings[idx][0], settings[idx][1]), color=c, linestyle='-',\n",
    "             marker=markers[idx] , markersize=12 ,markevery=5)\n",
    "# plt.plot(rounds, rounds**(0.5), label='$t^{0.5}$', ls='-.')     \n",
    "for idx, new_result in enumerate(new_results[:3]):\n",
    "    # new\n",
    "    c = colors_exp3[idx]\n",
    "    new_regret, new_rgrt_std, new_reward, new_rwd_std = new_result\n",
    "    plt.plot(rounds, new_regret, label='NEW - L {}, M {}'.format(settings[idx][0], settings[idx][1]), color=c, linestyle='--',\n",
    "             marker=markers[idx] , markersize=12 ,markevery=5)\n",
    "\n",
    "\n",
    "# plt.xscale('log')\n",
    "# plt.yscale('log')\n",
    "plt.ylabel('Regret')\n",
    "plt.title('Env - Tree Structure - Regret')\n",
    "plt.legend(ncol=2)\n",
    "plt.savefig('figure_general_regret_breadth.pdf', bbox_inches = \"tight\")\n",
    "plt.show()\n",
    "\n",
    "plt.figure(figsize=(9,4), dpi= 100, facecolor='w', edgecolor='k')\n",
    "\n",
    "for idx, exp3_result in enumerate(exp3_results):\n",
    "    \n",
    "    # EXP3 \n",
    "    c = colors_exp3[idx]\n",
    "    exp3_regret, exp3_rgrt_std, exp3_reward, exp3_rwd_std = exp3_result\n",
    "    plt.plot(rounds, exp3_reward, label='EXP3 - L {}, M {}'.format(settings[idx][0], settings[idx][1]), color=c, linestyle='-',\n",
    "             marker=markers[idx] , markersize=12 ,markevery=5)\n",
    "    \n",
    "for idx, new_result in enumerate(new_results):\n",
    "        \n",
    "    # new \n",
    "    c = colors_exp3[idx]\n",
    "    new_regret, new_rgrt_std, new_reward, new_rwd_std = new_result\n",
    "    plt.plot(rounds, new_reward, label='NEW - L {}, M {}'.format(settings[idx][0], settings[idx][1]), color=c, linestyle='--',\n",
    "             marker=markers[idx] , markersize=12 ,markevery=5)\n",
    "\n",
    "plt.xlabel('Steps')\n",
    "plt.ylabel('Average Reward')\n",
    "plt.title('Env - Tree Structure - Average Reward')\n",
    "plt.legend(ncol=2)\n",
    "plt.savefig('figure_general_avg_reward_breadth.pdf', bbox_inches = \"tight\")\n",
    "\n",
    "# fig.suptitle(\"Env - Blue Bus Red Bus Paradox\", fontsize=14)\n",
    "plt.show()\n",
    "\n"
   ]
  },
  {
   "cell_type": "code",
   "execution_count": null,
   "id": "15d6749f",
   "metadata": {
    "scrolled": true
   },
   "outputs": [],
   "source": [
    "settings = [(4, 3), (5, 3), (6, 3)]\n",
    "res_nexp = []\n",
    "res_exp3 = []\n",
    "res=[]\n",
    "labels=[]\n",
    "exp3_results = []\n",
    "new_results = []\n",
    "\n",
    "\n",
    "for setting in tqdm(settings):\n",
    "    nb_levels, nb_leaves_per_class = setting\n",
    "    exp3_result, new_result, c, d = do_general_tree_experiment(nb_levels, nb_leaves_per_class)\n",
    "    exp3_results.append(exp3_result)\n",
    "    new_results.append(new_result)\n",
    "    res_exp3.append((c))\n",
    "    res_nexp.append(d)\n",
    "    res.append(c)\n",
    "    res.append(d)\n",
    "    labels.append('EXP3 - L {}, M {}'.format(nb_levels, nb_leaves_per_class))\n",
    "    labels.append('NEW - L {}, M {}'.format(nb_levels, nb_leaves_per_class))"
   ]
  },
  {
   "cell_type": "code",
   "execution_count": null,
   "id": "42024bd2",
   "metadata": {},
   "outputs": [],
   "source": [
    "plt.figure(figsize=(20,8))\n",
    "plt.boxplot(res, labels=labels)\n",
    "plt.ylabel('Regret')\n",
    "plt.title('Env - Tree Structure - Final Regret CIs at $T=10000$')\n",
    "# plt.xscale('log')\n",
    "# plt.yscale('log')\n",
    "# ax1.set_ylim(1, 100)\n",
    "# ax1.set_xlim(100, 1000)\n",
    "plt.legend(ncol=2)\n",
    "plt.savefig('figure_general_regret_depth_slice.pdf', bbox_inches = \"tight\")\n",
    "plt.show()"
   ]
  },
  {
   "cell_type": "code",
   "execution_count": null,
   "id": "a077f83f",
   "metadata": {},
   "outputs": [],
   "source": [
    "rounds = np.arange(1, max_rounds+1, 100)\n",
    "\n",
    "colors_exp3 = ['#1f77b4', 'mediumpurple', 'mediumblue', 'grey']\n",
    "colors_new = ['#ff7f0e', 'tomato', 'peru', 'gold']\n",
    "\n",
    "colors_exp3 = ['#1f77b4', 'blue', 'darkblue']\n",
    "# colors_new = ['#ff7f0e', 'tomato', 'peru', 'gold']\n",
    "# colors_new = ['lightgreen', 'limegreen', 'forestgreen', 'darkgreen', 'darkcyan', 'darkslategrey']\n",
    "\n",
    "settings = [(4, 3), (5, 3), (6, 3)]\n",
    "markers = ['-', '--']\n",
    "markers = [\"1\", \"2\", \"3\", \"4\"]\n",
    "\n",
    "\n",
    "plt.figure(figsize=(9,4), dpi= 100, facecolor='w', edgecolor='k')\n",
    "for idx, exp3_result in enumerate(exp3_results):\n",
    "    # EXP3 \n",
    "    c = colors_exp3[idx]\n",
    "    exp3_regret, exp3_rgrt_std, exp3_reward, exp3_rwd_std = exp3_result\n",
    "    plt.plot(rounds, exp3_regret, label='EXP3 - L {}, M {}'.format(settings[idx][0], settings[idx][1]), color=c, linestyle='-', \n",
    "             marker=markers[idx] , markersize=12 ,markevery=5)\n",
    "# plt.plot(rounds, .5*rounds**(0.5), label='$t^{0.5}$', linestyle='-.')    \n",
    "for idx, new_result in enumerate(new_results[:3]):\n",
    "    # new\n",
    "    c = colors_exp3[idx]\n",
    "    new_regret, new_rgrt_std, new_reward, new_rwd_std = new_result\n",
    "    plt.plot(rounds, new_regret, label='NEW - L {}, M {}'.format(settings[idx][0], settings[idx][1]), color=c, linestyle='--', \n",
    "             marker=markers[idx] , markersize=12 ,markevery=5)\n",
    "\n",
    "# plt.xscale('log')\n",
    "# plt.yscale('log')\n",
    "plt.ylabel('Regret')\n",
    "plt.title('Env - Tree Structure - Regret')\n",
    "plt.legend(ncol=2)\n",
    "plt.savefig('figure_general_regret_depth.pdf', bbox_inches = \"tight\")\n",
    "plt.show()\n",
    "\n",
    "plt.figure(figsize=(9,4), dpi= 100, facecolor='w', edgecolor='k')\n",
    "\n",
    "for idx, exp3_result in enumerate(exp3_results):\n",
    "    \n",
    "    # EXP3 \n",
    "    c = colors_exp3[idx]\n",
    "    exp3_regret, exp3_rgrt_std, exp3_reward, exp3_rwd_std = exp3_result\n",
    "    plt.plot(rounds, exp3_reward, label='EXP3 - L {}, M {}'.format(settings[idx][0], settings[idx][1]), color=c, linestyle='-',\n",
    "             marker=markers[idx] , markersize=12 ,markevery=5)\n",
    "    \n",
    "for idx, new_result in enumerate(new_results):\n",
    "        \n",
    "    # new \n",
    "    c = colors_exp3[idx]\n",
    "    new_regret, new_rgrt_std, new_reward, new_rwd_std = new_result\n",
    "    plt.plot(rounds, new_reward, label='NEW - L {}, M {}'.format(settings[idx][0], settings[idx][1]), color=c, linestyle='--',\n",
    "             marker=markers[idx] , markersize=12 ,markevery=5)\n",
    "      \n",
    "plt.xlabel('Steps')\n",
    "plt.ylabel('Average Reward')\n",
    "plt.title('Env - Tree Structure - Average Reward')\n",
    "plt.legend(ncol=2)\n",
    "plt.savefig('figure_general_avg_reward_depth.pdf', bbox_inches = \"tight\")\n",
    "\n",
    "# fig.suptitle(\"Env - Blue Bus Red Bus Paradox\", fontsize=14)\n",
    "plt.show()"
   ]
  },
  {
   "cell_type": "code",
   "execution_count": 93,
   "id": "9c938984",
   "metadata": {
    "scrolled": true
   },
   "outputs": [
    {
     "data": {
      "application/vnd.jupyter.widget-view+json": {
       "model_id": "d029f1fe421c46ed811422860b222e26",
       "version_major": 2,
       "version_minor": 0
      },
      "text/plain": [
       "  0%|          | 0/3 [00:00<?, ?it/s]"
      ]
     },
     "metadata": {},
     "output_type": "display_data"
    },
    {
     "name": "stderr",
     "output_type": "stream",
     "text": [
      "\n",
      "  0%|          | 0/10000 [00:00<?, ?it/s]\u001b[A\n",
      " 11%|█         | 1061/10000 [00:00<00:00, 10607.05it/s]\u001b[A"
     ]
    },
    {
     "name": "stdout",
     "output_type": "stream",
     "text": [
      "Running experiment with rnd seed 0, nb levels 1, nb leaves per class 5\n"
     ]
    },
    {
     "name": "stderr",
     "output_type": "stream",
     "text": [
      "\n",
      " 23%|██▎       | 2346/10000 [00:00<00:00, 11922.89it/s]\u001b[A\n",
      " 36%|███▌      | 3578/10000 [00:00<00:00, 12103.96it/s]\u001b[A\n",
      " 48%|████▊     | 4831/10000 [00:00<00:00, 12270.23it/s]\u001b[A\n",
      " 61%|██████    | 6059/10000 [00:00<00:00, 11378.56it/s]\u001b[A\n",
      " 72%|███████▏  | 7208/10000 [00:00<00:00, 10879.44it/s]\u001b[A\n",
      " 83%|████████▎ | 8305/10000 [00:00<00:00, 10705.54it/s]\u001b[A\n",
      "100%|██████████| 10000/10000 [00:00<00:00, 10962.53it/s][A\n",
      "\n",
      "  0%|          | 0/10000 [00:00<?, ?it/s]\u001b[A\n",
      " 10%|█         | 1026/10000 [00:00<00:00, 10255.90it/s]\u001b[A\n",
      " 21%|██        | 2107/10000 [00:00<00:00, 10580.36it/s]\u001b[A\n",
      " 32%|███▏      | 3166/10000 [00:00<00:00, 10494.63it/s]\u001b[A\n",
      " 42%|████▏     | 4248/10000 [00:00<00:00, 10622.19it/s]\u001b[A\n",
      " 54%|█████▎    | 5359/10000 [00:00<00:00, 10795.75it/s]\u001b[A\n",
      " 64%|██████▍   | 6439/10000 [00:00<00:00, 10475.41it/s]\u001b[A\n",
      " 75%|███████▍  | 7489/10000 [00:00<00:00, 10473.85it/s]\u001b[A\n",
      " 85%|████████▌ | 8538/10000 [00:00<00:00, 10295.74it/s]\u001b[A\n",
      "100%|██████████| 10000/10000 [00:00<00:00, 10139.89it/s][A\n",
      "\n",
      "  0%|          | 0/10000 [00:00<?, ?it/s]\u001b[A\n",
      "  9%|▉         | 927/10000 [00:00<00:00, 9261.68it/s]\u001b[A"
     ]
    },
    {
     "name": "stdout",
     "output_type": "stream",
     "text": [
      "Running experiment with rnd seed 1, nb levels 1, nb leaves per class 5\n"
     ]
    },
    {
     "name": "stderr",
     "output_type": "stream",
     "text": [
      "\n",
      " 21%|██        | 2122/10000 [00:00<00:00, 10839.72it/s]\u001b[A\n",
      " 33%|███▎      | 3335/10000 [00:00<00:00, 11427.65it/s]\u001b[A\n",
      " 45%|████▌     | 4540/10000 [00:00<00:00, 11671.25it/s]\u001b[A\n",
      " 57%|█████▋    | 5708/10000 [00:00<00:00, 11296.48it/s]\u001b[A\n",
      " 68%|██████▊   | 6840/10000 [00:00<00:00, 10870.94it/s]\u001b[A\n",
      " 79%|███████▉  | 7931/10000 [00:00<00:00, 10636.86it/s]\u001b[A\n",
      "100%|██████████| 10000/10000 [00:00<00:00, 10613.20it/s][A\n",
      "\n",
      "  0%|          | 0/10000 [00:00<?, ?it/s]\u001b[A\n",
      "  9%|▊         | 855/10000 [00:00<00:01, 8546.91it/s]\u001b[A\n",
      " 19%|█▊        | 1862/10000 [00:00<00:00, 9439.66it/s]\u001b[A\n",
      " 29%|██▉       | 2914/10000 [00:00<00:00, 9932.21it/s]\u001b[A\n",
      " 39%|███▉      | 3908/10000 [00:00<00:00, 9022.93it/s]\u001b[A\n",
      " 49%|████▉     | 4943/10000 [00:00<00:00, 9470.89it/s]\u001b[A\n",
      " 60%|█████▉    | 5965/10000 [00:00<00:00, 9713.22it/s]\u001b[A\n",
      " 70%|███████   | 7050/10000 [00:00<00:00, 10073.87it/s]\u001b[A\n",
      " 81%|████████  | 8064/10000 [00:00<00:00, 10074.11it/s]\u001b[A\n",
      "100%|██████████| 10000/10000 [00:01<00:00, 9810.12it/s]\u001b[A\n",
      "\n",
      "  0%|          | 0/10000 [00:00<?, ?it/s]\u001b[A\n",
      " 12%|█▏        | 1175/10000 [00:00<00:00, 11746.15it/s]\u001b[A"
     ]
    },
    {
     "name": "stdout",
     "output_type": "stream",
     "text": [
      "Running experiment with rnd seed 2, nb levels 1, nb leaves per class 5\n"
     ]
    },
    {
     "name": "stderr",
     "output_type": "stream",
     "text": [
      "\n",
      " 24%|██▎       | 2350/10000 [00:00<00:00, 11637.79it/s]\u001b[A\n",
      " 36%|███▌      | 3574/10000 [00:00<00:00, 11909.78it/s]\u001b[A\n",
      " 48%|████▊     | 4766/10000 [00:00<00:00, 11539.15it/s]\u001b[A\n",
      " 59%|█████▉    | 5922/10000 [00:00<00:00, 11329.70it/s]\u001b[A\n",
      " 71%|███████   | 7057/10000 [00:00<00:00, 10944.30it/s]\u001b[A\n",
      " 82%|████████▏ | 8154/10000 [00:00<00:00, 10631.44it/s]\u001b[A\n",
      "100%|██████████| 10000/10000 [00:00<00:00, 10989.41it/s][A\n",
      "\n",
      "  0%|          | 0/10000 [00:00<?, ?it/s]\u001b[A\n",
      " 11%|█▏        | 1145/10000 [00:00<00:00, 11447.50it/s]\u001b[A\n",
      " 23%|██▎       | 2290/10000 [00:00<00:00, 10170.90it/s]\u001b[A\n",
      " 33%|███▎      | 3317/10000 [00:00<00:00, 10172.26it/s]\u001b[A\n",
      " 43%|████▎     | 4340/10000 [00:00<00:00, 10076.39it/s]\u001b[A\n",
      " 54%|█████▍    | 5381/10000 [00:00<00:00, 10190.19it/s]\u001b[A\n",
      " 64%|██████▍   | 6403/10000 [00:00<00:00, 10007.51it/s]\u001b[A\n",
      " 74%|███████▍  | 7406/10000 [00:00<00:00, 9848.86it/s] \u001b[A\n",
      " 84%|████████▍ | 8393/10000 [00:00<00:00, 9567.17it/s]\u001b[A\n",
      "100%|██████████| 10000/10000 [00:01<00:00, 9897.82it/s][A\n",
      "\n",
      "  0%|          | 0/10000 [00:00<?, ?it/s]\u001b[A\n",
      " 11%|█▏        | 1126/10000 [00:00<00:00, 11240.53it/s]\u001b[A"
     ]
    },
    {
     "name": "stdout",
     "output_type": "stream",
     "text": [
      "Running experiment with rnd seed 3, nb levels 1, nb leaves per class 5\n"
     ]
    },
    {
     "name": "stderr",
     "output_type": "stream",
     "text": [
      "\n",
      " 23%|██▎       | 2251/10000 [00:00<00:00, 9750.43it/s] \u001b[A\n",
      " 33%|███▎      | 3296/10000 [00:00<00:00, 10042.13it/s]\u001b[A\n",
      " 44%|████▎     | 4364/10000 [00:00<00:00, 10278.04it/s]\u001b[A\n",
      " 54%|█████▍    | 5423/10000 [00:00<00:00, 10385.98it/s]\u001b[A\n",
      " 66%|██████▋   | 6642/10000 [00:00<00:00, 10983.80it/s]\u001b[A\n",
      " 77%|███████▋  | 7745/10000 [00:00<00:00, 10838.65it/s]\u001b[A\n",
      " 88%|████████▊ | 8833/10000 [00:00<00:00, 10721.85it/s]\u001b[A\n",
      "100%|██████████| 10000/10000 [00:00<00:00, 10369.87it/s][A\n",
      "\n",
      "  0%|          | 0/10000 [00:00<?, ?it/s]\u001b[A\n",
      "  9%|▉         | 926/10000 [00:00<00:00, 9258.79it/s]\u001b[A\n",
      " 19%|█▉        | 1901/10000 [00:00<00:00, 9543.34it/s]\u001b[A\n",
      " 29%|██▊       | 2856/10000 [00:00<00:00, 9514.89it/s]\u001b[A\n",
      " 41%|████      | 4074/10000 [00:00<00:00, 10562.95it/s]\u001b[A\n",
      " 51%|█████▏    | 5131/10000 [00:00<00:00, 10540.85it/s]\u001b[A\n",
      " 62%|██████▏   | 6230/10000 [00:00<00:00, 10692.23it/s]\u001b[A\n",
      " 73%|███████▎  | 7300/10000 [00:00<00:00, 10513.77it/s]\u001b[A\n",
      " 84%|████████▎ | 8353/10000 [00:00<00:00, 10491.34it/s]\u001b[A\n",
      "100%|██████████| 10000/10000 [00:00<00:00, 10341.99it/s][A\n",
      "\n",
      "  0%|          | 0/10000 [00:00<?, ?it/s]\u001b[A\n",
      " 12%|█▏        | 1247/10000 [00:00<00:00, 12462.79it/s]\u001b[A"
     ]
    },
    {
     "name": "stdout",
     "output_type": "stream",
     "text": [
      "Running experiment with rnd seed 4, nb levels 1, nb leaves per class 5\n"
     ]
    },
    {
     "name": "stderr",
     "output_type": "stream",
     "text": [
      "\n",
      " 25%|██▍       | 2494/10000 [00:00<00:00, 11497.73it/s]\u001b[A\n",
      " 36%|███▋      | 3649/10000 [00:00<00:00, 9868.96it/s] \u001b[A\n",
      " 47%|████▋     | 4680/10000 [00:00<00:00, 10017.69it/s]\u001b[A\n",
      " 57%|█████▋    | 5697/10000 [00:00<00:00, 9988.46it/s] \u001b[A\n",
      " 67%|██████▋   | 6706/10000 [00:00<00:00, 9926.82it/s]\u001b[A\n",
      " 77%|███████▋  | 7705/10000 [00:00<00:00, 9905.57it/s]\u001b[A\n",
      " 87%|████████▋ | 8700/10000 [00:00<00:00, 9874.60it/s]\u001b[A\n",
      "100%|██████████| 10000/10000 [00:00<00:00, 10140.37it/s][A\n",
      "\n",
      "  0%|          | 0/10000 [00:00<?, ?it/s]\u001b[A\n",
      " 12%|█▏        | 1180/10000 [00:00<00:00, 11795.17it/s]\u001b[A\n",
      " 24%|██▎       | 2360/10000 [00:00<00:00, 11157.48it/s]\u001b[A\n",
      " 35%|███▌      | 3541/10000 [00:00<00:00, 11445.69it/s]\u001b[A\n",
      " 47%|████▋     | 4688/10000 [00:00<00:00, 10250.07it/s]\u001b[A\n",
      " 57%|█████▋    | 5730/10000 [00:00<00:00, 10289.80it/s]\u001b[A\n",
      " 68%|██████▊   | 6842/10000 [00:00<00:00, 10555.49it/s]\u001b[A\n",
      " 79%|███████▉  | 7925/10000 [00:00<00:00, 10640.12it/s]\u001b[A\n",
      "100%|██████████| 10000/10000 [00:00<00:00, 10559.51it/s][A\n",
      "\n",
      "  0%|          | 0/10000 [00:00<?, ?it/s]\u001b[A\n",
      " 13%|█▎        | 1288/10000 [00:00<00:00, 12878.45it/s]\u001b[A"
     ]
    },
    {
     "name": "stdout",
     "output_type": "stream",
     "text": [
      "Running experiment with rnd seed 5, nb levels 1, nb leaves per class 5\n"
     ]
    },
    {
     "name": "stderr",
     "output_type": "stream",
     "text": [
      "\n",
      " 26%|██▌       | 2576/10000 [00:00<00:00, 12278.19it/s]\u001b[A\n",
      " 38%|███▊      | 3806/10000 [00:00<00:00, 11712.66it/s]\u001b[A\n",
      " 50%|████▉     | 4980/10000 [00:00<00:00, 10897.43it/s]\u001b[A\n",
      " 61%|██████▏   | 6147/10000 [00:00<00:00, 11154.45it/s]\u001b[A\n",
      " 73%|███████▎  | 7269/10000 [00:00<00:00, 10759.69it/s]\u001b[A\n",
      " 84%|████████▎ | 8351/10000 [00:00<00:00, 10716.06it/s]\u001b[A\n",
      "100%|██████████| 10000/10000 [00:00<00:00, 11030.06it/s][A\n",
      "\n",
      "  0%|          | 0/10000 [00:00<?, ?it/s]\u001b[A\n",
      " 12%|█▏        | 1199/10000 [00:00<00:00, 11982.47it/s]\u001b[A\n",
      " 24%|██▍       | 2398/10000 [00:00<00:00, 11414.76it/s]\u001b[A\n",
      " 35%|███▌      | 3542/10000 [00:00<00:00, 10931.52it/s]\u001b[A\n",
      " 47%|████▋     | 4656/10000 [00:00<00:00, 11009.06it/s]\u001b[A\n",
      " 58%|█████▊    | 5785/10000 [00:00<00:00, 11105.29it/s]\u001b[A\n",
      " 69%|██████▉   | 6897/10000 [00:00<00:00, 10689.63it/s]\u001b[A\n",
      " 80%|████████  | 8018/10000 [00:00<00:00, 10851.73it/s]\u001b[A\n",
      "100%|██████████| 10000/10000 [00:00<00:00, 10822.50it/s][A\n",
      "\n",
      "  0%|          | 0/10000 [00:00<?, ?it/s]\u001b[A\n",
      " 12%|█▏        | 1192/10000 [00:00<00:00, 11914.76it/s]\u001b[A"
     ]
    },
    {
     "name": "stdout",
     "output_type": "stream",
     "text": [
      "Running experiment with rnd seed 6, nb levels 1, nb leaves per class 5\n"
     ]
    },
    {
     "name": "stderr",
     "output_type": "stream",
     "text": [
      "\n",
      " 24%|██▍       | 2392/10000 [00:00<00:00, 11963.27it/s]\u001b[A\n",
      " 36%|███▌      | 3589/10000 [00:00<00:00, 11505.28it/s]\u001b[A\n",
      " 47%|████▋     | 4742/10000 [00:00<00:00, 10958.42it/s]\u001b[A\n",
      " 59%|█████▉    | 5878/10000 [00:00<00:00, 11095.38it/s]\u001b[A\n",
      " 70%|███████   | 7001/10000 [00:00<00:00, 10808.79it/s]\u001b[A\n",
      " 81%|████████  | 8085/10000 [00:00<00:00, 9503.88it/s] \u001b[A\n",
      "100%|██████████| 10000/10000 [00:00<00:00, 10507.40it/s]A\n",
      "\n",
      "  0%|          | 0/10000 [00:00<?, ?it/s]\u001b[A\n",
      " 13%|█▎        | 1266/10000 [00:00<00:00, 12657.81it/s]\u001b[A\n",
      " 25%|██▌       | 2532/10000 [00:00<00:00, 12063.07it/s]\u001b[A\n",
      " 37%|███▋      | 3741/10000 [00:00<00:00, 11341.65it/s]\u001b[A\n",
      " 49%|████▉     | 4880/10000 [00:00<00:00, 10773.11it/s]\u001b[A\n",
      " 60%|█████▉    | 5962/10000 [00:00<00:00, 10402.49it/s]\u001b[A\n",
      " 70%|███████   | 7005/10000 [00:00<00:00, 10077.64it/s]\u001b[A\n",
      " 80%|████████  | 8015/10000 [00:00<00:00, 8870.97it/s] \u001b[A\n",
      " 89%|████████▉ | 8923/10000 [00:00<00:00, 8863.92it/s]\u001b[A\n",
      "100%|██████████| 10000/10000 [00:01<00:00, 9722.92it/s][A\n",
      "\n",
      "  0%|          | 0/10000 [00:00<?, ?it/s]\u001b[A\n",
      " 11%|█         | 1117/10000 [00:00<00:00, 11165.19it/s]\u001b[A"
     ]
    },
    {
     "name": "stdout",
     "output_type": "stream",
     "text": [
      "Running experiment with rnd seed 7, nb levels 1, nb leaves per class 5\n"
     ]
    },
    {
     "name": "stderr",
     "output_type": "stream",
     "text": [
      "\n",
      " 23%|██▎       | 2309/10000 [00:00<00:00, 11608.86it/s]\u001b[A\n",
      " 36%|███▌      | 3601/10000 [00:00<00:00, 12163.79it/s]\u001b[A\n",
      " 48%|████▊     | 4834/10000 [00:00<00:00, 12227.47it/s]\u001b[A\n",
      " 61%|██████    | 6057/10000 [00:00<00:00, 12010.39it/s]\u001b[A\n",
      " 73%|███████▎  | 7259/10000 [00:00<00:00, 11780.84it/s]\u001b[A\n",
      " 84%|████████▍ | 8439/10000 [00:00<00:00, 10763.02it/s]\u001b[A\n",
      "100%|██████████| 10000/10000 [00:00<00:00, 11117.44it/s][A\n",
      "\n",
      "  0%|          | 0/10000 [00:00<?, ?it/s]\u001b[A\n",
      " 12%|█▏        | 1183/10000 [00:00<00:00, 11826.80it/s]\u001b[A\n",
      " 24%|██▎       | 2366/10000 [00:00<00:00, 11185.76it/s]\u001b[A\n",
      " 35%|███▍      | 3487/10000 [00:00<00:00, 11156.92it/s]\u001b[A\n",
      " 46%|████▋     | 4627/10000 [00:00<00:00, 11246.55it/s]\u001b[A\n",
      " 58%|█████▊    | 5753/10000 [00:00<00:00, 11038.63it/s]\u001b[A\n",
      " 69%|██████▊   | 6858/10000 [00:00<00:00, 10398.77it/s]\u001b[A\n",
      " 79%|███████▉  | 7904/10000 [00:00<00:00, 10171.28it/s]\u001b[A\n",
      " 89%|████████▉ | 8926/10000 [00:00<00:00, 9659.61it/s] \u001b[A\n",
      "100%|██████████| 10000/10000 [00:00<00:00, 10280.43it/s]A\n",
      "\n",
      "  0%|          | 0/10000 [00:00<?, ?it/s]\u001b[A\n",
      " 11%|█         | 1101/10000 [00:00<00:00, 10949.99it/s]\u001b[A"
     ]
    },
    {
     "name": "stdout",
     "output_type": "stream",
     "text": [
      "Running experiment with rnd seed 8, nb levels 1, nb leaves per class 5\n"
     ]
    },
    {
     "name": "stderr",
     "output_type": "stream",
     "text": [
      "\n",
      " 22%|██▏       | 2196/10000 [00:00<00:01, 6811.47it/s] \u001b[A\n",
      " 30%|██▉       | 2964/10000 [00:00<00:00, 7050.40it/s]\u001b[A\n",
      " 41%|████      | 4080/10000 [00:00<00:00, 8392.76it/s]\u001b[A\n",
      " 51%|█████▏    | 5145/10000 [00:00<00:00, 9109.41it/s]\u001b[A\n",
      " 62%|██████▏   | 6198/10000 [00:00<00:00, 9552.56it/s]\u001b[A\n",
      " 72%|███████▏  | 7192/10000 [00:00<00:00, 9671.88it/s]\u001b[A\n",
      " 82%|████████▏ | 8184/10000 [00:00<00:00, 9453.92it/s]\u001b[A\n",
      "100%|██████████| 10000/10000 [00:01<00:00, 9217.06it/s][A\n",
      "\n",
      "  0%|          | 0/10000 [00:00<?, ?it/s]\u001b[A\n",
      " 11%|█         | 1086/10000 [00:00<00:00, 10854.78it/s]\u001b[A\n",
      " 22%|██▏       | 2201/10000 [00:00<00:00, 10992.84it/s]\u001b[A\n",
      " 33%|███▎      | 3301/10000 [00:00<00:00, 10335.53it/s]\u001b[A\n",
      " 43%|████▎     | 4339/10000 [00:00<00:00, 9355.82it/s] \u001b[A\n",
      " 53%|█████▎    | 5288/10000 [00:00<00:00, 8519.31it/s]\u001b[A\n",
      " 63%|██████▎   | 6254/10000 [00:00<00:00, 8859.65it/s]\u001b[A\n",
      " 72%|███████▏  | 7155/10000 [00:00<00:00, 7478.85it/s]\u001b[A\n",
      " 80%|███████▉  | 7973/10000 [00:00<00:00, 7662.57it/s]\u001b[A\n",
      " 89%|████████▉ | 8901/10000 [00:01<00:00, 8077.89it/s]\u001b[A\n",
      "100%|██████████| 10000/10000 [00:01<00:00, 8513.25it/s][A\n",
      "\n",
      "  0%|          | 0/10000 [00:00<?, ?it/s]\u001b[A\n",
      " 11%|█         | 1101/10000 [00:00<00:00, 11005.58it/s]\u001b[A"
     ]
    },
    {
     "name": "stdout",
     "output_type": "stream",
     "text": [
      "Running experiment with rnd seed 9, nb levels 1, nb leaves per class 5\n"
     ]
    },
    {
     "name": "stderr",
     "output_type": "stream",
     "text": [
      "\n",
      " 24%|██▎       | 2354/10000 [00:00<00:00, 11901.80it/s]\u001b[A\n",
      " 35%|███▌      | 3545/10000 [00:00<00:00, 11468.63it/s]\u001b[A\n",
      " 47%|████▋     | 4694/10000 [00:00<00:00, 11364.53it/s]\u001b[A\n",
      " 60%|█████▉    | 5955/10000 [00:00<00:00, 11802.55it/s]\u001b[A\n",
      " 71%|███████▏  | 7137/10000 [00:00<00:00, 10624.88it/s]\u001b[A\n",
      " 83%|████████▎ | 8253/10000 [00:00<00:00, 10785.87it/s]\u001b[A\n",
      "100%|██████████| 10000/10000 [00:00<00:00, 11043.13it/s][A\n",
      "\n",
      "  0%|          | 0/10000 [00:00<?, ?it/s]\u001b[A\n",
      " 11%|█         | 1052/10000 [00:00<00:00, 10516.52it/s]\u001b[A\n",
      " 22%|██▏       | 2194/10000 [00:00<00:00, 11045.82it/s]\u001b[A\n",
      " 34%|███▍      | 3396/10000 [00:00<00:00, 11486.90it/s]\u001b[A\n",
      " 45%|████▌     | 4545/10000 [00:00<00:00, 10976.92it/s]\u001b[A\n",
      " 56%|█████▋    | 5646/10000 [00:00<00:00, 10952.88it/s]\u001b[A\n",
      " 67%|██████▋   | 6744/10000 [00:00<00:00, 10894.92it/s]\u001b[A\n",
      " 79%|███████▊  | 7858/10000 [00:00<00:00, 10973.12it/s]\u001b[A\n",
      "100%|██████████| 10000/10000 [00:00<00:00, 10796.85it/s][A\n",
      "\n",
      "  0%|          | 0/10000 [00:00<?, ?it/s]\u001b[A\n",
      " 13%|█▎        | 1275/10000 [00:00<00:00, 12744.00it/s]\u001b[A"
     ]
    },
    {
     "name": "stdout",
     "output_type": "stream",
     "text": [
      "Running experiment with rnd seed 10, nb levels 1, nb leaves per class 5\n"
     ]
    },
    {
     "name": "stderr",
     "output_type": "stream",
     "text": [
      "\n",
      " 26%|██▌       | 2550/10000 [00:00<00:00, 11805.12it/s]\u001b[A\n",
      " 37%|███▋      | 3736/10000 [00:00<00:00, 10672.95it/s]\u001b[A\n",
      " 49%|████▊     | 4873/10000 [00:00<00:00, 10921.88it/s]\u001b[A\n",
      " 61%|██████    | 6097/10000 [00:00<00:00, 11368.63it/s]\u001b[A\n",
      " 72%|███████▏  | 7243/10000 [00:00<00:00, 11064.40it/s]\u001b[A\n",
      " 84%|████████▎ | 8356/10000 [00:00<00:00, 10699.88it/s]\u001b[A\n",
      "100%|██████████| 10000/10000 [00:00<00:00, 10672.96it/s][A\n",
      "\n",
      "  0%|          | 0/10000 [00:00<?, ?it/s]\u001b[A\n",
      " 12%|█▏        | 1184/10000 [00:00<00:00, 11835.75it/s]\u001b[A\n",
      " 24%|██▍       | 2423/10000 [00:00<00:00, 12159.86it/s]\u001b[A\n",
      " 36%|███▋      | 3639/10000 [00:00<00:00, 11858.85it/s]\u001b[A\n",
      " 48%|████▊     | 4826/10000 [00:00<00:00, 11389.52it/s]\u001b[A\n",
      " 60%|█████▉    | 5968/10000 [00:00<00:00, 10656.25it/s]\u001b[A\n",
      " 70%|███████   | 7041/10000 [00:00<00:00, 10196.23it/s]\u001b[A\n",
      " 81%|████████  | 8067/10000 [00:00<00:00, 9664.63it/s] \u001b[A\n",
      "100%|██████████| 10000/10000 [00:01<00:00, 9845.92it/s][A\n",
      "\n",
      "  0%|          | 0/10000 [00:00<?, ?it/s]\u001b[A\n",
      "  7%|▋         | 723/10000 [00:00<00:01, 7223.93it/s]\u001b[A"
     ]
    },
    {
     "name": "stdout",
     "output_type": "stream",
     "text": [
      "Running experiment with rnd seed 11, nb levels 1, nb leaves per class 5\n"
     ]
    },
    {
     "name": "stderr",
     "output_type": "stream",
     "text": [
      "\n",
      " 14%|█▍        | 1446/10000 [00:00<00:01, 6752.56it/s]\u001b[A\n",
      " 24%|██▍       | 2391/10000 [00:00<00:00, 7937.79it/s]\u001b[A\n",
      " 35%|███▍      | 3462/10000 [00:00<00:00, 9006.86it/s]\u001b[A\n",
      " 44%|████▎     | 4369/10000 [00:00<00:00, 7959.72it/s]\u001b[A\n",
      " 55%|█████▍    | 5455/10000 [00:00<00:00, 8854.55it/s]\u001b[A\n",
      " 64%|██████▍   | 6434/10000 [00:00<00:00, 9139.97it/s]\u001b[A\n",
      " 74%|███████▎  | 7366/10000 [00:00<00:00, 9022.18it/s]\u001b[A\n",
      " 83%|████████▎ | 8280/10000 [00:00<00:00, 8397.91it/s]\u001b[A\n",
      " 91%|█████████▏| 9135/10000 [00:01<00:00, 8435.89it/s]\u001b[A\n",
      "100%|██████████| 10000/10000 [00:01<00:00, 8384.56it/s][A\n",
      "\n",
      "  0%|          | 0/10000 [00:00<?, ?it/s]\u001b[A\n",
      "  9%|▉         | 894/10000 [00:00<00:01, 8932.41it/s]\u001b[A\n",
      " 19%|█▉        | 1902/10000 [00:00<00:00, 9604.29it/s]\u001b[A\n",
      " 30%|███       | 3007/10000 [00:00<00:00, 10261.43it/s]\u001b[A\n",
      " 41%|████      | 4070/10000 [00:00<00:00, 10406.34it/s]\u001b[A\n",
      " 51%|█████     | 5111/10000 [00:00<00:00, 9557.06it/s] \u001b[A\n",
      " 61%|██████    | 6078/10000 [00:00<00:00, 9180.11it/s]\u001b[A\n",
      " 70%|███████   | 7005/10000 [00:00<00:00, 8240.68it/s]\u001b[A\n",
      " 78%|███████▊  | 7848/10000 [00:00<00:00, 7803.05it/s]\u001b[A\n",
      " 88%|████████▊ | 8784/10000 [00:01<00:00, 8226.77it/s]\u001b[A\n",
      "100%|██████████| 10000/10000 [00:01<00:00, 8908.36it/s][A\n",
      "\n",
      "  0%|          | 0/10000 [00:00<?, ?it/s]\u001b[A\n",
      " 13%|█▎        | 1259/10000 [00:00<00:00, 12587.49it/s]\u001b[A"
     ]
    },
    {
     "name": "stdout",
     "output_type": "stream",
     "text": [
      "Running experiment with rnd seed 12, nb levels 1, nb leaves per class 5\n"
     ]
    },
    {
     "name": "stderr",
     "output_type": "stream",
     "text": [
      "\n",
      " 25%|██▌       | 2518/10000 [00:00<00:00, 10806.09it/s]\u001b[A\n",
      " 36%|███▌      | 3615/10000 [00:00<00:00, 10431.24it/s]\u001b[A\n",
      " 47%|████▋     | 4666/10000 [00:00<00:00, 10172.27it/s]\u001b[A\n",
      " 57%|█████▋    | 5701/10000 [00:00<00:00, 10217.92it/s]\u001b[A\n",
      " 67%|██████▋   | 6726/10000 [00:00<00:00, 9788.47it/s] \u001b[A\n",
      " 77%|███████▋  | 7709/10000 [00:00<00:00, 9543.90it/s]\u001b[A\n",
      " 87%|████████▋ | 8666/10000 [00:00<00:00, 9521.13it/s]\u001b[A\n",
      "100%|██████████| 10000/10000 [00:00<00:00, 10130.82it/s][A\n",
      "\n",
      "  0%|          | 0/10000 [00:00<?, ?it/s]\u001b[A\n",
      " 13%|█▎        | 1301/10000 [00:00<00:00, 12968.24it/s]\u001b[A\n",
      " 26%|██▌       | 2598/10000 [00:00<00:00, 12789.93it/s]\u001b[A\n",
      " 39%|███▉      | 3878/10000 [00:00<00:00, 12626.01it/s]\u001b[A\n",
      " 51%|█████▏    | 5141/10000 [00:00<00:00, 12381.57it/s]\u001b[A\n",
      " 64%|██████▍   | 6380/10000 [00:00<00:00, 12181.15it/s]\u001b[A\n",
      " 76%|███████▌  | 7599/10000 [00:00<00:00, 11985.17it/s]\u001b[A\n",
      " 88%|████████▊ | 8798/10000 [00:00<00:00, 11359.38it/s]\u001b[A\n",
      "100%|██████████| 10000/10000 [00:00<00:00, 11796.53it/s][A\n",
      "\n",
      "  0%|          | 0/10000 [00:00<?, ?it/s]\u001b[A\n",
      " 13%|█▎        | 1328/10000 [00:00<00:00, 13273.37it/s]\u001b[A"
     ]
    },
    {
     "name": "stdout",
     "output_type": "stream",
     "text": [
      "Running experiment with rnd seed 13, nb levels 1, nb leaves per class 5\n"
     ]
    },
    {
     "name": "stderr",
     "output_type": "stream",
     "text": [
      "\n",
      " 27%|██▋       | 2665/10000 [00:00<00:00, 13329.57it/s]\u001b[A\n",
      " 40%|████      | 4001/10000 [00:00<00:00, 13308.40it/s]\u001b[A\n",
      " 53%|█████▎    | 5332/10000 [00:00<00:00, 13173.72it/s]\u001b[A\n",
      " 66%|██████▋   | 6650/10000 [00:00<00:00, 13042.80it/s]\u001b[A\n",
      " 80%|███████▉  | 7955/10000 [00:00<00:00, 12088.61it/s]\u001b[A\n",
      "100%|██████████| 10000/10000 [00:00<00:00, 11303.15it/s][A\n",
      "\n",
      "  0%|          | 0/10000 [00:00<?, ?it/s]\u001b[A\n",
      " 11%|█         | 1101/10000 [00:00<00:00, 10990.12it/s]\u001b[A\n",
      " 22%|██▏       | 2223/10000 [00:00<00:00, 11122.94it/s]\u001b[A\n",
      " 33%|███▎      | 3336/10000 [00:00<00:00, 10770.34it/s]\u001b[A\n",
      " 45%|████▍     | 4492/10000 [00:00<00:00, 11074.84it/s]\u001b[A\n",
      " 56%|█████▌    | 5601/10000 [00:00<00:00, 11018.23it/s]\u001b[A\n",
      " 67%|██████▋   | 6704/10000 [00:00<00:00, 10581.79it/s]\u001b[A\n",
      " 79%|███████▊  | 7855/10000 [00:00<00:00, 10873.37it/s]\u001b[A\n",
      "100%|██████████| 10000/10000 [00:00<00:00, 10717.48it/s][A\n",
      "\n",
      "  0%|          | 0/10000 [00:00<?, ?it/s]\u001b[A\n",
      "  8%|▊         | 801/10000 [00:00<00:01, 7978.39it/s]\u001b[A"
     ]
    },
    {
     "name": "stdout",
     "output_type": "stream",
     "text": [
      "Running experiment with rnd seed 14, nb levels 1, nb leaves per class 5\n"
     ]
    },
    {
     "name": "stderr",
     "output_type": "stream",
     "text": [
      "\n",
      " 19%|█▉        | 1888/10000 [00:00<00:00, 9675.49it/s]\u001b[A\n",
      " 29%|██▊       | 2856/10000 [00:00<00:00, 9647.19it/s]\u001b[A\n",
      " 38%|███▊      | 3821/10000 [00:00<00:00, 9508.62it/s]\u001b[A\n",
      " 49%|████▊     | 4851/10000 [00:00<00:00, 9789.63it/s]\u001b[A\n",
      " 60%|█████▉    | 5992/10000 [00:00<00:00, 10335.67it/s]\u001b[A\n",
      " 71%|███████   | 7076/10000 [00:00<00:00, 10498.26it/s]\u001b[A\n",
      " 82%|████████▏ | 8212/10000 [00:00<00:00, 10771.16it/s]\u001b[A\n",
      "100%|██████████| 10000/10000 [00:00<00:00, 10042.57it/s][A\n",
      "\n",
      "  0%|          | 0/10000 [00:00<?, ?it/s]\u001b[A\n",
      "  9%|▉         | 883/10000 [00:00<00:01, 8829.21it/s]\u001b[A\n",
      " 18%|█▊        | 1766/10000 [00:00<00:00, 8561.60it/s]\u001b[A\n",
      " 28%|██▊       | 2758/10000 [00:00<00:00, 9170.41it/s]\u001b[A\n",
      " 39%|███▊      | 3854/10000 [00:00<00:00, 9867.69it/s]\u001b[A\n",
      " 48%|████▊     | 4843/10000 [00:00<00:00, 9549.83it/s]\u001b[A\n",
      " 58%|█████▊    | 5801/10000 [00:00<00:00, 9410.17it/s]\u001b[A\n",
      " 67%|██████▋   | 6744/10000 [00:00<00:00, 9272.54it/s]\u001b[A\n",
      " 77%|███████▋  | 7726/10000 [00:00<00:00, 9439.77it/s]\u001b[A\n",
      " 87%|████████▋ | 8701/10000 [00:00<00:00, 9523.19it/s]\u001b[A\n",
      "100%|██████████| 10000/10000 [00:01<00:00, 9370.61it/s][A\n",
      "\n",
      "  0%|          | 0/10000 [00:00<?, ?it/s]\u001b[A\n",
      " 11%|█         | 1057/10000 [00:00<00:00, 10564.22it/s]\u001b[A"
     ]
    },
    {
     "name": "stdout",
     "output_type": "stream",
     "text": [
      "Running experiment with rnd seed 15, nb levels 1, nb leaves per class 5\n"
     ]
    },
    {
     "name": "stderr",
     "output_type": "stream",
     "text": [
      "\n",
      " 23%|██▎       | 2303/10000 [00:00<00:00, 11678.93it/s]\u001b[A\n",
      " 36%|███▌      | 3554/10000 [00:00<00:00, 12057.37it/s]\u001b[A\n",
      " 48%|████▊     | 4760/10000 [00:00<00:00, 11939.32it/s]\u001b[A\n",
      " 60%|█████▉    | 5955/10000 [00:00<00:00, 11202.12it/s]\u001b[A\n",
      " 71%|███████   | 7083/10000 [00:00<00:00, 11025.32it/s]\u001b[A\n",
      " 82%|████████▏ | 8191/10000 [00:00<00:00, 10717.38it/s]\u001b[A\n",
      "100%|██████████| 10000/10000 [00:00<00:00, 11098.56it/s][A\n",
      "\n",
      "  0%|          | 0/10000 [00:00<?, ?it/s]\u001b[A\n",
      " 11%|█         | 1101/10000 [00:00<00:00, 10980.58it/s]\u001b[A\n",
      " 22%|██▏       | 2200/10000 [00:00<00:00, 10216.35it/s]\u001b[A\n",
      " 33%|███▎      | 3264/10000 [00:00<00:00, 10400.61it/s]\u001b[A\n",
      " 44%|████▎     | 4374/10000 [00:00<00:00, 10668.40it/s]\u001b[A\n",
      " 55%|█████▌    | 5501/10000 [00:00<00:00, 10877.50it/s]\u001b[A\n",
      " 66%|██████▌   | 6591/10000 [00:00<00:00, 10518.05it/s]\u001b[A\n",
      " 76%|███████▋  | 7646/10000 [00:00<00:00, 9870.70it/s] \u001b[A\n",
      " 86%|████████▋ | 8642/10000 [00:00<00:00, 9349.88it/s]\u001b[A\n",
      "100%|██████████| 10000/10000 [00:01<00:00, 9762.35it/s][A\n",
      "\n",
      "  0%|          | 0/10000 [00:00<?, ?it/s]\u001b[A\n",
      "  9%|▉         | 880/10000 [00:00<00:01, 8793.91it/s]\u001b[A"
     ]
    },
    {
     "name": "stdout",
     "output_type": "stream",
     "text": [
      "Running experiment with rnd seed 16, nb levels 1, nb leaves per class 5\n"
     ]
    },
    {
     "name": "stderr",
     "output_type": "stream",
     "text": [
      "\n",
      " 18%|█▊        | 1760/10000 [00:00<00:00, 8771.91it/s]\u001b[A\n",
      " 28%|██▊       | 2806/10000 [00:00<00:00, 9540.52it/s]\u001b[A\n",
      " 38%|███▊      | 3836/10000 [00:00<00:00, 9837.38it/s]\u001b[A\n",
      " 48%|████▊     | 4820/10000 [00:00<00:00, 9675.25it/s]\u001b[A\n",
      " 58%|█████▊    | 5791/10000 [00:00<00:00, 9684.36it/s]\u001b[A\n",
      " 68%|██████▊   | 6812/10000 [00:00<00:00, 9852.91it/s]\u001b[A\n",
      " 78%|███████▊  | 7798/10000 [00:00<00:00, 9677.50it/s]\u001b[A\n",
      " 88%|████████▊ | 8801/10000 [00:00<00:00, 9766.51it/s]\u001b[A\n",
      "100%|██████████| 10000/10000 [00:01<00:00, 9561.03it/s][A\n",
      "\n",
      "  0%|          | 0/10000 [00:00<?, ?it/s]\u001b[A\n",
      " 11%|█         | 1101/10000 [00:00<00:00, 9602.72it/s]\u001b[A\n",
      " 22%|██▏       | 2229/10000 [00:00<00:00, 10532.04it/s]\u001b[A\n",
      " 33%|███▎      | 3288/10000 [00:00<00:00, 10335.51it/s]\u001b[A\n",
      " 45%|████▍     | 4494/10000 [00:00<00:00, 10993.44it/s]\u001b[A\n",
      " 57%|█████▋    | 5669/10000 [00:00<00:00, 11259.61it/s]\u001b[A\n",
      " 68%|██████▊   | 6799/10000 [00:00<00:00, 11139.93it/s]\u001b[A\n",
      " 79%|███████▉  | 7916/10000 [00:00<00:00, 10762.37it/s]\u001b[A\n",
      " 90%|████████▉ | 8996/10000 [00:00<00:00, 9531.67it/s] \u001b[A\n",
      "100%|██████████| 10000/10000 [00:01<00:00, 9743.56it/s][A\n",
      "\n",
      "  0%|          | 0/10000 [00:00<?, ?it/s]\u001b[A\n",
      " 10%|█         | 1001/10000 [00:00<00:00, 9560.18it/s]\u001b[A"
     ]
    },
    {
     "name": "stdout",
     "output_type": "stream",
     "text": [
      "Running experiment with rnd seed 17, nb levels 1, nb leaves per class 5\n"
     ]
    },
    {
     "name": "stderr",
     "output_type": "stream",
     "text": [
      "\n",
      " 22%|██▏       | 2205/10000 [00:00<00:00, 10986.34it/s]\u001b[A\n",
      " 33%|███▎      | 3307/10000 [00:00<00:00, 10849.23it/s]\u001b[A\n",
      " 44%|████▍     | 4421/10000 [00:00<00:00, 10960.83it/s]\u001b[A\n",
      " 57%|█████▋    | 5678/10000 [00:00<00:00, 11532.91it/s]\u001b[A\n",
      " 68%|██████▊   | 6833/10000 [00:00<00:00, 10929.05it/s]\u001b[A\n",
      " 80%|████████  | 8040/10000 [00:00<00:00, 11284.79it/s]\u001b[A\n",
      "100%|██████████| 10000/10000 [00:00<00:00, 10669.31it/s][A\n",
      "\n",
      "  0%|          | 0/10000 [00:00<?, ?it/s]\u001b[A\n",
      " 10%|▉         | 957/10000 [00:00<00:00, 9563.97it/s]\u001b[A\n",
      " 19%|█▉        | 1914/10000 [00:00<00:00, 9266.38it/s]\u001b[A\n",
      " 30%|███       | 3045/10000 [00:00<00:00, 10180.95it/s]\u001b[A\n",
      " 43%|████▎     | 4263/10000 [00:00<00:00, 10960.13it/s]\u001b[A\n",
      " 54%|█████▍    | 5406/10000 [00:00<00:00, 11127.36it/s]\u001b[A\n",
      " 65%|██████▌   | 6521/10000 [00:00<00:00, 11032.17it/s]\u001b[A\n",
      " 76%|███████▋  | 7626/10000 [00:00<00:00, 10636.30it/s]\u001b[A\n",
      " 87%|████████▋ | 8693/10000 [00:00<00:00, 10621.12it/s]\u001b[A\n",
      "100%|██████████| 10000/10000 [00:00<00:00, 10446.86it/s][A\n",
      "\n",
      "  0%|          | 0/10000 [00:00<?, ?it/s]\u001b[A\n",
      " 10%|▉         | 987/10000 [00:00<00:00, 9867.94it/s]\u001b[A"
     ]
    },
    {
     "name": "stdout",
     "output_type": "stream",
     "text": [
      "Running experiment with rnd seed 18, nb levels 1, nb leaves per class 5\n"
     ]
    },
    {
     "name": "stderr",
     "output_type": "stream",
     "text": [
      "\n",
      " 20%|██        | 2021/10000 [00:00<00:00, 10142.97it/s]\u001b[A\n",
      " 30%|███       | 3036/10000 [00:00<00:00, 9845.12it/s] \u001b[A\n",
      " 42%|████▏     | 4182/10000 [00:00<00:00, 10468.55it/s]\u001b[A\n",
      " 54%|█████▍    | 5401/10000 [00:00<00:00, 11057.81it/s]\u001b[A\n",
      " 66%|██████▌   | 6610/10000 [00:00<00:00, 11404.25it/s]\u001b[A\n",
      " 78%|███████▊  | 7842/10000 [00:00<00:00, 11699.55it/s]\u001b[A\n",
      "100%|██████████| 10000/10000 [00:00<00:00, 11144.73it/s][A\n",
      "\n",
      "  0%|          | 0/10000 [00:00<?, ?it/s]\u001b[A\n",
      " 11%|█▏        | 1138/10000 [00:00<00:00, 11376.13it/s]\u001b[A\n",
      " 24%|██▍       | 2411/10000 [00:00<00:00, 12170.12it/s]\u001b[A\n",
      " 36%|███▋      | 3642/10000 [00:00<00:00, 12232.36it/s]\u001b[A\n",
      " 49%|████▊     | 4866/10000 [00:00<00:00, 11204.67it/s]\u001b[A\n",
      " 60%|█████▉    | 5999/10000 [00:00<00:00, 11169.77it/s]\u001b[A\n",
      " 72%|███████▏  | 7173/10000 [00:00<00:00, 11353.64it/s]\u001b[A\n",
      " 83%|████████▎ | 8315/10000 [00:00<00:00, 11298.58it/s]\u001b[A\n",
      "100%|██████████| 10000/10000 [00:00<00:00, 11301.25it/s][A\n",
      "\n",
      "  0%|          | 0/10000 [00:00<?, ?it/s]\u001b[A\n",
      " 11%|█         | 1109/10000 [00:00<00:00, 11085.54it/s]\u001b[A"
     ]
    },
    {
     "name": "stdout",
     "output_type": "stream",
     "text": [
      "Running experiment with rnd seed 19, nb levels 1, nb leaves per class 5\n"
     ]
    },
    {
     "name": "stderr",
     "output_type": "stream",
     "text": [
      "\n",
      " 23%|██▎       | 2270/10000 [00:00<00:00, 11393.46it/s]\u001b[A\n",
      " 35%|███▌      | 3518/10000 [00:00<00:00, 11887.49it/s]\u001b[A\n",
      " 48%|████▊     | 4765/10000 [00:00<00:00, 12115.75it/s]\u001b[A\n",
      " 60%|█████▉    | 5977/10000 [00:00<00:00, 11564.10it/s]\u001b[A\n",
      " 71%|███████▏  | 7138/10000 [00:00<00:00, 11428.88it/s]\u001b[A\n",
      " 83%|████████▎ | 8298/10000 [00:00<00:00, 11482.38it/s]\u001b[A\n",
      "100%|██████████| 10000/10000 [00:00<00:00, 11505.65it/s][A\n",
      "\n",
      "  0%|          | 0/10000 [00:00<?, ?it/s]\u001b[A\n",
      " 12%|█▏        | 1201/10000 [00:00<00:00, 11986.01it/s]\u001b[A\n",
      " 24%|██▍       | 2400/10000 [00:00<00:00, 11414.74it/s]\u001b[A\n",
      " 35%|███▌      | 3544/10000 [00:00<00:00, 11413.81it/s]\u001b[A\n",
      " 47%|████▋     | 4687/10000 [00:00<00:00, 11299.21it/s]\u001b[A\n",
      " 58%|█████▊    | 5818/10000 [00:00<00:00, 11056.93it/s]\u001b[A\n",
      " 69%|██████▉   | 6925/10000 [00:00<00:00, 10757.17it/s]\u001b[A\n",
      " 80%|████████  | 8003/10000 [00:00<00:00, 10166.42it/s]\u001b[A\n",
      "100%|██████████| 10000/10000 [00:00<00:00, 10567.86it/s][A\n",
      "\n",
      "  0%|          | 0/10000 [00:00<?, ?it/s]\u001b[A\n",
      " 12%|█▏        | 1202/10000 [00:00<00:00, 12017.09it/s]\u001b[A"
     ]
    },
    {
     "name": "stdout",
     "output_type": "stream",
     "text": [
      "Running experiment with rnd seed 0, nb levels 1, nb leaves per class 10\n"
     ]
    },
    {
     "name": "stderr",
     "output_type": "stream",
     "text": [
      "\n",
      " 26%|██▌       | 2557/10000 [00:00<00:00, 12914.92it/s]\u001b[A\n",
      " 38%|███▊      | 3849/10000 [00:00<00:00, 12636.13it/s]\u001b[A\n",
      " 51%|█████     | 5114/10000 [00:00<00:00, 12033.59it/s]\u001b[A\n",
      " 63%|██████▎   | 6322/10000 [00:00<00:00, 11674.92it/s]\u001b[A\n",
      " 75%|███████▍  | 7493/10000 [00:00<00:00, 11668.97it/s]\u001b[A\n",
      " 87%|████████▋ | 8662/10000 [00:00<00:00, 10815.19it/s]\u001b[A\n",
      "100%|██████████| 10000/10000 [00:00<00:00, 11390.61it/s][A\n",
      "\n",
      "  0%|          | 0/10000 [00:00<?, ?it/s]\u001b[A\n",
      " 12%|█▏        | 1205/10000 [00:00<00:00, 12047.11it/s]\u001b[A\n",
      " 24%|██▍       | 2410/10000 [00:00<00:00, 11699.97it/s]\u001b[A\n",
      " 36%|███▌      | 3581/10000 [00:00<00:00, 11579.61it/s]\u001b[A\n",
      " 48%|████▊     | 4798/10000 [00:00<00:00, 11806.77it/s]\u001b[A\n",
      " 60%|█████▉    | 5987/10000 [00:00<00:00, 11834.74it/s]\u001b[A\n",
      " 72%|███████▏  | 7171/10000 [00:00<00:00, 11417.00it/s]\u001b[A\n",
      " 83%|████████▎ | 8316/10000 [00:00<00:00, 11169.94it/s]\u001b[A\n",
      "100%|██████████| 10000/10000 [00:00<00:00, 11200.53it/s][A\n",
      "\n",
      "  0%|          | 0/10000 [00:00<?, ?it/s]\u001b[A\n",
      " 12%|█▏        | 1160/10000 [00:00<00:00, 11596.97it/s]\u001b[A"
     ]
    },
    {
     "name": "stdout",
     "output_type": "stream",
     "text": [
      "Running experiment with rnd seed 1, nb levels 1, nb leaves per class 10\n"
     ]
    },
    {
     "name": "stderr",
     "output_type": "stream",
     "text": [
      "\n",
      " 25%|██▍       | 2463/10000 [00:00<00:00, 12437.42it/s]\u001b[A\n",
      " 38%|███▊      | 3789/10000 [00:00<00:00, 12811.79it/s]\u001b[A\n",
      " 51%|█████     | 5071/10000 [00:00<00:00, 12685.79it/s]\u001b[A\n",
      " 63%|██████▎   | 6348/10000 [00:00<00:00, 12713.91it/s]\u001b[A\n",
      " 76%|███████▌  | 7620/10000 [00:00<00:00, 12450.51it/s]\u001b[A\n",
      "100%|██████████| 10000/10000 [00:00<00:00, 11988.75it/s][A\n",
      "\n",
      "  0%|          | 0/10000 [00:00<?, ?it/s]\u001b[A\n",
      " 13%|█▎        | 1284/10000 [00:00<00:00, 12835.02it/s]\u001b[A\n",
      " 26%|██▌       | 2568/10000 [00:00<00:00, 11654.77it/s]\u001b[A\n",
      " 37%|███▋      | 3741/10000 [00:00<00:00, 11627.79it/s]\u001b[A\n",
      " 49%|████▉     | 4922/10000 [00:00<00:00, 11684.90it/s]\u001b[A\n",
      " 61%|██████    | 6093/10000 [00:00<00:00, 11685.83it/s]\u001b[A\n",
      " 73%|███████▎  | 7264/10000 [00:00<00:00, 11532.48it/s]\u001b[A\n",
      " 84%|████████▍ | 8419/10000 [00:00<00:00, 11138.87it/s]\u001b[A\n",
      "100%|██████████| 10000/10000 [00:00<00:00, 11354.18it/s][A\n",
      "\n",
      "  0%|          | 0/10000 [00:00<?, ?it/s]\u001b[A\n",
      " 13%|█▎        | 1301/10000 [00:00<00:00, 12960.88it/s]\u001b[A"
     ]
    },
    {
     "name": "stdout",
     "output_type": "stream",
     "text": [
      "Running experiment with rnd seed 2, nb levels 1, nb leaves per class 10\n"
     ]
    },
    {
     "name": "stderr",
     "output_type": "stream",
     "text": [
      "\n",
      " 26%|██▌       | 2598/10000 [00:00<00:00, 12049.09it/s]\u001b[A\n",
      " 38%|███▊      | 3808/10000 [00:00<00:00, 10687.31it/s]\u001b[A\n",
      " 49%|████▉     | 4912/10000 [00:00<00:00, 10812.95it/s]\u001b[A\n",
      " 60%|██████    | 6045/10000 [00:00<00:00, 10985.35it/s]\u001b[A\n",
      " 72%|███████▏  | 7152/10000 [00:00<00:00, 10833.15it/s]\u001b[A\n",
      " 82%|████████▏ | 8241/10000 [00:00<00:00, 10407.52it/s]\u001b[A\n",
      "100%|██████████| 10000/10000 [00:00<00:00, 10660.54it/s][A\n",
      "\n",
      "  0%|          | 0/10000 [00:00<?, ?it/s]\u001b[A\n",
      "  9%|▉         | 909/10000 [00:00<00:01, 9086.46it/s]\u001b[A\n",
      " 20%|█▉        | 1984/10000 [00:00<00:00, 10061.25it/s]\u001b[A\n",
      " 30%|███       | 3007/10000 [00:00<00:00, 10136.38it/s]\u001b[A\n",
      " 40%|████      | 4021/10000 [00:00<00:00, 9697.54it/s] \u001b[A\n",
      " 50%|████▉     | 4994/10000 [00:00<00:00, 9704.90it/s]\u001b[A\n",
      " 60%|█████▉    | 5967/10000 [00:00<00:00, 9672.02it/s]\u001b[A\n",
      " 69%|██████▉   | 6936/10000 [00:00<00:00, 9460.15it/s]\u001b[A\n",
      " 79%|███████▉  | 7884/10000 [00:00<00:00, 9395.06it/s]\u001b[A\n",
      " 88%|████████▊ | 8825/10000 [00:00<00:00, 9393.89it/s]\u001b[A\n",
      "100%|██████████| 10000/10000 [00:01<00:00, 9516.61it/s][A\n",
      "\n",
      "  0%|          | 0/10000 [00:00<?, ?it/s]\u001b[A\n",
      " 12%|█▏        | 1201/10000 [00:00<00:00, 10530.50it/s]\u001b[A"
     ]
    },
    {
     "name": "stdout",
     "output_type": "stream",
     "text": [
      "Running experiment with rnd seed 3, nb levels 1, nb leaves per class 10\n"
     ]
    },
    {
     "name": "stderr",
     "output_type": "stream",
     "text": [
      "\n",
      " 23%|██▎       | 2284/10000 [00:00<00:00, 10695.74it/s]\u001b[A\n",
      " 34%|███▎      | 3355/10000 [00:00<00:00, 10589.09it/s]\u001b[A\n",
      " 44%|████▍     | 4415/10000 [00:00<00:00, 10061.96it/s]\u001b[A\n",
      " 55%|█████▌    | 5549/10000 [00:00<00:00, 10498.84it/s]\u001b[A\n",
      " 66%|██████▌   | 6603/10000 [00:00<00:00, 10467.01it/s]\u001b[A\n",
      " 77%|███████▋  | 7653/10000 [00:00<00:00, 10290.42it/s]\u001b[A\n",
      " 87%|████████▋ | 8684/10000 [00:00<00:00, 9672.65it/s] \u001b[A\n",
      "100%|██████████| 10000/10000 [00:01<00:00, 9866.85it/s][A\n",
      "\n",
      "  0%|          | 0/10000 [00:00<?, ?it/s]\u001b[A\n",
      " 10%|█         | 1047/10000 [00:00<00:00, 10469.36it/s]\u001b[A\n",
      " 22%|██▏       | 2201/10000 [00:00<00:00, 11092.22it/s]\u001b[A\n",
      " 35%|███▍      | 3453/10000 [00:00<00:00, 11741.05it/s]\u001b[A\n",
      " 46%|████▋     | 4628/10000 [00:00<00:00, 10564.75it/s]\u001b[A\n",
      " 57%|█████▋    | 5701/10000 [00:00<00:00, 10435.52it/s]\u001b[A\n",
      " 68%|██████▊   | 6755/10000 [00:00<00:00, 9955.66it/s] \u001b[A\n",
      " 78%|███████▊  | 7759/10000 [00:00<00:00, 9729.32it/s]\u001b[A\n",
      " 88%|████████▊ | 8780/10000 [00:00<00:00, 9871.64it/s]\u001b[A\n",
      "100%|██████████| 10000/10000 [00:00<00:00, 10020.42it/s]A\n",
      "\n",
      "  0%|          | 0/10000 [00:00<?, ?it/s]\u001b[A\n",
      " 11%|█         | 1076/10000 [00:00<00:00, 10753.04it/s]\u001b[A"
     ]
    },
    {
     "name": "stdout",
     "output_type": "stream",
     "text": [
      "Running experiment with rnd seed 4, nb levels 1, nb leaves per class 10\n"
     ]
    },
    {
     "name": "stderr",
     "output_type": "stream",
     "text": [
      "\n",
      " 22%|██▏       | 2235/10000 [00:00<00:00, 11242.33it/s]\u001b[A\n",
      " 34%|███▎      | 3360/10000 [00:00<00:00, 9623.14it/s] \u001b[A\n",
      " 43%|████▎     | 4347/10000 [00:00<00:00, 9614.49it/s]\u001b[A\n",
      " 56%|█████▌    | 5589/10000 [00:00<00:00, 10556.84it/s]\u001b[A\n",
      " 68%|██████▊   | 6774/10000 [00:00<00:00, 10974.45it/s]\u001b[A\n",
      " 80%|████████  | 8013/10000 [00:00<00:00, 11421.31it/s]\u001b[A\n",
      "100%|██████████| 10000/10000 [00:00<00:00, 10970.05it/s][A\n",
      "\n",
      "  0%|          | 0/10000 [00:00<?, ?it/s]\u001b[A\n",
      " 12%|█▏        | 1219/10000 [00:00<00:00, 12186.09it/s]\u001b[A\n",
      " 25%|██▍       | 2452/10000 [00:00<00:00, 12267.35it/s]\u001b[A\n",
      " 37%|███▋      | 3679/10000 [00:00<00:00, 11864.27it/s]\u001b[A\n",
      " 49%|████▊     | 4867/10000 [00:00<00:00, 11560.33it/s]\u001b[A\n",
      " 60%|██████    | 6025/10000 [00:00<00:00, 10900.25it/s]\u001b[A\n",
      " 71%|███████   | 7121/10000 [00:00<00:00, 10737.65it/s]\u001b[A\n",
      " 82%|████████▏ | 8201/10000 [00:00<00:00, 10739.34it/s]\u001b[A\n",
      "100%|██████████| 10000/10000 [00:00<00:00, 10846.08it/s][A\n",
      "\n",
      "  0%|          | 0/10000 [00:00<?, ?it/s]\u001b[A\n",
      " 13%|█▎        | 1297/10000 [00:00<00:00, 12964.54it/s]\u001b[A"
     ]
    },
    {
     "name": "stdout",
     "output_type": "stream",
     "text": [
      "Running experiment with rnd seed 5, nb levels 1, nb leaves per class 10\n"
     ]
    },
    {
     "name": "stderr",
     "output_type": "stream",
     "text": [
      "\n",
      " 26%|██▌       | 2594/10000 [00:00<00:00, 12817.74it/s]\u001b[A\n",
      " 39%|███▉      | 3876/10000 [00:00<00:00, 11685.14it/s]\u001b[A\n",
      " 51%|█████     | 5055/10000 [00:00<00:00, 11360.64it/s]\u001b[A\n",
      " 62%|██████▏   | 6197/10000 [00:00<00:00, 11164.82it/s]\u001b[A\n",
      " 73%|███████▎  | 7317/10000 [00:00<00:00, 10781.53it/s]\u001b[A\n",
      " 84%|████████▍ | 8399/10000 [00:00<00:00, 10743.16it/s]\u001b[A\n",
      "100%|██████████| 10000/10000 [00:00<00:00, 11023.78it/s][A\n",
      "\n",
      "  0%|          | 0/10000 [00:00<?, ?it/s]\u001b[A\n",
      " 11%|█▏        | 1147/10000 [00:00<00:00, 11462.80it/s]\u001b[A\n",
      " 23%|██▎       | 2343/10000 [00:00<00:00, 11751.95it/s]\u001b[A\n",
      " 35%|███▌      | 3519/10000 [00:00<00:00, 11652.54it/s]\u001b[A\n",
      " 47%|████▋     | 4685/10000 [00:00<00:00, 11638.85it/s]\u001b[A\n",
      " 58%|█████▊    | 5849/10000 [00:00<00:00, 11527.40it/s]\u001b[A\n",
      " 70%|███████   | 7002/10000 [00:00<00:00, 11110.28it/s]\u001b[A\n",
      " 81%|████████  | 8116/10000 [00:00<00:00, 10121.26it/s]\u001b[A\n",
      "100%|██████████| 10000/10000 [00:00<00:00, 10661.54it/s][A\n",
      "\n",
      "  0%|          | 0/10000 [00:00<?, ?it/s]\u001b[A\n",
      " 11%|█         | 1093/10000 [00:00<00:00, 10928.13it/s]\u001b[A"
     ]
    },
    {
     "name": "stdout",
     "output_type": "stream",
     "text": [
      "Running experiment with rnd seed 6, nb levels 1, nb leaves per class 10\n"
     ]
    },
    {
     "name": "stderr",
     "output_type": "stream",
     "text": [
      "\n",
      " 24%|██▎       | 2350/10000 [00:00<00:00, 11881.38it/s]\u001b[A\n",
      " 36%|███▌      | 3609/10000 [00:00<00:00, 12204.60it/s]\u001b[A\n",
      " 49%|████▉     | 4933/10000 [00:00<00:00, 12610.81it/s]\u001b[A\n",
      " 62%|██████▏   | 6219/10000 [00:00<00:00, 12700.04it/s]\u001b[A\n",
      " 75%|███████▍  | 7490/10000 [00:00<00:00, 12658.80it/s]\u001b[A\n",
      " 88%|████████▊ | 8756/10000 [00:00<00:00, 12430.98it/s]\u001b[A\n",
      "100%|██████████| 10000/10000 [00:00<00:00, 11396.91it/s]\u001b[A\n",
      "\n",
      "  0%|          | 0/10000 [00:00<?, ?it/s]\u001b[A\n",
      " 12%|█▏        | 1199/10000 [00:00<00:00, 11987.01it/s]\u001b[A\n",
      " 24%|██▍       | 2398/10000 [00:00<00:00, 11777.57it/s]\u001b[A\n",
      " 36%|███▌      | 3610/10000 [00:00<00:00, 11929.36it/s]\u001b[A\n",
      " 48%|████▊     | 4804/10000 [00:00<00:00, 11351.36it/s]\u001b[A\n",
      " 59%|█████▉    | 5944/10000 [00:00<00:00, 11144.48it/s]\u001b[A\n",
      " 71%|███████   | 7061/10000 [00:00<00:00, 11030.76it/s]\u001b[A\n",
      " 82%|████████▏ | 8166/10000 [00:00<00:00, 10566.24it/s]\u001b[A\n",
      "100%|██████████| 10000/10000 [00:00<00:00, 10900.88it/s][A\n",
      "\n",
      "  0%|          | 0/10000 [00:00<?, ?it/s]\u001b[A\n",
      "  8%|▊         | 813/10000 [00:00<00:01, 8129.62it/s]\u001b[A"
     ]
    },
    {
     "name": "stdout",
     "output_type": "stream",
     "text": [
      "Running experiment with rnd seed 7, nb levels 1, nb leaves per class 10\n"
     ]
    },
    {
     "name": "stderr",
     "output_type": "stream",
     "text": [
      "\n",
      " 21%|██        | 2058/10000 [00:00<00:00, 10660.75it/s]\u001b[A\n",
      " 33%|███▎      | 3345/10000 [00:00<00:00, 11668.31it/s]\u001b[A\n",
      " 46%|████▌     | 4560/10000 [00:00<00:00, 11856.92it/s]\u001b[A\n",
      " 57%|█████▋    | 5746/10000 [00:00<00:00, 11131.67it/s]\u001b[A\n",
      " 69%|██████▉   | 6920/10000 [00:00<00:00, 11328.52it/s]\u001b[A\n",
      " 82%|████████▏ | 8166/10000 [00:00<00:00, 11687.56it/s]\u001b[A\n",
      "100%|██████████| 10000/10000 [00:00<00:00, 11352.65it/s][A\n",
      "\n",
      "  0%|          | 0/10000 [00:00<?, ?it/s]\u001b[A\n",
      " 12%|█▏        | 1216/10000 [00:00<00:00, 12153.58it/s]\u001b[A\n",
      " 24%|██▍       | 2432/10000 [00:00<00:00, 10913.90it/s]\u001b[A\n",
      " 37%|███▋      | 3675/10000 [00:00<00:00, 11563.07it/s]\u001b[A\n",
      " 49%|████▊     | 4870/10000 [00:00<00:00, 11707.42it/s]\u001b[A\n",
      " 60%|██████    | 6050/10000 [00:00<00:00, 11739.39it/s]\u001b[A\n",
      " 72%|███████▏  | 7228/10000 [00:00<00:00, 11587.03it/s]\u001b[A\n",
      " 84%|████████▍ | 8392/10000 [00:00<00:00, 11603.10it/s]\u001b[A\n",
      "100%|██████████| 10000/10000 [00:00<00:00, 11464.10it/s][A\n",
      "\n",
      "  0%|          | 0/10000 [00:00<?, ?it/s]\u001b[A\n",
      " 14%|█▎        | 1360/10000 [00:00<00:00, 13597.81it/s]\u001b[A"
     ]
    },
    {
     "name": "stdout",
     "output_type": "stream",
     "text": [
      "Running experiment with rnd seed 8, nb levels 1, nb leaves per class 10\n"
     ]
    },
    {
     "name": "stderr",
     "output_type": "stream",
     "text": [
      "\n",
      " 27%|██▋       | 2720/10000 [00:00<00:00, 13582.48it/s]\u001b[A\n",
      " 41%|████      | 4079/10000 [00:00<00:00, 12585.14it/s]\u001b[A\n",
      " 53%|█████▎    | 5346/10000 [00:00<00:00, 12024.82it/s]\u001b[A\n",
      " 66%|██████▌   | 6557/10000 [00:00<00:00, 12050.90it/s]\u001b[A\n",
      " 78%|███████▊  | 7767/10000 [00:00<00:00, 11473.24it/s]\u001b[A\n",
      "100%|██████████| 10000/10000 [00:00<00:00, 11993.87it/s][A\n",
      "\n",
      "  0%|          | 0/10000 [00:00<?, ?it/s]\u001b[A\n",
      " 13%|█▎        | 1273/10000 [00:00<00:00, 12721.06it/s]\u001b[A\n",
      " 25%|██▌       | 2546/10000 [00:00<00:00, 12081.77it/s]\u001b[A\n",
      " 38%|███▊      | 3774/10000 [00:00<00:00, 12168.10it/s]\u001b[A\n",
      " 50%|████▉     | 4993/10000 [00:00<00:00, 12171.59it/s]\u001b[A\n",
      " 62%|██████▏   | 6212/10000 [00:00<00:00, 10870.55it/s]\u001b[A\n",
      " 73%|███████▎  | 7320/10000 [00:00<00:00, 10420.76it/s]\u001b[A\n",
      " 84%|████████▍ | 8377/10000 [00:00<00:00, 10219.48it/s]\u001b[A\n",
      "100%|██████████| 10000/10000 [00:00<00:00, 10793.97it/s][A\n",
      "\n",
      "  0%|          | 0/10000 [00:00<?, ?it/s]\u001b[A\n",
      " 12%|█▏        | 1246/10000 [00:00<00:00, 12449.33it/s]\u001b[A"
     ]
    },
    {
     "name": "stdout",
     "output_type": "stream",
     "text": [
      "Running experiment with rnd seed 9, nb levels 1, nb leaves per class 10\n"
     ]
    },
    {
     "name": "stderr",
     "output_type": "stream",
     "text": [
      "\n",
      " 26%|██▋       | 2631/10000 [00:00<00:00, 13262.89it/s]\u001b[A\n",
      " 40%|███▉      | 3962/10000 [00:00<00:00, 13282.14it/s]\u001b[A\n",
      " 53%|█████▎    | 5298/10000 [00:00<00:00, 13309.25it/s]\u001b[A\n",
      " 66%|██████▋   | 6629/10000 [00:00<00:00, 13055.82it/s]\u001b[A\n",
      " 79%|███████▉  | 7936/10000 [00:00<00:00, 11708.98it/s]\u001b[A\n",
      "100%|██████████| 10000/10000 [00:00<00:00, 11980.68it/s][A\n",
      "\n",
      "  0%|          | 0/10000 [00:00<?, ?it/s]\u001b[A\n",
      " 12%|█▏        | 1182/10000 [00:00<00:00, 11814.80it/s]\u001b[A\n",
      " 24%|██▎       | 2364/10000 [00:00<00:00, 11811.19it/s]\u001b[A\n",
      " 35%|███▌      | 3546/10000 [00:00<00:00, 11566.85it/s]\u001b[A\n",
      " 48%|████▊     | 4759/10000 [00:00<00:00, 11785.72it/s]\u001b[A\n",
      " 59%|█████▉    | 5939/10000 [00:00<00:00, 11627.55it/s]\u001b[A\n",
      " 71%|███████   | 7103/10000 [00:00<00:00, 11382.25it/s]\u001b[A\n",
      " 82%|████████▏ | 8243/10000 [00:00<00:00, 11149.86it/s]\u001b[A\n",
      "100%|██████████| 10000/10000 [00:00<00:00, 10951.98it/s][A\n",
      "\n",
      "  0%|          | 0/10000 [00:00<?, ?it/s]\u001b[A\n",
      " 11%|█▏        | 1144/10000 [00:00<00:00, 11435.43it/s]\u001b[A"
     ]
    },
    {
     "name": "stdout",
     "output_type": "stream",
     "text": [
      "Running experiment with rnd seed 10, nb levels 1, nb leaves per class 10\n"
     ]
    },
    {
     "name": "stderr",
     "output_type": "stream",
     "text": [
      "\n",
      " 24%|██▍       | 2408/10000 [00:00<00:00, 12137.37it/s]\u001b[A\n",
      " 37%|███▋      | 3742/10000 [00:00<00:00, 12684.63it/s]\u001b[A\n",
      " 50%|█████     | 5011/10000 [00:00<00:00, 11422.79it/s]\u001b[A\n",
      " 62%|██████▏   | 6170/10000 [00:00<00:00, 10699.20it/s]\u001b[A\n",
      " 73%|███████▎  | 7274/10000 [00:00<00:00, 10802.89it/s]\u001b[A\n",
      " 84%|████████▍ | 8434/10000 [00:00<00:00, 11046.66it/s]\u001b[A\n",
      "100%|██████████| 10000/10000 [00:00<00:00, 10969.51it/s][A\n",
      "\n",
      "  0%|          | 0/10000 [00:00<?, ?it/s]\u001b[A\n",
      " 12%|█▏        | 1207/10000 [00:00<00:00, 12061.56it/s]\u001b[A\n",
      " 24%|██▍       | 2414/10000 [00:00<00:00, 11559.02it/s]\u001b[A\n",
      " 37%|███▋      | 3651/10000 [00:00<00:00, 11919.87it/s]\u001b[A\n",
      " 48%|████▊     | 4845/10000 [00:00<00:00, 11359.95it/s]\u001b[A\n",
      " 60%|█████▉    | 5986/10000 [00:00<00:00, 11218.94it/s]\u001b[A\n",
      " 71%|███████   | 7111/10000 [00:00<00:00, 10983.20it/s]\u001b[A\n",
      " 82%|████████▏ | 8245/10000 [00:00<00:00, 11094.07it/s]\u001b[A\n",
      "100%|██████████| 10000/10000 [00:00<00:00, 11097.52it/s][A\n",
      "\n",
      "  0%|          | 0/10000 [00:00<?, ?it/s]\u001b[A\n",
      " 10%|█         | 1047/10000 [00:00<00:00, 10468.54it/s]\u001b[A"
     ]
    },
    {
     "name": "stdout",
     "output_type": "stream",
     "text": [
      "Running experiment with rnd seed 11, nb levels 1, nb leaves per class 10\n"
     ]
    },
    {
     "name": "stderr",
     "output_type": "stream",
     "text": [
      "\n",
      " 23%|██▎       | 2327/10000 [00:00<00:00, 11837.26it/s]\u001b[A\n",
      " 35%|███▌      | 3511/10000 [00:00<00:00, 11465.65it/s]\u001b[A\n",
      " 47%|████▋     | 4685/10000 [00:00<00:00, 11570.20it/s]\u001b[A\n",
      " 59%|█████▊    | 5857/10000 [00:00<00:00, 11622.84it/s]\u001b[A\n",
      " 70%|███████   | 7020/10000 [00:00<00:00, 11429.39it/s]\u001b[A\n",
      " 82%|████████▏ | 8164/10000 [00:00<00:00, 11290.71it/s]\u001b[A\n",
      "100%|██████████| 10000/10000 [00:00<00:00, 11294.06it/s][A\n",
      "\n",
      "  0%|          | 0/10000 [00:00<?, ?it/s]\u001b[A\n",
      " 12%|█▏        | 1201/10000 [00:00<00:00, 11989.00it/s]\u001b[A\n",
      " 24%|██▍       | 2400/10000 [00:00<00:00, 11121.37it/s]\u001b[A\n",
      " 36%|███▌      | 3613/10000 [00:00<00:00, 11562.50it/s]\u001b[A\n",
      " 48%|████▊     | 4811/10000 [00:00<00:00, 11720.03it/s]\u001b[A\n",
      " 60%|██████    | 6001/10000 [00:00<00:00, 11774.17it/s]\u001b[A\n",
      " 72%|███████▏  | 7181/10000 [00:00<00:00, 11772.91it/s]\u001b[A\n",
      " 84%|████████▎ | 8360/10000 [00:00<00:00, 11668.15it/s]\u001b[A\n",
      "100%|██████████| 10000/10000 [00:00<00:00, 11551.02it/s][A\n",
      "\n",
      "  0%|          | 0/10000 [00:00<?, ?it/s]\u001b[A\n",
      " 12%|█▏        | 1170/10000 [00:00<00:00, 11698.95it/s]\u001b[A"
     ]
    },
    {
     "name": "stdout",
     "output_type": "stream",
     "text": [
      "Running experiment with rnd seed 12, nb levels 1, nb leaves per class 10\n"
     ]
    },
    {
     "name": "stderr",
     "output_type": "stream",
     "text": [
      "\n",
      " 23%|██▎       | 2340/10000 [00:00<00:00, 9922.72it/s] \u001b[A\n",
      " 34%|███▎      | 3350/10000 [00:00<00:00, 9957.53it/s]\u001b[A\n",
      " 44%|████▍     | 4395/10000 [00:00<00:00, 10139.14it/s]\u001b[A\n",
      " 56%|█████▌    | 5612/10000 [00:00<00:00, 10842.88it/s]\u001b[A\n",
      " 68%|██████▊   | 6843/10000 [00:00<00:00, 11328.45it/s]\u001b[A\n",
      " 80%|████████  | 8016/10000 [00:00<00:00, 11457.29it/s]\u001b[A\n",
      "100%|██████████| 10000/10000 [00:00<00:00, 10982.66it/s][A\n",
      "\n",
      "  0%|          | 0/10000 [00:00<?, ?it/s]\u001b[A\n",
      " 12%|█▏        | 1173/10000 [00:00<00:00, 11721.46it/s]\u001b[A\n",
      " 23%|██▎       | 2346/10000 [00:00<00:00, 11281.40it/s]\u001b[A\n",
      " 35%|███▌      | 3513/10000 [00:00<00:00, 11454.28it/s]\u001b[A\n",
      " 47%|████▋     | 4660/10000 [00:00<00:00, 11221.18it/s]\u001b[A\n",
      " 58%|█████▊    | 5784/10000 [00:00<00:00, 10397.39it/s]\u001b[A\n",
      " 69%|██████▉   | 6941/10000 [00:00<00:00, 10770.16it/s]\u001b[A\n",
      " 80%|████████  | 8027/10000 [00:00<00:00, 10788.52it/s]\u001b[A\n",
      "100%|██████████| 10000/10000 [00:00<00:00, 10908.92it/s][A\n",
      "\n",
      "  0%|          | 0/10000 [00:00<?, ?it/s]\u001b[A\n",
      " 14%|█▍        | 1392/10000 [00:00<00:00, 13913.15it/s]\u001b[A"
     ]
    },
    {
     "name": "stdout",
     "output_type": "stream",
     "text": [
      "Running experiment with rnd seed 13, nb levels 1, nb leaves per class 10\n"
     ]
    },
    {
     "name": "stderr",
     "output_type": "stream",
     "text": [
      "\n",
      " 28%|██▊       | 2784/10000 [00:00<00:00, 13668.79it/s]\u001b[A\n",
      " 42%|████▏     | 4152/10000 [00:00<00:00, 13306.41it/s]\u001b[A\n",
      " 55%|█████▍    | 5484/10000 [00:00<00:00, 12677.46it/s]\u001b[A\n",
      " 68%|██████▊   | 6756/10000 [00:00<00:00, 11411.18it/s]\u001b[A\n",
      " 79%|███████▉  | 7915/10000 [00:00<00:00, 10414.83it/s]\u001b[A\n",
      "100%|██████████| 10000/10000 [00:00<00:00, 11290.94it/s][A\n",
      "\n",
      "  0%|          | 0/10000 [00:00<?, ?it/s]\u001b[A\n",
      " 10%|█         | 1013/10000 [00:00<00:00, 10125.33it/s]\u001b[A\n",
      " 22%|██▏       | 2188/10000 [00:00<00:00, 11076.28it/s]\u001b[A\n",
      " 34%|███▍      | 3401/10000 [00:00<00:00, 11544.82it/s]\u001b[A\n",
      " 46%|████▌     | 4600/10000 [00:00<00:00, 11719.23it/s]\u001b[A\n",
      " 58%|█████▊    | 5787/10000 [00:00<00:00, 11771.53it/s]\u001b[A\n",
      " 70%|██████▉   | 6965/10000 [00:00<00:00, 11323.09it/s]\u001b[A\n",
      " 81%|████████  | 8101/10000 [00:00<00:00, 10319.50it/s]\u001b[A\n",
      "100%|██████████| 10000/10000 [00:00<00:00, 10796.97it/s][A\n",
      "\n",
      "  0%|          | 0/10000 [00:00<?, ?it/s]\u001b[A\n",
      " 14%|█▍        | 1407/10000 [00:00<00:00, 14064.95it/s]\u001b[A"
     ]
    },
    {
     "name": "stdout",
     "output_type": "stream",
     "text": [
      "Running experiment with rnd seed 14, nb levels 1, nb leaves per class 10\n"
     ]
    },
    {
     "name": "stderr",
     "output_type": "stream",
     "text": [
      "\n",
      " 28%|██▊       | 2814/10000 [00:00<00:00, 13656.75it/s]\u001b[A\n",
      " 42%|████▏     | 4181/10000 [00:00<00:00, 12885.21it/s]\u001b[A\n",
      " 55%|█████▍    | 5474/10000 [00:00<00:00, 12733.01it/s]\u001b[A\n",
      " 68%|██████▊   | 6750/10000 [00:00<00:00, 12599.26it/s]\u001b[A\n",
      " 80%|████████  | 8012/10000 [00:00<00:00, 12601.88it/s]\u001b[A\n",
      "100%|██████████| 10000/10000 [00:00<00:00, 12310.99it/s][A\n",
      "\n",
      "  0%|          | 0/10000 [00:00<?, ?it/s]\u001b[A\n",
      " 12%|█▏        | 1218/10000 [00:00<00:00, 12175.89it/s]\u001b[A\n",
      " 25%|██▍       | 2476/10000 [00:00<00:00, 12412.25it/s]\u001b[A\n",
      " 37%|███▋      | 3718/10000 [00:00<00:00, 12321.84it/s]\u001b[A\n",
      " 50%|████▉     | 4951/10000 [00:00<00:00, 12257.38it/s]\u001b[A\n",
      " 62%|██████▏   | 6177/10000 [00:00<00:00, 11683.33it/s]\u001b[A\n",
      " 74%|███████▎  | 7350/10000 [00:00<00:00, 11557.40it/s]\u001b[A\n",
      " 85%|████████▌ | 8509/10000 [00:00<00:00, 11246.27it/s]\u001b[A\n",
      "100%|██████████| 10000/10000 [00:00<00:00, 11454.64it/s][A\n",
      "\n",
      "  0%|          | 0/10000 [00:00<?, ?it/s]\u001b[A\n",
      " 13%|█▎        | 1294/10000 [00:00<00:00, 12937.14it/s]\u001b[A"
     ]
    },
    {
     "name": "stdout",
     "output_type": "stream",
     "text": [
      "Running experiment with rnd seed 15, nb levels 1, nb leaves per class 10\n"
     ]
    },
    {
     "name": "stderr",
     "output_type": "stream",
     "text": [
      "\n",
      " 26%|██▌       | 2588/10000 [00:00<00:00, 11578.43it/s]\u001b[A\n",
      " 39%|███▊      | 3873/10000 [00:00<00:00, 12123.86it/s]\u001b[A\n",
      " 52%|█████▏    | 5191/10000 [00:00<00:00, 12523.56it/s]\u001b[A\n",
      " 65%|██████▍   | 6451/10000 [00:00<00:00, 11278.35it/s]\u001b[A\n",
      " 76%|███████▌  | 7620/10000 [00:00<00:00, 11405.38it/s]\u001b[A\n",
      " 88%|████████▊ | 8776/10000 [00:00<00:00, 11438.59it/s]\u001b[A\n",
      "100%|██████████| 10000/10000 [00:00<00:00, 11617.81it/s][A\n",
      "\n",
      "  0%|          | 0/10000 [00:00<?, ?it/s]\u001b[A\n",
      " 12%|█▏        | 1200/10000 [00:00<00:00, 11992.95it/s]\u001b[A\n",
      " 24%|██▍       | 2425/10000 [00:00<00:00, 12139.12it/s]\u001b[A\n",
      " 36%|███▋      | 3639/10000 [00:00<00:00, 10875.08it/s]\u001b[A\n",
      " 48%|████▊     | 4784/10000 [00:00<00:00, 11086.27it/s]\u001b[A\n",
      " 59%|█████▉    | 5946/10000 [00:00<00:00, 11268.74it/s]\u001b[A\n",
      " 71%|███████   | 7101/10000 [00:00<00:00, 11356.94it/s]\u001b[A\n",
      " 82%|████████▏ | 8242/10000 [00:00<00:00, 11215.02it/s]\u001b[A\n",
      "100%|██████████| 10000/10000 [00:00<00:00, 11155.87it/s][A\n",
      "\n",
      "  0%|          | 0/10000 [00:00<?, ?it/s]\u001b[A\n",
      " 13%|█▎        | 1310/10000 [00:00<00:00, 13098.92it/s]\u001b[A"
     ]
    },
    {
     "name": "stdout",
     "output_type": "stream",
     "text": [
      "Running experiment with rnd seed 16, nb levels 1, nb leaves per class 10\n"
     ]
    },
    {
     "name": "stderr",
     "output_type": "stream",
     "text": [
      "\n",
      " 26%|██▌       | 2620/10000 [00:00<00:00, 12994.38it/s]\u001b[A\n",
      " 39%|███▉      | 3943/10000 [00:00<00:00, 13099.53it/s]\u001b[A\n",
      " 53%|█████▎    | 5254/10000 [00:00<00:00, 12349.54it/s]\u001b[A\n",
      " 65%|██████▍   | 6495/10000 [00:00<00:00, 11774.61it/s]\u001b[A\n",
      " 77%|███████▋  | 7679/10000 [00:00<00:00, 11532.35it/s]\u001b[A\n",
      "100%|██████████| 10000/10000 [00:00<00:00, 11930.17it/s][A\n",
      "\n",
      "  0%|          | 0/10000 [00:00<?, ?it/s]\u001b[A\n",
      " 12%|█▏        | 1242/10000 [00:00<00:00, 12411.67it/s]\u001b[A\n",
      " 25%|██▍       | 2484/10000 [00:00<00:00, 12368.00it/s]\u001b[A\n",
      " 37%|███▋      | 3721/10000 [00:00<00:00, 12322.21it/s]\u001b[A\n",
      " 50%|████▉     | 4954/10000 [00:00<00:00, 12113.10it/s]\u001b[A\n",
      " 62%|██████▏   | 6166/10000 [00:00<00:00, 11966.93it/s]\u001b[A\n",
      " 74%|███████▎  | 7364/10000 [00:00<00:00, 10991.46it/s]\u001b[A\n",
      " 85%|████████▍ | 8476/10000 [00:00<00:00, 10774.95it/s]\u001b[A\n",
      "100%|██████████| 10000/10000 [00:00<00:00, 11237.23it/s][A\n",
      "\n",
      "  0%|          | 0/10000 [00:00<?, ?it/s]\u001b[A\n",
      " 13%|█▎        | 1298/10000 [00:00<00:00, 12977.01it/s]\u001b[A"
     ]
    },
    {
     "name": "stdout",
     "output_type": "stream",
     "text": [
      "Running experiment with rnd seed 17, nb levels 1, nb leaves per class 10\n"
     ]
    },
    {
     "name": "stderr",
     "output_type": "stream",
     "text": [
      "\n",
      " 26%|██▋       | 2642/10000 [00:00<00:00, 13248.02it/s]\u001b[A\n",
      " 40%|███▉      | 3967/10000 [00:00<00:00, 12390.60it/s]\u001b[A\n",
      " 52%|█████▏    | 5213/10000 [00:00<00:00, 11985.93it/s]\u001b[A\n",
      " 64%|██████▍   | 6416/10000 [00:00<00:00, 11914.45it/s]\u001b[A\n",
      " 76%|███████▌  | 7610/10000 [00:00<00:00, 11297.44it/s]\u001b[A\n",
      " 87%|████████▋ | 8746/10000 [00:00<00:00, 10540.96it/s]\u001b[A\n",
      "100%|██████████| 10000/10000 [00:00<00:00, 11265.75it/s][A\n",
      "\n",
      "  0%|          | 0/10000 [00:00<?, ?it/s]\u001b[A\n",
      " 12%|█▏        | 1151/10000 [00:00<00:00, 11506.31it/s]\u001b[A\n",
      " 24%|██▍       | 2387/10000 [00:00<00:00, 12005.17it/s]\u001b[A\n",
      " 36%|███▋      | 3633/10000 [00:00<00:00, 12209.96it/s]\u001b[A\n",
      " 49%|████▊     | 4854/10000 [00:00<00:00, 11912.60it/s]\u001b[A\n",
      " 60%|██████    | 6047/10000 [00:00<00:00, 11482.87it/s]\u001b[A\n",
      " 72%|███████▏  | 7198/10000 [00:00<00:00, 10935.68it/s]\u001b[A\n",
      " 83%|████████▎ | 8297/10000 [00:00<00:00, 10312.86it/s]\u001b[A\n",
      "100%|██████████| 10000/10000 [00:00<00:00, 10492.46it/s][A\n",
      "\n",
      "  0%|          | 0/10000 [00:00<?, ?it/s]\u001b[A\n",
      " 12%|█▏        | 1190/10000 [00:00<00:00, 11898.93it/s]\u001b[A"
     ]
    },
    {
     "name": "stdout",
     "output_type": "stream",
     "text": [
      "Running experiment with rnd seed 18, nb levels 1, nb leaves per class 10\n"
     ]
    },
    {
     "name": "stderr",
     "output_type": "stream",
     "text": [
      "\n",
      " 24%|██▍       | 2380/10000 [00:00<00:00, 11500.44it/s]\u001b[A\n",
      " 35%|███▌      | 3531/10000 [00:00<00:00, 9860.29it/s] \u001b[A\n",
      " 45%|████▌     | 4540/10000 [00:00<00:00, 9734.90it/s]\u001b[A\n",
      " 57%|█████▋    | 5730/10000 [00:00<00:00, 10451.34it/s]\u001b[A\n",
      " 69%|██████▉   | 6930/10000 [00:00<00:00, 10947.87it/s]\u001b[A\n",
      " 81%|████████  | 8058/10000 [00:00<00:00, 11051.03it/s]\u001b[A\n",
      "100%|██████████| 10000/10000 [00:00<00:00, 10585.26it/s][A\n",
      "\n",
      "  0%|          | 0/10000 [00:00<?, ?it/s]\u001b[A\n",
      " 12%|█▏        | 1217/10000 [00:00<00:00, 12169.17it/s]\u001b[A\n",
      " 24%|██▍       | 2434/10000 [00:00<00:00, 12105.93it/s]\u001b[A\n",
      " 36%|███▋      | 3645/10000 [00:00<00:00, 11732.94it/s]\u001b[A\n",
      " 49%|████▉     | 4880/10000 [00:00<00:00, 11971.14it/s]\u001b[A\n",
      " 61%|██████    | 6079/10000 [00:00<00:00, 11884.91it/s]\u001b[A\n",
      " 73%|███████▎  | 7269/10000 [00:00<00:00, 11831.85it/s]\u001b[A\n",
      " 85%|████████▍ | 8453/10000 [00:00<00:00, 11595.84it/s]\u001b[A\n",
      "100%|██████████| 10000/10000 [00:00<00:00, 11095.33it/s][A\n",
      "\n",
      "  0%|          | 0/10000 [00:00<?, ?it/s]\u001b[A\n",
      " 10%|█         | 1022/10000 [00:00<00:00, 10217.33it/s]\u001b[A"
     ]
    },
    {
     "name": "stdout",
     "output_type": "stream",
     "text": [
      "Running experiment with rnd seed 19, nb levels 1, nb leaves per class 10\n"
     ]
    },
    {
     "name": "stderr",
     "output_type": "stream",
     "text": [
      "\n",
      " 21%|██        | 2124/10000 [00:00<00:00, 10681.95it/s]\u001b[A\n",
      " 32%|███▏      | 3193/10000 [00:00<00:00, 10159.55it/s]\u001b[A\n",
      " 44%|████▍     | 4391/10000 [00:00<00:00, 10855.77it/s]\u001b[A\n",
      " 56%|█████▌    | 5617/10000 [00:00<00:00, 11351.42it/s]\u001b[A\n",
      " 69%|██████▉   | 6890/10000 [00:00<00:00, 11812.04it/s]\u001b[A\n",
      " 81%|████████  | 8075/10000 [00:00<00:00, 11098.24it/s]\u001b[A\n",
      "100%|██████████| 10000/10000 [00:00<00:00, 10996.22it/s][A\n",
      "\n",
      "  0%|          | 0/10000 [00:00<?, ?it/s]\u001b[A\n",
      " 12%|█▏        | 1213/10000 [00:00<00:00, 12124.20it/s]\u001b[A\n",
      " 24%|██▍       | 2426/10000 [00:00<00:00, 10340.71it/s]\u001b[A\n",
      " 36%|███▌      | 3574/10000 [00:00<00:00, 10813.29it/s]\u001b[A\n",
      " 47%|████▋     | 4728/10000 [00:00<00:00, 11083.49it/s]\u001b[A\n",
      " 59%|█████▉    | 5928/10000 [00:00<00:00, 11400.82it/s]\u001b[A\n",
      " 71%|███████   | 7078/10000 [00:00<00:00, 11432.87it/s]\u001b[A\n",
      " 82%|████████▏ | 8227/10000 [00:00<00:00, 11245.28it/s]\u001b[A\n",
      "100%|██████████| 10000/10000 [00:00<00:00, 10973.63it/s][A\n",
      "\n",
      "  0%|          | 0/10000 [00:00<?, ?it/s]\u001b[A\n",
      " 11%|█         | 1124/10000 [00:00<00:00, 11237.97it/s]\u001b[A"
     ]
    },
    {
     "name": "stdout",
     "output_type": "stream",
     "text": [
      "Running experiment with rnd seed 0, nb levels 1, nb leaves per class 50\n"
     ]
    },
    {
     "name": "stderr",
     "output_type": "stream",
     "text": [
      "\n",
      " 22%|██▏       | 2248/10000 [00:00<00:00, 11002.86it/s]\u001b[A\n",
      " 33%|███▎      | 3349/10000 [00:00<00:00, 10651.40it/s]\u001b[A\n",
      " 44%|████▍     | 4416/10000 [00:00<00:00, 7912.31it/s] \u001b[A\n",
      " 53%|█████▎    | 5283/10000 [00:00<00:00, 7482.43it/s]\u001b[A\n",
      " 62%|██████▏   | 6201/10000 [00:00<00:00, 7934.43it/s]\u001b[A\n",
      " 72%|███████▏  | 7158/10000 [00:00<00:00, 8394.24it/s]\u001b[A\n",
      " 82%|████████▏ | 8182/10000 [00:00<00:00, 8923.69it/s]\u001b[A\n",
      "100%|██████████| 10000/10000 [00:01<00:00, 9070.51it/s][A\n",
      "\n",
      "  0%|          | 0/10000 [00:00<?, ?it/s]\u001b[A\n",
      " 11%|█▏        | 1139/10000 [00:00<00:00, 11382.60it/s]\u001b[A\n",
      " 23%|██▎       | 2278/10000 [00:00<00:00, 10777.60it/s]\u001b[A\n",
      " 34%|███▎      | 3358/10000 [00:00<00:00, 10624.59it/s]\u001b[A\n",
      " 44%|████▍     | 4435/10000 [00:00<00:00, 10680.29it/s]\u001b[A\n",
      " 55%|█████▌    | 5504/10000 [00:00<00:00, 8051.82it/s] \u001b[A\n",
      " 64%|██████▍   | 6388/10000 [00:00<00:00, 8201.31it/s]\u001b[A\n",
      " 74%|███████▍  | 7401/10000 [00:00<00:00, 8731.02it/s]\u001b[A\n",
      " 84%|████████▍ | 8440/10000 [00:00<00:00, 9205.09it/s]\u001b[A\n",
      "100%|██████████| 10000/10000 [00:01<00:00, 9373.04it/s][A\n",
      "\n",
      "  0%|          | 0/10000 [00:00<?, ?it/s]\u001b[A\n",
      " 13%|█▎        | 1268/10000 [00:00<00:00, 12678.23it/s]\u001b[A"
     ]
    },
    {
     "name": "stdout",
     "output_type": "stream",
     "text": [
      "Running experiment with rnd seed 1, nb levels 1, nb leaves per class 50\n"
     ]
    },
    {
     "name": "stderr",
     "output_type": "stream",
     "text": [
      "\n",
      " 25%|██▌       | 2536/10000 [00:00<00:00, 11229.20it/s]\u001b[A\n",
      " 37%|███▋      | 3708/10000 [00:00<00:00, 11435.70it/s]\u001b[A\n",
      " 49%|████▉     | 4899/10000 [00:00<00:00, 11614.04it/s]\u001b[A\n",
      " 61%|██████    | 6101/10000 [00:00<00:00, 11723.01it/s]\u001b[A\n",
      " 73%|███████▎  | 7302/10000 [00:00<00:00, 11816.70it/s]\u001b[A\n",
      " 85%|████████▍ | 8487/10000 [00:00<00:00, 11596.43it/s]\u001b[A\n",
      "100%|██████████| 10000/10000 [00:00<00:00, 11536.03it/s][A\n",
      "\n",
      "  0%|          | 0/10000 [00:00<?, ?it/s]\u001b[A\n",
      " 11%|█▏        | 1148/10000 [00:00<00:00, 11477.36it/s]\u001b[A\n",
      " 23%|██▎       | 2318/10000 [00:00<00:00, 11605.58it/s]\u001b[A\n",
      " 35%|███▍      | 3479/10000 [00:00<00:00, 10582.18it/s]\u001b[A\n",
      " 45%|████▌     | 4547/10000 [00:00<00:00, 9708.82it/s] \u001b[A\n",
      " 56%|█████▋    | 5632/10000 [00:00<00:00, 10080.44it/s]\u001b[A\n",
      " 68%|██████▊   | 6764/10000 [00:00<00:00, 10473.16it/s]\u001b[A\n",
      " 78%|███████▊  | 7822/10000 [00:00<00:00, 10368.65it/s]\u001b[A\n",
      " 89%|████████▉ | 8916/10000 [00:00<00:00, 10541.69it/s]\u001b[A\n",
      "100%|██████████| 10000/10000 [00:00<00:00, 10303.67it/s][A\n",
      "\n",
      "  0%|          | 0/10000 [00:00<?, ?it/s]\u001b[A\n",
      " 13%|█▎        | 1330/10000 [00:00<00:00, 13293.04it/s]\u001b[A"
     ]
    },
    {
     "name": "stdout",
     "output_type": "stream",
     "text": [
      "Running experiment with rnd seed 2, nb levels 1, nb leaves per class 50\n"
     ]
    },
    {
     "name": "stderr",
     "output_type": "stream",
     "text": [
      "\n",
      " 27%|██▋       | 2660/10000 [00:00<00:00, 13188.30it/s]\u001b[A\n",
      " 40%|███▉      | 3979/10000 [00:00<00:00, 13075.62it/s]\u001b[A\n",
      " 53%|█████▎    | 5287/10000 [00:00<00:00, 11564.43it/s]\u001b[A\n",
      " 65%|██████▍   | 6466/10000 [00:00<00:00, 11590.37it/s]\u001b[A\n",
      " 76%|███████▋  | 7640/10000 [00:00<00:00, 11568.80it/s]\u001b[A\n",
      " 88%|████████▊ | 8807/10000 [00:00<00:00, 11476.89it/s]\u001b[A\n",
      "100%|██████████| 10000/10000 [00:00<00:00, 11717.09it/s][A\n",
      "\n",
      "  0%|          | 0/10000 [00:00<?, ?it/s]\u001b[A\n",
      " 11%|█         | 1088/10000 [00:00<00:00, 10873.68it/s]\u001b[A\n",
      " 23%|██▎       | 2303/10000 [00:00<00:00, 11621.96it/s]\u001b[A\n",
      " 35%|███▌      | 3501/10000 [00:00<00:00, 11750.32it/s]\u001b[A\n",
      " 47%|████▋     | 4692/10000 [00:00<00:00, 11812.73it/s]\u001b[A\n",
      " 59%|█████▊    | 5874/10000 [00:00<00:00, 11205.37it/s]\u001b[A\n",
      " 70%|███████   | 7000/10000 [00:00<00:00, 10072.85it/s]\u001b[A\n",
      " 80%|████████  | 8027/10000 [00:00<00:00, 9782.86it/s] \u001b[A\n",
      "100%|██████████| 10000/10000 [00:00<00:00, 10408.71it/s]A\n",
      "\n",
      "  0%|          | 0/10000 [00:00<?, ?it/s]\u001b[A\n",
      " 13%|█▎        | 1264/10000 [00:00<00:00, 12634.44it/s]\u001b[A"
     ]
    },
    {
     "name": "stdout",
     "output_type": "stream",
     "text": [
      "Running experiment with rnd seed 3, nb levels 1, nb leaves per class 50\n"
     ]
    },
    {
     "name": "stderr",
     "output_type": "stream",
     "text": [
      "\n",
      " 25%|██▌       | 2528/10000 [00:00<00:00, 12152.71it/s]\u001b[A\n",
      " 37%|███▋      | 3745/10000 [00:00<00:00, 11931.41it/s]\u001b[A\n",
      " 49%|████▉     | 4939/10000 [00:00<00:00, 11679.27it/s]\u001b[A\n",
      " 61%|██████    | 6116/10000 [00:00<00:00, 11710.85it/s]\u001b[A\n",
      " 73%|███████▎  | 7288/10000 [00:00<00:00, 11324.36it/s]\u001b[A\n",
      " 84%|████████▍ | 8423/10000 [00:00<00:00, 10979.72it/s]\u001b[A\n",
      "100%|██████████| 10000/10000 [00:00<00:00, 11379.69it/s][A\n",
      "\n",
      "  0%|          | 0/10000 [00:00<?, ?it/s]\u001b[A\n",
      " 11%|█▏        | 1149/10000 [00:00<00:00, 11483.22it/s]\u001b[A\n",
      " 23%|██▎       | 2305/10000 [00:00<00:00, 11522.76it/s]\u001b[A\n",
      " 35%|███▍      | 3458/10000 [00:00<00:00, 10996.20it/s]\u001b[A\n",
      " 46%|████▌     | 4561/10000 [00:00<00:00, 10711.54it/s]\u001b[A\n",
      " 57%|█████▋    | 5701/10000 [00:00<00:00, 10950.01it/s]\u001b[A\n",
      " 68%|██████▊   | 6835/10000 [00:00<00:00, 11079.31it/s]\u001b[A\n",
      " 79%|███████▉  | 7945/10000 [00:00<00:00, 10869.58it/s]\u001b[A\n",
      "100%|██████████| 10000/10000 [00:00<00:00, 10708.04it/s][A\n",
      "\n",
      "  0%|          | 0/10000 [00:00<?, ?it/s]\u001b[A\n",
      " 10%|█         | 1040/10000 [00:00<00:00, 10399.24it/s]\u001b[A"
     ]
    },
    {
     "name": "stdout",
     "output_type": "stream",
     "text": [
      "Running experiment with rnd seed 4, nb levels 1, nb leaves per class 50\n"
     ]
    },
    {
     "name": "stderr",
     "output_type": "stream",
     "text": [
      "\n",
      " 23%|██▎       | 2261/10000 [00:00<00:00, 11456.01it/s]\u001b[A\n",
      " 34%|███▍      | 3407/10000 [00:00<00:00, 11445.88it/s]\u001b[A\n",
      " 46%|████▌     | 4562/10000 [00:00<00:00, 11486.76it/s]\u001b[A\n",
      " 57%|█████▋    | 5711/10000 [00:00<00:00, 11385.14it/s]\u001b[A\n",
      " 69%|██████▉   | 6912/10000 [00:00<00:00, 11593.94it/s]\u001b[A\n",
      " 81%|████████  | 8105/10000 [00:00<00:00, 11701.69it/s]\u001b[A\n",
      "100%|██████████| 10000/10000 [00:00<00:00, 11145.54it/s][A\n",
      "\n",
      "  0%|          | 0/10000 [00:00<?, ?it/s]\u001b[A\n",
      " 12%|█▏        | 1173/10000 [00:00<00:00, 11725.51it/s]\u001b[A\n",
      " 24%|██▍       | 2378/10000 [00:00<00:00, 11914.96it/s]\u001b[A\n",
      " 36%|███▌      | 3590/10000 [00:00<00:00, 12008.13it/s]\u001b[A\n",
      " 48%|████▊     | 4791/10000 [00:00<00:00, 11853.10it/s]\u001b[A\n",
      " 60%|█████▉    | 5977/10000 [00:00<00:00, 11710.27it/s]\u001b[A\n",
      " 71%|███████▏  | 7149/10000 [00:00<00:00, 11271.36it/s]\u001b[A\n",
      " 83%|████████▎ | 8279/10000 [00:00<00:00, 10939.39it/s]\u001b[A\n",
      "100%|██████████| 10000/10000 [00:00<00:00, 11117.95it/s][A\n",
      "\n",
      "  0%|          | 0/10000 [00:00<?, ?it/s]\u001b[A\n",
      "  9%|▉         | 914/10000 [00:00<00:00, 9133.52it/s]\u001b[A"
     ]
    },
    {
     "name": "stdout",
     "output_type": "stream",
     "text": [
      "Running experiment with rnd seed 5, nb levels 1, nb leaves per class 50\n"
     ]
    },
    {
     "name": "stderr",
     "output_type": "stream",
     "text": [
      "\n",
      " 21%|██        | 2055/10000 [00:00<00:00, 10468.00it/s]\u001b[A\n",
      " 33%|███▎      | 3272/10000 [00:00<00:00, 11242.73it/s]\u001b[A\n",
      " 45%|████▌     | 4523/10000 [00:00<00:00, 11740.76it/s]\u001b[A\n",
      " 58%|█████▊    | 5769/10000 [00:00<00:00, 11997.36it/s]\u001b[A\n",
      " 70%|██████▉   | 6969/10000 [00:00<00:00, 11857.77it/s]\u001b[A\n",
      " 82%|████████▏ | 8156/10000 [00:00<00:00, 11625.39it/s]\u001b[A\n",
      "100%|██████████| 10000/10000 [00:00<00:00, 11397.27it/s][A\n",
      "\n",
      "  0%|          | 0/10000 [00:00<?, ?it/s]\u001b[A\n",
      " 11%|█         | 1124/10000 [00:00<00:00, 11235.48it/s]\u001b[A\n",
      " 22%|██▏       | 2248/10000 [00:00<00:00, 10360.12it/s]\u001b[A\n",
      " 33%|███▎      | 3340/10000 [00:00<00:00, 10601.55it/s]\u001b[A\n",
      " 45%|████▌     | 4500/10000 [00:00<00:00, 10984.27it/s]\u001b[A\n",
      " 57%|█████▋    | 5666/10000 [00:00<00:00, 11221.17it/s]\u001b[A\n",
      " 68%|██████▊   | 6801/10000 [00:00<00:00, 11229.26it/s]\u001b[A\n",
      " 79%|███████▉  | 7938/10000 [00:00<00:00, 11273.20it/s]\u001b[A\n",
      "100%|██████████| 10000/10000 [00:00<00:00, 10977.74it/s][A\n",
      "\n",
      "  0%|          | 0/10000 [00:00<?, ?it/s]\u001b[A\n",
      " 13%|█▎        | 1270/10000 [00:00<00:00, 12698.07it/s]\u001b[A"
     ]
    },
    {
     "name": "stdout",
     "output_type": "stream",
     "text": [
      "Running experiment with rnd seed 6, nb levels 1, nb leaves per class 50\n"
     ]
    },
    {
     "name": "stderr",
     "output_type": "stream",
     "text": [
      "\n",
      " 26%|██▌       | 2593/10000 [00:00<00:00, 13007.37it/s]\u001b[A\n",
      " 39%|███▉      | 3894/10000 [00:00<00:00, 11459.88it/s]\u001b[A\n",
      " 51%|█████     | 5060/10000 [00:00<00:00, 10996.38it/s]\u001b[A\n",
      " 63%|██████▎   | 6270/10000 [00:00<00:00, 11362.46it/s]\u001b[A\n",
      " 74%|███████▍  | 7417/10000 [00:00<00:00, 11321.12it/s]\u001b[A\n",
      " 86%|████████▌ | 8556/10000 [00:00<00:00, 11310.76it/s]\u001b[A\n",
      "100%|██████████| 10000/10000 [00:00<00:00, 11239.92it/s][A\n",
      "\n",
      "  0%|          | 0/10000 [00:00<?, ?it/s]\u001b[A\n",
      " 12%|█▏        | 1158/10000 [00:00<00:00, 11577.80it/s]\u001b[A\n",
      " 23%|██▎       | 2316/10000 [00:00<00:00, 11501.17it/s]\u001b[A\n",
      " 35%|███▍      | 3497/10000 [00:00<00:00, 11638.71it/s]\u001b[A\n",
      " 47%|████▋     | 4661/10000 [00:00<00:00, 10908.92it/s]\u001b[A\n",
      " 58%|█████▊    | 5759/10000 [00:00<00:00, 10581.88it/s]\u001b[A\n",
      " 68%|██████▊   | 6824/10000 [00:00<00:00, 10601.72it/s]\u001b[A\n",
      " 79%|███████▉  | 7888/10000 [00:00<00:00, 10589.97it/s]\u001b[A\n",
      "100%|██████████| 10000/10000 [00:00<00:00, 10767.16it/s][A\n",
      "\n",
      "  0%|          | 0/10000 [00:00<?, ?it/s]\u001b[A\n",
      " 14%|█▎        | 1358/10000 [00:00<00:00, 13574.74it/s]\u001b[A"
     ]
    },
    {
     "name": "stdout",
     "output_type": "stream",
     "text": [
      "Running experiment with rnd seed 7, nb levels 1, nb leaves per class 50\n"
     ]
    },
    {
     "name": "stderr",
     "output_type": "stream",
     "text": [
      "\n",
      " 27%|██▋       | 2716/10000 [00:00<00:00, 13059.75it/s]\u001b[A\n",
      " 40%|████      | 4024/10000 [00:00<00:00, 12802.39it/s]\u001b[A\n",
      " 53%|█████▎    | 5306/10000 [00:00<00:00, 12373.83it/s]\u001b[A\n",
      " 65%|██████▌   | 6546/10000 [00:00<00:00, 11565.39it/s]\u001b[A\n",
      " 77%|███████▋  | 7710/10000 [00:00<00:00, 11437.31it/s]\u001b[A\n",
      " 89%|████████▊ | 8858/10000 [00:00<00:00, 11269.24it/s]\u001b[A\n",
      "100%|██████████| 10000/10000 [00:00<00:00, 11623.79it/s][A\n",
      "\n",
      "  0%|          | 0/10000 [00:00<?, ?it/s]\u001b[A\n",
      " 12%|█▏        | 1150/10000 [00:00<00:00, 11494.86it/s]\u001b[A\n",
      " 24%|██▍       | 2380/10000 [00:00<00:00, 11966.54it/s]\u001b[A\n",
      " 36%|███▌      | 3581/10000 [00:00<00:00, 11984.97it/s]\u001b[A\n",
      " 48%|████▊     | 4780/10000 [00:00<00:00, 11876.41it/s]\u001b[A\n",
      " 60%|█████▉    | 5968/10000 [00:00<00:00, 11812.07it/s]\u001b[A\n",
      " 72%|███████▏  | 7150/10000 [00:00<00:00, 11412.81it/s]\u001b[A\n",
      " 83%|████████▎ | 8294/10000 [00:00<00:00, 10449.78it/s]\u001b[A\n",
      "100%|██████████| 10000/10000 [00:00<00:00, 10951.99it/s][A\n",
      "\n",
      "  0%|          | 0/10000 [00:00<?, ?it/s]\u001b[A\n",
      " 13%|█▎        | 1280/10000 [00:00<00:00, 12798.00it/s]\u001b[A"
     ]
    },
    {
     "name": "stdout",
     "output_type": "stream",
     "text": [
      "Running experiment with rnd seed 8, nb levels 1, nb leaves per class 50\n"
     ]
    },
    {
     "name": "stderr",
     "output_type": "stream",
     "text": [
      "\n",
      " 26%|██▌       | 2560/10000 [00:00<00:00, 11873.92it/s]\u001b[A\n",
      " 38%|███▊      | 3752/10000 [00:00<00:00, 11811.08it/s]\u001b[A\n",
      " 50%|█████     | 5008/10000 [00:00<00:00, 12095.60it/s]\u001b[A\n",
      " 62%|██████▎   | 6250/10000 [00:00<00:00, 12207.65it/s]\u001b[A\n",
      " 75%|███████▍  | 7473/10000 [00:00<00:00, 12163.49it/s]\u001b[A\n",
      " 87%|████████▋ | 8691/10000 [00:00<00:00, 12067.13it/s]\u001b[A\n",
      "100%|██████████| 10000/10000 [00:00<00:00, 11634.59it/s][A\n",
      "\n",
      "  0%|          | 0/10000 [00:00<?, ?it/s]\u001b[A\n",
      " 11%|█▏        | 1136/10000 [00:00<00:00, 11356.00it/s]\u001b[A\n",
      " 23%|██▎       | 2272/10000 [00:00<00:00, 11144.41it/s]\u001b[A\n",
      " 34%|███▍      | 3387/10000 [00:00<00:00, 10735.75it/s]\u001b[A\n",
      " 45%|████▍     | 4463/10000 [00:00<00:00, 10634.60it/s]\u001b[A\n",
      " 55%|█████▌    | 5528/10000 [00:00<00:00, 10001.15it/s]\u001b[A\n",
      " 65%|██████▌   | 6534/10000 [00:00<00:00, 9999.72it/s] \u001b[A\n",
      " 75%|███████▌  | 7538/10000 [00:00<00:00, 9918.61it/s]\u001b[A\n",
      " 85%|████████▌ | 8533/10000 [00:00<00:00, 9894.88it/s]\u001b[A\n",
      "100%|██████████| 10000/10000 [00:01<00:00, 9876.90it/s][A\n",
      "\n",
      "  0%|          | 0/10000 [00:00<?, ?it/s]\u001b[A\n",
      " 10%|█         | 1034/10000 [00:00<00:00, 10335.03it/s]\u001b[A"
     ]
    },
    {
     "name": "stdout",
     "output_type": "stream",
     "text": [
      "Running experiment with rnd seed 9, nb levels 1, nb leaves per class 50\n"
     ]
    },
    {
     "name": "stderr",
     "output_type": "stream",
     "text": [
      "\n",
      " 22%|██▏       | 2201/10000 [00:00<00:00, 11080.79it/s]\u001b[A\n",
      " 34%|███▎      | 3365/10000 [00:00<00:00, 11335.42it/s]\u001b[A\n",
      " 45%|████▍     | 4499/10000 [00:00<00:00, 11112.83it/s]\u001b[A\n",
      " 56%|█████▌    | 5611/10000 [00:00<00:00, 10992.52it/s]\u001b[A\n",
      " 67%|██████▋   | 6711/10000 [00:00<00:00, 10919.89it/s]\u001b[A\n",
      " 79%|███████▉  | 7901/10000 [00:00<00:00, 11188.87it/s]\u001b[A\n",
      "100%|██████████| 10000/10000 [00:00<00:00, 10621.41it/s][A\n",
      "\n",
      "  0%|          | 0/10000 [00:00<?, ?it/s]\u001b[A\n",
      "  9%|▉         | 915/10000 [00:00<00:00, 9148.55it/s]\u001b[A\n",
      " 18%|█▊        | 1847/10000 [00:00<00:00, 9248.31it/s]\u001b[A\n",
      " 28%|██▊       | 2797/10000 [00:00<00:00, 9361.99it/s]\u001b[A\n",
      " 37%|███▋      | 3740/10000 [00:00<00:00, 9385.87it/s]\u001b[A\n",
      " 47%|████▋     | 4679/10000 [00:00<00:00, 9257.44it/s]\u001b[A\n",
      " 56%|█████▌    | 5606/10000 [00:00<00:00, 9028.46it/s]\u001b[A\n",
      " 65%|██████▌   | 6536/10000 [00:00<00:00, 9113.50it/s]\u001b[A\n",
      " 76%|███████▌  | 7552/10000 [00:00<00:00, 9440.38it/s]\u001b[A\n",
      " 86%|████████▌ | 8601/10000 [00:00<00:00, 9255.20it/s]\u001b[A\n",
      "100%|██████████| 10000/10000 [00:01<00:00, 9048.16it/s][A\n",
      "\n",
      "  0%|          | 0/10000 [00:00<?, ?it/s]\u001b[A\n",
      " 12%|█▏        | 1171/10000 [00:00<00:00, 11702.17it/s]\u001b[A"
     ]
    },
    {
     "name": "stdout",
     "output_type": "stream",
     "text": [
      "Running experiment with rnd seed 10, nb levels 1, nb leaves per class 50\n"
     ]
    },
    {
     "name": "stderr",
     "output_type": "stream",
     "text": [
      "\n",
      " 24%|██▎       | 2373/10000 [00:00<00:00, 11883.07it/s]\u001b[A\n",
      " 36%|███▌      | 3562/10000 [00:00<00:00, 10886.39it/s]\u001b[A\n",
      " 47%|████▋     | 4660/10000 [00:00<00:00, 10497.75it/s]\u001b[A\n",
      " 57%|█████▋    | 5716/10000 [00:00<00:00, 10296.20it/s]\u001b[A\n",
      " 67%|██████▋   | 6749/10000 [00:00<00:00, 10119.86it/s]\u001b[A\n",
      " 78%|███████▊  | 7763/10000 [00:00<00:00, 10022.50it/s]\u001b[A\n",
      " 88%|████████▊ | 8767/10000 [00:00<00:00, 9664.65it/s] \u001b[A\n",
      "100%|██████████| 10000/10000 [00:01<00:00, 9909.65it/s][A\n",
      "\n",
      "  0%|          | 0/10000 [00:00<?, ?it/s]\u001b[A\n",
      " 11%|█         | 1101/10000 [00:00<00:00, 11009.43it/s]\u001b[A\n",
      " 22%|██▏       | 2202/10000 [00:00<00:00, 10726.98it/s]\u001b[A\n",
      " 33%|███▎      | 3276/10000 [00:00<00:00, 10594.72it/s]\u001b[A\n",
      " 43%|████▎     | 4336/10000 [00:00<00:00, 10429.72it/s]\u001b[A\n",
      " 54%|█████▍    | 5419/10000 [00:00<00:00, 10570.75it/s]\u001b[A\n",
      " 65%|██████▍   | 6483/10000 [00:00<00:00, 10592.24it/s]\u001b[A\n",
      " 75%|███████▌  | 7543/10000 [00:00<00:00, 10132.31it/s]\u001b[A\n",
      " 86%|████████▌ | 8560/10000 [00:00<00:00, 10065.67it/s]\u001b[A\n",
      "100%|██████████| 10000/10000 [00:01<00:00, 9866.10it/s]\u001b[A\n",
      "\n",
      "  0%|          | 0/10000 [00:00<?, ?it/s]\u001b[A\n",
      " 12%|█▏        | 1194/10000 [00:00<00:00, 11932.02it/s]\u001b[A"
     ]
    },
    {
     "name": "stdout",
     "output_type": "stream",
     "text": [
      "Running experiment with rnd seed 11, nb levels 1, nb leaves per class 50\n"
     ]
    },
    {
     "name": "stderr",
     "output_type": "stream",
     "text": [
      "\n",
      " 24%|██▍       | 2388/10000 [00:00<00:00, 11714.82it/s]\u001b[A\n",
      " 36%|███▌      | 3560/10000 [00:00<00:00, 11238.06it/s]\u001b[A\n",
      " 47%|████▋     | 4686/10000 [00:00<00:00, 11147.45it/s]\u001b[A\n",
      " 58%|█████▊    | 5802/10000 [00:00<00:00, 11055.60it/s]\u001b[A\n",
      " 70%|██████▉   | 6961/10000 [00:00<00:00, 11231.98it/s]\u001b[A\n",
      " 81%|████████  | 8085/10000 [00:00<00:00, 11125.14it/s]\u001b[A\n",
      "100%|██████████| 10000/10000 [00:00<00:00, 10808.59it/s][A\n",
      "\n",
      "  0%|          | 0/10000 [00:00<?, ?it/s]\u001b[A\n",
      " 11%|█         | 1069/10000 [00:00<00:00, 10681.89it/s]\u001b[A\n",
      " 22%|██▏       | 2171/10000 [00:00<00:00, 10879.24it/s]\u001b[A\n",
      " 33%|███▎      | 3259/10000 [00:00<00:00, 9911.65it/s] \u001b[A\n",
      " 43%|████▎     | 4260/10000 [00:00<00:00, 9538.28it/s]\u001b[A\n",
      " 54%|█████▍    | 5389/10000 [00:00<00:00, 10127.08it/s]\u001b[A\n",
      " 65%|██████▌   | 6501/10000 [00:00<00:00, 10414.36it/s]\u001b[A\n",
      " 75%|███████▌  | 7549/10000 [00:00<00:00, 10400.64it/s]\u001b[A\n",
      " 86%|████████▌ | 8594/10000 [00:00<00:00, 10310.37it/s]\u001b[A\n",
      "100%|██████████| 10000/10000 [00:00<00:00, 10143.57it/s][A\n",
      "\n",
      "  0%|          | 0/10000 [00:00<?, ?it/s]\u001b[A\n",
      " 10%|█         | 1022/10000 [00:00<00:00, 10216.82it/s]\u001b[A"
     ]
    },
    {
     "name": "stdout",
     "output_type": "stream",
     "text": [
      "Running experiment with rnd seed 12, nb levels 1, nb leaves per class 50\n"
     ]
    },
    {
     "name": "stderr",
     "output_type": "stream",
     "text": [
      "\n",
      " 21%|██        | 2096/10000 [00:00<00:00, 10513.41it/s]\u001b[A\n",
      " 32%|███▏      | 3174/10000 [00:00<00:00, 10631.90it/s]\u001b[A\n",
      " 43%|████▎     | 4271/10000 [00:00<00:00, 10764.54it/s]\u001b[A\n",
      " 53%|█████▎    | 5348/10000 [00:00<00:00, 10327.46it/s]\u001b[A\n",
      " 64%|██████▍   | 6384/10000 [00:00<00:00, 10100.02it/s]\u001b[A\n",
      " 74%|███████▍  | 7397/10000 [00:00<00:00, 10033.05it/s]\u001b[A\n",
      " 84%|████████▍ | 8402/10000 [00:00<00:00, 9774.48it/s] \u001b[A\n",
      "100%|██████████| 10000/10000 [00:01<00:00, 9925.97it/s][A\n",
      "\n",
      "  0%|          | 0/10000 [00:00<?, ?it/s]\u001b[A\n",
      "  9%|▉         | 902/10000 [00:00<00:01, 9015.77it/s]\u001b[A\n",
      " 20%|█▉        | 1955/10000 [00:00<00:00, 9903.58it/s]\u001b[A\n",
      " 31%|███       | 3082/10000 [00:00<00:00, 10525.92it/s]\u001b[A\n",
      " 41%|████▏     | 4135/10000 [00:00<00:00, 9913.89it/s] \u001b[A\n",
      " 51%|█████▏    | 5132/10000 [00:00<00:00, 9739.62it/s]\u001b[A\n",
      " 61%|██████    | 6110/10000 [00:00<00:00, 9546.66it/s]\u001b[A\n",
      " 71%|███████   | 7067/10000 [00:00<00:00, 9397.82it/s]\u001b[A\n",
      " 80%|████████  | 8009/10000 [00:00<00:00, 9231.70it/s]\u001b[A\n",
      " 89%|████████▉ | 8934/10000 [00:00<00:00, 9166.37it/s]\u001b[A\n",
      "100%|██████████| 10000/10000 [00:01<00:00, 9199.52it/s][A\n",
      "\n",
      "  0%|          | 0/10000 [00:00<?, ?it/s]\u001b[A\n",
      " 11%|█         | 1053/10000 [00:00<00:00, 10529.46it/s]\u001b[A"
     ]
    },
    {
     "name": "stdout",
     "output_type": "stream",
     "text": [
      "Running experiment with rnd seed 13, nb levels 1, nb leaves per class 50\n"
     ]
    },
    {
     "name": "stderr",
     "output_type": "stream",
     "text": [
      "\n",
      " 21%|██        | 2106/10000 [00:00<00:00, 10428.13it/s]\u001b[A\n",
      " 31%|███▏      | 3149/10000 [00:00<00:00, 10303.09it/s]\u001b[A\n",
      " 42%|████▏     | 4201/10000 [00:00<00:00, 10367.32it/s]\u001b[A\n",
      " 52%|█████▏    | 5238/10000 [00:00<00:00, 10324.88it/s]\u001b[A\n",
      " 64%|██████▍   | 6395/10000 [00:00<00:00, 10742.19it/s]\u001b[A\n",
      " 75%|███████▍  | 7470/10000 [00:00<00:00, 10678.56it/s]\u001b[A\n",
      " 85%|████████▌ | 8539/10000 [00:00<00:00, 10141.32it/s]\u001b[A\n",
      "100%|██████████| 10000/10000 [00:01<00:00, 9747.01it/s]\u001b[A\n",
      "\n",
      "  0%|          | 0/10000 [00:00<?, ?it/s]\u001b[A\n",
      "  9%|▉         | 904/10000 [00:00<00:01, 9036.93it/s]\u001b[A\n",
      " 18%|█▊        | 1808/10000 [00:00<00:00, 8933.33it/s]\u001b[A\n",
      " 27%|██▋       | 2702/10000 [00:00<00:00, 8838.43it/s]\u001b[A\n",
      " 37%|███▋      | 3686/10000 [00:00<00:00, 9226.41it/s]\u001b[A\n",
      " 47%|████▋     | 4747/10000 [00:00<00:00, 9721.01it/s]\u001b[A\n",
      " 57%|█████▋    | 5720/10000 [00:00<00:00, 9617.92it/s]\u001b[A\n",
      " 67%|██████▋   | 6732/10000 [00:00<00:00, 9776.98it/s]\u001b[A\n",
      " 78%|███████▊  | 7759/10000 [00:00<00:00, 9932.40it/s]\u001b[A\n",
      " 88%|████████▊ | 8753/10000 [00:00<00:00, 9900.98it/s]\u001b[A\n",
      "100%|██████████| 10000/10000 [00:01<00:00, 9498.44it/s][A\n",
      "\n",
      "  0%|          | 0/10000 [00:00<?, ?it/s]\u001b[A\n",
      " 13%|█▎        | 1266/10000 [00:00<00:00, 12654.28it/s]\u001b[A"
     ]
    },
    {
     "name": "stdout",
     "output_type": "stream",
     "text": [
      "Running experiment with rnd seed 14, nb levels 1, nb leaves per class 50\n"
     ]
    },
    {
     "name": "stderr",
     "output_type": "stream",
     "text": [
      "\n",
      " 25%|██▌       | 2532/10000 [00:00<00:00, 12047.99it/s]\u001b[A\n",
      " 38%|███▊      | 3794/10000 [00:00<00:00, 12301.45it/s]\u001b[A\n",
      " 50%|█████     | 5026/10000 [00:00<00:00, 11825.60it/s]\u001b[A\n",
      " 62%|██████▏   | 6212/10000 [00:00<00:00, 11761.30it/s]\u001b[A\n",
      " 74%|███████▍  | 7390/10000 [00:00<00:00, 11537.98it/s]\u001b[A\n",
      " 86%|████████▌ | 8560/10000 [00:00<00:00, 11587.70it/s]\u001b[A\n",
      "100%|██████████| 10000/10000 [00:00<00:00, 11420.82it/s][A\n",
      "\n",
      "  0%|          | 0/10000 [00:00<?, ?it/s]\u001b[A\n",
      "  8%|▊         | 831/10000 [00:00<00:01, 8304.03it/s]\u001b[A\n",
      " 19%|█▉        | 1912/10000 [00:00<00:00, 9777.23it/s]\u001b[A\n",
      " 30%|██▉       | 2993/10000 [00:00<00:00, 10246.67it/s]\u001b[A\n",
      " 41%|████      | 4090/10000 [00:00<00:00, 10529.76it/s]\u001b[A\n",
      " 52%|█████▏    | 5198/10000 [00:00<00:00, 10727.27it/s]\u001b[A\n",
      " 63%|██████▎   | 6271/10000 [00:00<00:00, 10636.00it/s]\u001b[A\n",
      " 73%|███████▎  | 7335/10000 [00:00<00:00, 9799.84it/s] \u001b[A\n",
      " 83%|████████▎ | 8327/10000 [00:00<00:00, 9380.64it/s]\u001b[A\n",
      "100%|██████████| 10000/10000 [00:01<00:00, 9847.26it/s][A\n",
      "\n",
      "  0%|          | 0/10000 [00:00<?, ?it/s]\u001b[A\n",
      "  9%|▉         | 940/10000 [00:00<00:00, 9397.93it/s]\u001b[A"
     ]
    },
    {
     "name": "stdout",
     "output_type": "stream",
     "text": [
      "Running experiment with rnd seed 15, nb levels 1, nb leaves per class 50\n"
     ]
    },
    {
     "name": "stderr",
     "output_type": "stream",
     "text": [
      "\n",
      " 21%|██        | 2118/10000 [00:00<00:00, 10796.10it/s]\u001b[A\n",
      " 33%|███▎      | 3311/10000 [00:00<00:00, 11310.65it/s]\u001b[A\n",
      " 44%|████▍     | 4443/10000 [00:00<00:00, 11177.80it/s]\u001b[A\n",
      " 56%|█████▌    | 5562/10000 [00:00<00:00, 10942.74it/s]\u001b[A\n",
      " 67%|██████▋   | 6723/10000 [00:00<00:00, 11163.08it/s]\u001b[A\n",
      " 78%|███████▊  | 7841/10000 [00:00<00:00, 10584.23it/s]\u001b[A\n",
      " 89%|████████▉ | 8906/10000 [00:00<00:00, 9635.31it/s] \u001b[A\n",
      "100%|██████████| 10000/10000 [00:01<00:00, 9754.83it/s][A\n",
      "\n",
      "  0%|          | 0/10000 [00:00<?, ?it/s]\u001b[A\n",
      "  9%|▉         | 922/10000 [00:00<00:00, 9219.26it/s]\u001b[A\n",
      " 21%|██        | 2077/10000 [00:00<00:00, 10587.38it/s]\u001b[A\n",
      " 32%|███▏      | 3191/10000 [00:00<00:00, 10838.49it/s]\u001b[A\n",
      " 43%|████▎     | 4301/10000 [00:00<00:00, 10909.42it/s]\u001b[A\n",
      " 54%|█████▍    | 5404/10000 [00:00<00:00, 10950.49it/s]\u001b[A\n",
      " 65%|██████▌   | 6500/10000 [00:00<00:00, 10933.68it/s]\u001b[A\n",
      " 76%|███████▌  | 7594/10000 [00:00<00:00, 10885.13it/s]\u001b[A\n",
      " 87%|████████▋ | 8683/10000 [00:00<00:00, 10429.85it/s]\u001b[A\n",
      "100%|██████████| 10000/10000 [00:00<00:00, 10447.37it/s][A\n",
      "\n",
      "  0%|          | 0/10000 [00:00<?, ?it/s]\u001b[A\n",
      " 10%|█         | 1001/10000 [00:00<00:00, 9706.68it/s]\u001b[A"
     ]
    },
    {
     "name": "stdout",
     "output_type": "stream",
     "text": [
      "Running experiment with rnd seed 16, nb levels 1, nb leaves per class 50\n"
     ]
    },
    {
     "name": "stderr",
     "output_type": "stream",
     "text": [
      "\n",
      " 22%|██▏       | 2162/10000 [00:00<00:00, 10809.23it/s]\u001b[A\n",
      " 34%|███▍      | 3441/10000 [00:00<00:00, 11705.11it/s]\u001b[A\n",
      " 46%|████▌     | 4613/10000 [00:00<00:00, 11308.83it/s]\u001b[A\n",
      " 57%|█████▋    | 5747/10000 [00:00<00:00, 9784.10it/s] \u001b[A\n",
      " 68%|██████▊   | 6755/10000 [00:00<00:00, 8839.92it/s]\u001b[A\n",
      " 77%|███████▋  | 7668/10000 [00:00<00:00, 8657.12it/s]\u001b[A\n",
      " 86%|████████▌ | 8552/10000 [00:00<00:00, 8558.94it/s]\u001b[A\n",
      "100%|██████████| 10000/10000 [00:01<00:00, 9423.53it/s][A\n",
      "\n",
      "  0%|          | 0/10000 [00:00<?, ?it/s]\u001b[A\n",
      "  8%|▊         | 822/10000 [00:00<00:01, 8216.80it/s]\u001b[A\n",
      " 19%|█▊        | 1853/10000 [00:00<00:00, 9441.51it/s]\u001b[A\n",
      " 29%|██▉       | 2901/10000 [00:00<00:00, 9535.12it/s]\u001b[A\n",
      " 39%|███▉      | 3879/10000 [00:00<00:00, 9627.93it/s]\u001b[A\n",
      " 50%|█████     | 5026/10000 [00:00<00:00, 10281.66it/s]\u001b[A\n",
      " 61%|██████    | 6056/10000 [00:00<00:00, 8635.91it/s] \u001b[A\n",
      " 70%|██████▉   | 6959/10000 [00:00<00:00, 7588.08it/s]\u001b[A\n",
      " 79%|███████▊  | 7868/10000 [00:00<00:00, 7982.43it/s]\u001b[A\n",
      " 88%|████████▊ | 8801/10000 [00:01<00:00, 8340.79it/s]\u001b[A\n",
      "100%|██████████| 10000/10000 [00:01<00:00, 8556.84it/s][A\n",
      "\n",
      "  0%|          | 0/10000 [00:00<?, ?it/s]\u001b[A\n",
      " 11%|█         | 1094/10000 [00:00<00:00, 10936.80it/s]\u001b[A"
     ]
    },
    {
     "name": "stdout",
     "output_type": "stream",
     "text": [
      "Running experiment with rnd seed 17, nb levels 1, nb leaves per class 50\n"
     ]
    },
    {
     "name": "stderr",
     "output_type": "stream",
     "text": [
      "\n",
      " 22%|██▏       | 2248/10000 [00:00<00:00, 11279.57it/s]\u001b[A\n",
      " 36%|███▌      | 3554/10000 [00:00<00:00, 12088.53it/s]\u001b[A\n",
      " 48%|████▊     | 4830/10000 [00:00<00:00, 12352.21it/s]\u001b[A\n",
      " 61%|██████    | 6086/10000 [00:00<00:00, 12425.54it/s]\u001b[A\n",
      " 73%|███████▎  | 7329/10000 [00:00<00:00, 11942.80it/s]\u001b[A\n",
      " 85%|████████▌ | 8527/10000 [00:00<00:00, 11221.50it/s]\u001b[A\n",
      "100%|██████████| 10000/10000 [00:00<00:00, 11279.10it/s][A\n",
      "\n",
      "  0%|          | 0/10000 [00:00<?, ?it/s]\u001b[A\n",
      "  9%|▉         | 892/10000 [00:00<00:01, 8914.82it/s]\u001b[A\n",
      " 20%|██        | 2027/10000 [00:00<00:00, 10345.71it/s]\u001b[A\n",
      " 31%|███       | 3062/10000 [00:00<00:00, 10197.90it/s]\u001b[A\n",
      " 41%|████▏     | 4140/10000 [00:00<00:00, 10422.76it/s]\u001b[A\n",
      " 52%|█████▎    | 5250/10000 [00:00<00:00, 10663.93it/s]\u001b[A\n",
      " 63%|██████▎   | 6336/10000 [00:00<00:00, 10728.14it/s]\u001b[A\n",
      " 74%|███████▍  | 7410/10000 [00:00<00:00, 10686.65it/s]\u001b[A\n",
      " 85%|████████▍ | 8479/10000 [00:00<00:00, 9811.89it/s] \u001b[A\n",
      "100%|██████████| 10000/10000 [00:01<00:00, 9887.81it/s][A\n",
      "\n",
      "  0%|          | 0/10000 [00:00<?, ?it/s]\u001b[A\n",
      " 10%|▉         | 978/10000 [00:00<00:00, 9779.52it/s]\u001b[A"
     ]
    },
    {
     "name": "stdout",
     "output_type": "stream",
     "text": [
      "Running experiment with rnd seed 18, nb levels 1, nb leaves per class 50\n"
     ]
    },
    {
     "name": "stderr",
     "output_type": "stream",
     "text": [
      "\n",
      " 21%|██        | 2116/10000 [00:00<00:00, 10716.94it/s]\u001b[A\n",
      " 33%|███▎      | 3301/10000 [00:00<00:00, 11197.77it/s]\u001b[A\n",
      " 45%|████▌     | 4539/10000 [00:00<00:00, 11662.64it/s]\u001b[A\n",
      " 57%|█████▋    | 5737/10000 [00:00<00:00, 11776.49it/s]\u001b[A\n",
      " 69%|██████▉   | 6915/10000 [00:00<00:00, 11479.95it/s]\u001b[A\n",
      " 81%|████████  | 8065/10000 [00:00<00:00, 10971.00it/s]\u001b[A\n",
      "100%|██████████| 10000/10000 [00:00<00:00, 10916.45it/s][A\n",
      "\n",
      "  0%|          | 0/10000 [00:00<?, ?it/s]\u001b[A\n",
      " 12%|█▏        | 1177/10000 [00:00<00:00, 11762.02it/s]\u001b[A\n",
      " 24%|██▎       | 2354/10000 [00:00<00:00, 10141.94it/s]\u001b[A\n",
      " 34%|███▍      | 3383/10000 [00:00<00:00, 9852.12it/s] \u001b[A\n",
      " 44%|████▍     | 4433/10000 [00:00<00:00, 10089.10it/s]\u001b[A\n",
      " 55%|█████▍    | 5471/10000 [00:00<00:00, 10187.26it/s]\u001b[A\n",
      " 65%|██████▌   | 6520/10000 [00:00<00:00, 10284.59it/s]\u001b[A\n",
      " 76%|███████▌  | 7560/10000 [00:00<00:00, 10320.26it/s]\u001b[A\n",
      " 86%|████████▌ | 8611/10000 [00:00<00:00, 10377.40it/s]\u001b[A\n",
      "100%|██████████| 10000/10000 [00:00<00:00, 10201.66it/s][A\n",
      "\n",
      "  0%|          | 0/10000 [00:00<?, ?it/s]\u001b[A\n",
      " 12%|█▏        | 1210/10000 [00:00<00:00, 12097.59it/s]\u001b[A"
     ]
    },
    {
     "name": "stdout",
     "output_type": "stream",
     "text": [
      "Running experiment with rnd seed 19, nb levels 1, nb leaves per class 50\n"
     ]
    },
    {
     "name": "stderr",
     "output_type": "stream",
     "text": [
      "\n",
      " 24%|██▍       | 2420/10000 [00:00<00:00, 10881.07it/s]\u001b[A\n",
      " 35%|███▌      | 3517/10000 [00:00<00:00, 10882.72it/s]\u001b[A\n",
      " 47%|████▋     | 4701/10000 [00:00<00:00, 11242.14it/s]\u001b[A\n",
      " 58%|█████▊    | 5830/10000 [00:00<00:00, 11051.85it/s]\u001b[A\n",
      " 69%|██████▉   | 6938/10000 [00:00<00:00, 10675.61it/s]\u001b[A\n",
      " 80%|████████  | 8009/10000 [00:00<00:00, 10671.34it/s]\u001b[A\n",
      "100%|██████████| 10000/10000 [00:00<00:00, 10903.22it/s][A\n",
      "\n",
      "  0%|          | 0/10000 [00:00<?, ?it/s]\u001b[A\n",
      " 12%|█▏        | 1178/10000 [00:00<00:00, 11776.11it/s]\u001b[A\n",
      " 24%|██▍       | 2379/10000 [00:00<00:00, 11910.59it/s]\u001b[A\n",
      " 36%|███▌      | 3571/10000 [00:00<00:00, 10920.80it/s]\u001b[A\n",
      " 47%|████▋     | 4673/10000 [00:00<00:00, 10754.33it/s]\u001b[A\n",
      " 58%|█████▊    | 5754/10000 [00:00<00:00, 10117.78it/s]\u001b[A\n",
      " 68%|██████▊   | 6801/10000 [00:00<00:00, 10211.47it/s]\u001b[A\n",
      " 79%|███████▉  | 7902/10000 [00:00<00:00, 10457.33it/s]\u001b[A\n",
      "100%|██████████| 10000/10000 [00:00<00:00, 10533.73it/s][A\n"
     ]
    }
   ],
   "source": [
    "settings = [(1, 5), (1, 10), (1, 50)]\n",
    "exp3_results = []\n",
    "new_results = []\n",
    "res=[]\n",
    "labels=[]\n",
    "\n",
    "\n",
    "for setting in tqdm(settings):\n",
    "    nb_levels, nb_leaves_per_class = setting\n",
    "    exp3_result, new_result, c, d = do_general_tree_experiment(nb_levels, nb_leaves_per_class)\n",
    "    exp3_results.append(exp3_result)\n",
    "    new_results.append(new_result)\n",
    "    res_exp3.append((c))\n",
    "    res_nexp.append(d)\n",
    "    res.append(c)\n",
    "    res.append(d)\n",
    "    labels.append('EXP3 - L {}, M {}'.format(nb_levels, nb_leaves_per_class))\n",
    "    labels.append('NEW - L {}, M {}'.format(nb_levels, nb_leaves_per_class))"
   ]
  },
  {
   "cell_type": "code",
   "execution_count": 94,
   "id": "3f32f554",
   "metadata": {},
   "outputs": [
    {
     "name": "stderr",
     "output_type": "stream",
     "text": [
      "No handles with labels found to put in legend.\n"
     ]
    },
    {
     "data": {
      "image/png": "[encoded data removed]",
      "text/plain": [
       "<Figure size 1440x576 with 1 Axes>"
      ]
     },
     "metadata": {},
     "output_type": "display_data"
    }
   ],
   "source": [
    "plt.figure(figsize=(20,8))\n",
    "plt.boxplot(res, labels=labels)\n",
    "plt.ylabel('Regret')\n",
    "plt.title('Env - Tree Structure - Final Regret CIs at $T=10000$')\n",
    "# plt.xscale('log')\n",
    "# plt.yscale('log')\n",
    "# ax1.set_ylim(1, 100)\n",
    "# ax1.set_xlim(100, 1000)\n",
    "plt.legend(ncol=2)\n",
    "plt.savefig('figure_general_regret_depth_slice2.pdf', bbox_inches = \"tight\")\n",
    "plt.show()"
   ]
  },
  {
   "cell_type": "code",
   "execution_count": 99,
   "id": "e4a7c05a",
   "metadata": {},
   "outputs": [
    {
     "data": {
      "image/png": "[encoded data removed]",
      "text/plain": [
       "<Figure size 900x400 with 1 Axes>"
      ]
     },
     "metadata": {},
     "output_type": "display_data"
    },
    {
     "data": {
      "image/png": "[encoded data removed]",
      "text/plain": [
       "<Figure size 900x400 with 1 Axes>"
      ]
     },
     "metadata": {},
     "output_type": "display_data"
    }
   ],
   "source": [
    "rounds = np.arange(1, max_rounds+1, 100)\n",
    "\n",
    "colors_exp3 = ['#1f77b4', 'mediumpurple', 'mediumblue', 'grey']\n",
    "colors_new = ['#ff7f0e', 'tomato', 'peru', 'gold']\n",
    "\n",
    "colors_exp3 = ['#1f77b4', 'blue', 'darkblue']\n",
    "# colors_new = ['#ff7f0e', 'tomato', 'peru', 'gold']\n",
    "# colors_new = ['lightgreen', 'limegreen', 'forestgreen', 'darkgreen', 'darkcyan', 'darkslategrey']\n",
    "\n",
    "# settings = [(5, 3), (6, 3), (7, 3)]\n",
    "markers = ['-', '--']\n",
    "markers = [\"1\", \"2\", \"3\", \"4\"]\n",
    "\n",
    "\n",
    "plt.figure(figsize=(9,4), dpi= 100, facecolor='w', edgecolor='k')\n",
    "for idx, exp3_result in enumerate(exp3_results):\n",
    "    # EXP3 \n",
    "    c = colors_exp3[idx]\n",
    "    exp3_regret, exp3_rgrt_std, exp3_reward, exp3_rwd_std = exp3_result\n",
    "    plt.plot(rounds, exp3_regret, label='EXP3 - L {}, M {}'.format(settings[idx][0], settings[idx][1]), color=c, linestyle='-', \n",
    "             marker=markers[idx] , markersize=12 ,markevery=5)\n",
    "# plt.plot(rounds, .5*rounds**(0.5), label='$t^{0.5}$', linestyle='-.')    \n",
    "for idx, new_result in enumerate(new_results[:3]):\n",
    "    # new\n",
    "    c = colors_exp3[idx]\n",
    "    new_regret, new_rgrt_std, new_reward, new_rwd_std = new_result\n",
    "    plt.plot(rounds, new_regret, label='NEW - L {}, M {}'.format(settings[idx][0], settings[idx][1]), color=c, linestyle='--', \n",
    "             marker=markers[idx] , markersize=12 ,markevery=5)\n",
    "\n",
    "# plt.xscale('log')\n",
    "# plt.yscale('log')\n",
    "plt.ylabel('Regret')\n",
    "plt.title('Env - Tree Structure - Regret')\n",
    "plt.legend(ncol=2)\n",
    "plt.savefig('figure_general_regret_depth2.pdf', bbox_inches = \"tight\")\n",
    "plt.show()\n",
    "\n",
    "plt.figure(figsize=(9,4), dpi= 100, facecolor='w', edgecolor='k')\n",
    "\n",
    "for idx, exp3_result in enumerate(exp3_results):\n",
    "    \n",
    "    # EXP3 \n",
    "    c = colors_exp3[idx]\n",
    "    exp3_regret, exp3_rgrt_std, exp3_reward, exp3_rwd_std = exp3_result\n",
    "    plt.plot(rounds, exp3_reward, label='EXP3 - L {}, M {}'.format(settings[idx][0], settings[idx][1]), color=c, linestyle='-',\n",
    "             marker=markers[idx] , markersize=12 ,markevery=5)\n",
    "    \n",
    "for idx, new_result in enumerate(new_results):\n",
    "        \n",
    "    # new \n",
    "    c = colors_exp3[idx]\n",
    "    new_regret, new_rgrt_std, new_reward, new_rwd_std = new_result\n",
    "    plt.plot(rounds, new_reward, label='NEW - L {}, M {}'.format(settings[idx][0], settings[idx][1]), color=c, linestyle='--',\n",
    "             marker=markers[idx] , markersize=12 ,markevery=5)\n",
    "      \n",
    "plt.xlabel('Steps')\n",
    "plt.ylabel('Average Reward')\n",
    "plt.title('Env - Tree Structure - Average Reward')\n",
    "plt.legend(ncol=2)\n",
    "plt.savefig('figure_general_avg_reward_depth2.pdf', bbox_inches = \"tight\")\n",
    "\n",
    "# fig.suptitle(\"Env - Blue Bus Red Bus Paradox\", fontsize=14)\n",
    "plt.show()"
   ]
  },
  {
   "cell_type": "code",
   "execution_count": 18,
   "id": "cb5d9d67",
   "metadata": {},
   "outputs": [],
   "source": [
    "def do_shallow_experiment(nb_levels, nb_leaves_per_class, max_rounds=10000, nb_rds=5):\n",
    "\n",
    "    exp3_regrets = np.zeros((nb_rds, int(max_rounds/100)))\n",
    "    exp3_rewards = np.zeros((nb_rds, int(max_rounds/100)))\n",
    "    new_regrets = np.zeros((nb_rds, int(max_rounds/100)))\n",
    "    new_rewards = np.zeros((nb_rds, int(max_rounds/100)))\n",
    "\n",
    "    for rd in range(nb_rds):\n",
    "        settings = {\n",
    "            'rd': rd,\n",
    "            'max_rounds': max_rounds,\n",
    "            'nb_leaves_per_class': nb_leaves_per_class,\n",
    "            'nb_levels': nb_levels,\n",
    "            'env': 'general',\n",
    "            'algo': 'exp3',\n",
    "        }\n",
    "        metrics = do_single_experiment(rd, settings)\n",
    "        rounds = metrics['round']\n",
    "        exp3_regrets[rd] = metrics['regret']\n",
    "        exp3_rewards[rd] = metrics['reward']\n",
    "        \n",
    "        settings['algo'] = 'new'\n",
    "        metrics = do_single_experiment(rd, settings)\n",
    "        rounds = metrics['round']\n",
    "        new_regrets[rd] = metrics['regret']\n",
    "        new_rewards[rd] = metrics['reward']\n",
    "\n",
    "    # EXP3\n",
    "    exp3_rgrt_std = np.std(exp3_regrets, axis=0)\n",
    "    exp3_rwd_std = np.std(exp3_rewards, axis=0)\n",
    "    exp3_regret = np.mean(exp3_regrets, axis=0)\n",
    "    exp3_reward = np.mean(exp3_rewards, axis=0)\n",
    "    \n",
    "    exp3_result = (exp3_regret, exp3_rgrt_std, exp3_reward, exp3_rwd_std)\n",
    "\n",
    "    # new\n",
    "    new_rgrt_std = np.std(new_regrets, axis=0)\n",
    "    new_rwd_std = np.std(new_rewards, axis=0)\n",
    "    new_regret = np.mean(new_regrets, axis=0) \n",
    "    new_reward = np.mean(new_rewards, axis=0)\n",
    "    \n",
    "    new_result = (new_regret, new_rgrt_std, new_reward, new_rwd_std)\n",
    "    \n",
    "    return exp3_result, new_result"
   ]
  },
  {
   "cell_type": "code",
   "execution_count": 19,
   "id": "27fce167",
   "metadata": {
    "scrolled": true
   },
   "outputs": [
    {
     "name": "stderr",
     "output_type": "stream",
     "text": [
      "100%|██████████| 10000/10000 [00:00<00:00, 12740.59it/s]\n",
      "100%|██████████| 10000/10000 [00:00<00:00, 12195.78it/s]\n",
      "100%|██████████| 10000/10000 [00:00<00:00, 13197.02it/s]\n",
      "100%|██████████| 10000/10000 [00:00<00:00, 11631.83it/s]\n",
      "100%|██████████| 10000/10000 [00:00<00:00, 12725.72it/s]\n",
      "100%|██████████| 10000/10000 [00:01<00:00, 9766.23it/s]\n",
      "100%|██████████| 10000/10000 [00:00<00:00, 11478.13it/s]\n",
      "100%|██████████| 10000/10000 [00:00<00:00, 11435.17it/s]\n",
      "100%|██████████| 10000/10000 [00:00<00:00, 11755.94it/s]\n",
      "100%|██████████| 10000/10000 [00:00<00:00, 11184.61it/s]\n",
      "100%|██████████| 10000/10000 [00:01<00:00, 9965.27it/s]\n",
      "100%|██████████| 10000/10000 [00:01<00:00, 7999.35it/s]\n",
      "100%|██████████| 10000/10000 [00:00<00:00, 10995.32it/s]\n",
      "100%|██████████| 10000/10000 [00:00<00:00, 11099.27it/s]\n",
      "100%|██████████| 10000/10000 [00:00<00:00, 12250.80it/s]\n",
      "100%|██████████| 10000/10000 [00:00<00:00, 11287.42it/s]\n",
      "100%|██████████| 10000/10000 [00:00<00:00, 12131.42it/s]\n",
      "100%|██████████| 10000/10000 [00:01<00:00, 8830.37it/s]\n",
      "100%|██████████| 10000/10000 [00:00<00:00, 10833.66it/s]\n",
      "100%|██████████| 10000/10000 [00:00<00:00, 11272.33it/s]\n",
      "100%|██████████| 10000/10000 [00:00<00:00, 10081.80it/s]\n",
      "100%|██████████| 10000/10000 [00:00<00:00, 10374.18it/s]\n",
      "100%|██████████| 10000/10000 [00:00<00:00, 11211.62it/s]\n",
      "100%|██████████| 10000/10000 [00:00<00:00, 10209.37it/s]\n",
      "100%|██████████| 10000/10000 [00:00<00:00, 11129.55it/s]\n",
      "100%|██████████| 10000/10000 [00:00<00:00, 11407.81it/s]\n",
      "100%|██████████| 10000/10000 [00:00<00:00, 12216.25it/s]\n",
      "100%|██████████| 10000/10000 [00:00<00:00, 10316.20it/s]\n",
      "100%|██████████| 10000/10000 [00:00<00:00, 11531.79it/s]\n",
      "100%|██████████| 10000/10000 [00:01<00:00, 9540.18it/s]\n"
     ]
    }
   ],
   "source": [
    "settings = [(1, 5), (1, 10), (1, 50)]\n",
    "exp3_results = []\n",
    "new_results = []\n",
    "\n",
    "for setting in settings:\n",
    "    nb_levels, nb_leaves_per_class = setting\n",
    "    exp3_result, new_result = do_shallow_experiment(nb_levels, nb_leaves_per_class)\n",
    "    exp3_results.append(exp3_result)\n",
    "    new_results.append(new_result)"
   ]
  },
  {
   "cell_type": "code",
   "execution_count": 22,
   "id": "fc635f71",
   "metadata": {},
   "outputs": [
    {
     "data": {
      "image/png": "[encoded data removed]",
      "text/plain": [
       "<Figure size 900x400 with 1 Axes>"
      ]
     },
     "metadata": {},
     "output_type": "display_data"
    },
    {
     "data": {
      "image/png": "[encoded data removed]",
      "text/plain": [
       "<Figure size 900x400 with 1 Axes>"
      ]
     },
     "metadata": {},
     "output_type": "display_data"
    }
   ],
   "source": [
    "rounds = np.arange(0, max_rounds, 10)\n",
    "\n",
    "colors_exp3 = ['#1f77b4', 'mediumpurple', 'mediumblue', 'grey']\n",
    "# colors_new = ['#ff7f0e', 'tomato', 'peru', 'gold']\n",
    "\n",
    "# colors_exp3 = ['#1f77b4', 'blue', 'darkblue']\n",
    "colors_exp3 = ['#ff7f0e', 'tomato', 'peru', 'gold']\n",
    "colors_new = ['lightgreen', 'limegreen', 'forestgreen', 'darkgreen', 'darkcyan', 'darkslategrey']\n",
    "\n",
    "settings = [(1, 5), (1, 10), (1, 50)]\n",
    "markers = ['-', '--']\n",
    "\n",
    "plt.figure(figsize=(9,4), dpi= 100, facecolor='w', edgecolor='k')\n",
    "for idx, exp3_result in enumerate(exp3_results):\n",
    "    # EXP3 \n",
    "    c = colors_exp3[idx]\n",
    "    exp3_regret, exp3_rgrt_std, exp3_reward, exp3_rwd_std = exp3_result\n",
    "    plt.plot(rounds, exp3_regret, label='EXP3 - L {}, M {}'.format(settings[idx][0], settings[idx][1]), color=c, linestyle='-')\n",
    "    \n",
    "for idx, new_result in enumerate(new_results):\n",
    "    # new\n",
    "    c = colors_new[idx]\n",
    "    new_regret, new_rgrt_std, new_reward, new_rwd_std = new_result\n",
    "    plt.plot(rounds, new_regret, label='NEW - L {}, M {}'.format(settings[idx][0], settings[idx][1]), color=c, linestyle='--')\n",
    "\n",
    "\n",
    "plt.ylabel('Regret')\n",
    "plt.title('Env - Tree Structure - Regret')\n",
    "plt.legend()\n",
    "plt.savefig('figure_general_regret_check.pdf', bbox_inches = \"tight\")\n",
    "plt.show()\n",
    "\n",
    "plt.figure(figsize=(9,4), dpi= 100, facecolor='w', edgecolor='k')\n",
    "\n",
    "for idx, exp3_result in enumerate(exp3_results):\n",
    "    \n",
    "    # EXP3 \n",
    "    c = colors_exp3[idx]\n",
    "    exp3_regret, exp3_rgrt_std, exp3_reward, exp3_rwd_std = exp3_result\n",
    "    plt.plot(rounds, exp3_reward, label='EXP3 - L {}, M {}'.format(settings[idx][0], settings[idx][1]), color=c, linestyle='-')\n",
    "    \n",
    "for idx, new_result in enumerate(new_results):\n",
    "        \n",
    "    # new \n",
    "    c = colors_new[idx]\n",
    "    new_regret, new_rgrt_std, new_reward, new_rwd_std = new_result\n",
    "    plt.plot(rounds, new_reward, label='NEW - L {}, M {}'.format(settings[idx][0], settings[idx][1]), color=c, linestyle='--')\n",
    "      \n",
    "plt.xlabel('Steps')\n",
    "plt.ylabel('Average Reward')\n",
    "plt.title('Env - Tree Structure - Average Reward')\n",
    "plt.legend()\n",
    "plt.savefig('figure_general_avg_reward_check.pdf', bbox_inches = \"tight\")\n",
    "\n",
    "# fig.suptitle(\"Env - Blue Bus Red Bus Paradox\", fontsize=14)\n",
    "plt.show()"
   ]
  },
  {
   "cell_type": "code",
   "execution_count": 23,
   "id": "1a40ec4e",
   "metadata": {},
   "outputs": [],
   "source": [
    "exp3_regret, exp3_rgrt_std, exp3_reward, exp3_rwd_std = exp3_result\n",
    "new_regret, new_rgrt_std, new_reward, new_rwd_std = new_result\n",
    "max_rounds = 10000"
   ]
  },
  {
   "cell_type": "code",
   "execution_count": 24,
   "id": "0cbfe605",
   "metadata": {},
   "outputs": [
    {
     "data": {
      "image/png": "[encoded data removed]",
      "text/plain": [
       "<Figure size 1080x360 with 2 Axes>"
      ]
     },
     "metadata": {},
     "output_type": "display_data"
    }
   ],
   "source": [
    "fig, (ax1, ax2) = plt.subplots(1, 2, figsize=(15, 5))\n",
    "nb_levels=1; nb_leaves_per_class=2\n",
    "rounds = np.arange(0, max_rounds, 100)\n",
    "\n",
    "ax1.plot(rounds, exp3_regret, label='EXP3')\n",
    "ax1.plot(rounds, new_regret, label='NEW')\n",
    "ax1.set_xlabel('Steps')\n",
    "ax1.set_ylabel('Regret')\n",
    "ax1.set_title('Regret')\n",
    "ax1.legend()\n",
    "ax2.plot(rounds, exp3_reward, label='EXP3')\n",
    "ax2.plot(rounds, new_reward, label='NEW')\n",
    "ax2.set_xlabel('Steps')\n",
    "ax2.set_ylabel('Average Reward')\n",
    "ax2.set_title('Average Reward')\n",
    "ax2.legend()\n",
    "fig.suptitle(\"Env - {} levels - {} leaves per class\".format(nb_levels, nb_leaves_per_class), fontsize=14)\n",
    "plt.show()"
   ]
  },
  {
   "cell_type": "markdown",
   "id": "a69c74ed",
   "metadata": {},
   "source": [
    "### Visualisation tools"
   ]
  },
  {
   "cell_type": "code",
   "execution_count": 27,
   "id": "b8b8431c",
   "metadata": {},
   "outputs": [
    {
     "name": "stderr",
     "output_type": "stream",
     "text": [
      "100%|██████████| 10000/10000 [00:02<00:00, 4127.57it/s]\n"
     ]
    }
   ],
   "source": [
    "rd = 42\n",
    "max_rounds = 10000\n",
    "nb_leaves_per_class = 3\n",
    "nb_levels = 4\n",
    "\n",
    "settings = {\n",
    "    'rd': rd,\n",
    "    'max_rounds': max_rounds,\n",
    "    'nb_leaves_per_class': nb_leaves_per_class,\n",
    "    'nb_levels': nb_levels,\n",
    "    'env': 'general',\n",
    "    'algo': 'new',\n",
    "}\n",
    "\n",
    "env = get_env_by_name(settings)\n",
    "env.set()\n",
    "agent = get_algo_by_name(settings)\n",
    "agent.set_environment(env)\n",
    "metrics = agent.iterate_learning()"
   ]
  },
  {
   "cell_type": "code",
   "execution_count": 28,
   "id": "08a1ae92",
   "metadata": {},
   "outputs": [
    {
     "data": {
      "image/png": "[encoded data removed]",
      "text/plain": [
       "<Figure size 432x288 with 1 Axes>"
      ]
     },
     "metadata": {},
     "output_type": "display_data"
    },
    {
     "data": {
      "image/png": "[encoded data removed]",
      "text/plain": [
       "<Figure size 432x288 with 1 Axes>"
      ]
     },
     "metadata": {},
     "output_type": "display_data"
    },
    {
     "data": {
      "image/png": "[encoded data removed]",
      "text/plain": [
       "<Figure size 432x288 with 1 Axes>"
      ]
     },
     "metadata": {},
     "output_type": "display_data"
    },
    {
     "data": {
      "image/png": "[encoded data removed]",
      "text/plain": [
       "<Figure size 432x288 with 1 Axes>"
      ]
     },
     "metadata": {},
     "output_type": "display_data"
    },
    {
     "data": {
      "image/png": "[encoded data removed]",
      "text/plain": [
       "<Figure size 432x288 with 1 Axes>"
      ]
     },
     "metadata": {},
     "output_type": "display_data"
    }
   ],
   "source": [
    "def visualize_scores_through_path(env, path=None):\n",
    "    \n",
    "    if not path:\n",
    "        path = env.best_strategy_nodes_path\n",
    "    def visualize_by_node(node, idx):\n",
    "\n",
    "        scores = node.scores_children\n",
    "        scores = scores/np.sum(scores)\n",
    "        level_correction =  10**(-node.level)\n",
    "        means = [node.value/level_correction for node in node.children]\n",
    "        scales = 0.1 * 0.1\n",
    "        x_idxes = np.arange(1, node.scores_children.shape[0]+1)\n",
    "        plt.figure()\n",
    "        plt.bar(x_idxes, scores, width=0.9, color='lightsteelblue', label='Normalized score vector')\n",
    "        plt.errorbar(x_idxes, means, yerr=scales, label='Rescaled reward distribution', color='royalblue')\n",
    "        plt.xticks(x_idxes)\n",
    "        plt.legend(loc=\"upper left\")\n",
    "        plt.title(\"NEW - Level {}\".format(node.level))\n",
    "        plt.savefig('visualisation_new_level_{}.pdf'.format(node.level), bbox_inches = \"tight\")\n",
    "\n",
    "    for idx, node in enumerate(path):\n",
    "        visualize_by_node(node, idx)\n",
    "        \n",
    "visualize_scores_through_path(env)"
   ]
  },
  {
   "cell_type": "code",
   "execution_count": 35,
   "id": "2b8cf6b0",
   "metadata": {},
   "outputs": [
    {
     "data": {
      "application/vnd.jupyter.widget-view+json": {
       "model_id": "1869c66526da4929a21f420876252c1a",
       "version_major": 2,
       "version_minor": 0
      },
      "text/plain": [
       "  0%|          | 0/10000 [00:00<?, ?it/s]"
      ]
     },
     "metadata": {},
     "output_type": "display_data"
    },
    {
     "data": {
      "image/png": "[encoded data removed]",
      "text/plain": [
       "<Figure size 432x288 with 1 Axes>"
      ]
     },
     "metadata": {},
     "output_type": "display_data"
    }
   ],
   "source": [
    "\n",
    "\n",
    "settings['algo'] = 'exp3' \n",
    "\n",
    "env = get_env_by_name(settings)\n",
    "env.set()\n",
    "agent = get_algo_by_name(settings)\n",
    "agent.set_environment(env)\n",
    "\n",
    "def visualize(scores):\n",
    "\n",
    "    scores = score_vector/np.sum(score_vector)\n",
    "\n",
    "    path_action_sets = [env.tree.get_parent_nodes(action_node) for action_node in agent.action_set]\n",
    "\n",
    "    means = np.zeros_like(scores)\n",
    "\n",
    "    for idx, path in enumerate(path_action_sets):\n",
    "        means[idx] = np.sum([node.value for node in path])\n",
    "\n",
    "\n",
    "    scales = 0.1 * 0.1\n",
    "    x_idxes = np.arange(1, scores.shape[0]+1)\n",
    "    plt.figure()\n",
    "    plt.bar(x_idxes, scores, width=0.9, color='lightsteelblue', label='Normalized score vector')\n",
    "    plt.errorbar(x_idxes, means, yerr=scales, label='Rescaled reward distribution', color='royalblue')\n",
    "    x_ticks = np.arange(1, scores.shape[0]+1, 10)\n",
    "    plt.xticks(x_ticks)\n",
    "    plt.legend(loc=\"upper right\")\n",
    "    plt.title(\"EXP3 on all alternatives\")\n",
    "    plt.savefig('visualisation_exp3.pdf', bbox_inches = \"tight\")\n",
    "    \n",
    "self = agent\n",
    "initial_dist = np.full(self.number_of_actions, 1.0 / self.number_of_actions)\n",
    "score_vector = initial_dist\n",
    "\n",
    "metrics = {\n",
    "    'reward': [],\n",
    "    'regret': [],\n",
    "    'round': []\n",
    "}\n",
    "regrets = []\n",
    "rewards = []\n",
    "store_score = []\n",
    "action_sampled = []\n",
    "\n",
    "\n",
    "for round_ in tqdm(range(0, self.max_round)):\n",
    "\n",
    "    # Choose action\n",
    "    lr = 1/np.sqrt(round_+1)\n",
    "    action, proba = self.sample_action(score_vector*lr)\n",
    "    action_sampled.append(action)\n",
    "\n",
    "    # Receive rewards from environment\n",
    "    reward = self.environment.get_reward_by_path(self.paths_action_set[action])\n",
    "    best_strategy_reward = self.environment.get_best_strategy_reward()\n",
    "    regrets.append(best_strategy_reward - reward)\n",
    "    rewards.append(reward)\n",
    "\n",
    "    # Update scores\n",
    "    score_vector = self.update_score(score_vector, proba, action, reward)\n",
    "#     print(action, score_vector)\n",
    "    store_score.append(score_vector)\n",
    "\n",
    "    if round_ % 100 == 0:\n",
    "        metrics['reward'].append(np.mean(rewards))\n",
    "        regret = np.sum(regrets)\n",
    "        metrics['regret'].append(regret)\n",
    "        metrics['round'].append(round)\n",
    "\n",
    "# Visualisation\n",
    "# self.score_vector = score\n",
    "        \n",
    "visualize(score_vector)\n",
    "\n"
   ]
  }
 ],
 "metadata": {
  "kernelspec": {
   "display_name": "Python 3 (ipykernel)",
   "language": "python",
   "name": "python3"
  },
  "language_info": {
   "codemirror_mode": {
    "name": "ipython",
    "version": 3
   },
   "file_extension": ".py",
   "mimetype": "text/x-python",
   "name": "python",
   "nbconvert_exporter": "python",
   "pygments_lexer": "ipython3",
   "version": "3.9.7"
  }
 },
 "nbformat": 4,
 "nbformat_minor": 5
}
